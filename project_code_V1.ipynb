{
 "cells": [
  {
   "cell_type": "code",
   "execution_count": null,
   "metadata": {
    "ExecuteTime": {
     "end_time": "2023-11-15T10:06:29.627120900Z",
     "start_time": "2023-11-15T10:06:29.610425800Z"
    }
   },
   "outputs": [
    {
     "data": {
      "text/html": [
       "<script type=\"esms-options\">{\"shimMode\": true}</script><style>*[data-root-id],\n",
       "*[data-root-id] > * {\n",
       "  box-sizing: border-box;\n",
       "  font-family: var(--jp-ui-font-family);\n",
       "  font-size: var(--jp-ui-font-size1);\n",
       "  color: var(--vscode-editor-foreground, var(--jp-ui-font-color1));\n",
       "}\n",
       "\n",
       "/* Override VSCode background color */\n",
       ".cell-output-ipywidget-background:has(\n",
       "    > .cell-output-ipywidget-background > .lm-Widget > *[data-root-id]\n",
       "  ),\n",
       ".cell-output-ipywidget-background:has(> .lm-Widget > *[data-root-id]) {\n",
       "  background-color: transparent !important;\n",
       "}\n",
       "</style>"
      ]
     },
     "metadata": {},
     "output_type": "display_data"
    },
    {
     "data": {
      "application/javascript": "(function(root) {\n  function now() {\n    return new Date();\n  }\n\n  const force = true;\n  const py_version = '3.6.0'.replace('rc', '-rc.').replace('.dev', '-dev.');\n  const reloading = false;\n  const Bokeh = root.Bokeh;\n\n  // Set a timeout for this load but only if we are not already initializing\n  if (typeof (root._bokeh_timeout) === \"undefined\" || (force || !root._bokeh_is_initializing)) {\n    root._bokeh_timeout = Date.now() + 5000;\n    root._bokeh_failed_load = false;\n  }\n\n  function run_callbacks() {\n    try {\n      root._bokeh_onload_callbacks.forEach(function(callback) {\n        if (callback != null)\n          callback();\n      });\n    } finally {\n      delete root._bokeh_onload_callbacks;\n    }\n    console.debug(\"Bokeh: all callbacks have finished\");\n  }\n\n  function load_libs(css_urls, js_urls, js_modules, js_exports, callback) {\n    if (css_urls == null) css_urls = [];\n    if (js_urls == null) js_urls = [];\n    if (js_modules == null) js_modules = [];\n    if (js_exports == null) js_exports = {};\n\n    root._bokeh_onload_callbacks.push(callback);\n\n    if (root._bokeh_is_loading > 0) {\n      // Don't load bokeh if it is still initializing\n      console.debug(\"Bokeh: BokehJS is being loaded, scheduling callback at\", now());\n      return null;\n    } else if (js_urls.length === 0 && js_modules.length === 0 && Object.keys(js_exports).length === 0) {\n      // There is nothing to load\n      run_callbacks();\n      return null;\n    }\n\n    function on_load() {\n      root._bokeh_is_loading--;\n      if (root._bokeh_is_loading === 0) {\n        console.debug(\"Bokeh: all BokehJS libraries/stylesheets loaded\");\n        run_callbacks()\n      }\n    }\n    window._bokeh_on_load = on_load\n\n    function on_error(e) {\n      const src_el = e.srcElement\n      console.error(\"failed to load \" + (src_el.href || src_el.src));\n    }\n\n    const skip = [];\n    if (window.requirejs) {\n      window.requirejs.config({'packages': {}, 'paths': {}, 'shim': {}});\n      root._bokeh_is_loading = css_urls.length + 0;\n    } else {\n      root._bokeh_is_loading = css_urls.length + js_urls.length + js_modules.length + Object.keys(js_exports).length;\n    }\n\n    const existing_stylesheets = []\n    const links = document.getElementsByTagName('link')\n    for (let i = 0; i < links.length; i++) {\n      const link = links[i]\n      if (link.href != null) {\n        existing_stylesheets.push(link.href)\n      }\n    }\n    for (let i = 0; i < css_urls.length; i++) {\n      const url = css_urls[i];\n      const escaped = encodeURI(url)\n      if (existing_stylesheets.indexOf(escaped) !== -1) {\n        on_load()\n        continue;\n      }\n      const element = document.createElement(\"link\");\n      element.onload = on_load;\n      element.onerror = on_error;\n      element.rel = \"stylesheet\";\n      element.type = \"text/css\";\n      element.href = url;\n      console.debug(\"Bokeh: injecting link tag for BokehJS stylesheet: \", url);\n      document.body.appendChild(element);\n    }    var existing_scripts = []\n    const scripts = document.getElementsByTagName('script')\n    for (let i = 0; i < scripts.length; i++) {\n      var script = scripts[i]\n      if (script.src != null) {\n        existing_scripts.push(script.src)\n      }\n    }\n    for (let i = 0; i < js_urls.length; i++) {\n      const url = js_urls[i];\n      const escaped = encodeURI(url)\n      if (skip.indexOf(escaped) !== -1 || existing_scripts.indexOf(escaped) !== -1) {\n        if (!window.requirejs) {\n          on_load();\n        }\n        continue;\n      }\n      const element = document.createElement('script');\n      element.onload = on_load;\n      element.onerror = on_error;\n      element.async = false;\n      element.src = url;\n      console.debug(\"Bokeh: injecting script tag for BokehJS library: \", url);\n      document.head.appendChild(element);\n    }\n    for (let i = 0; i < js_modules.length; i++) {\n      const url = js_modules[i];\n      const escaped = encodeURI(url)\n      if (skip.indexOf(escaped) !== -1 || existing_scripts.indexOf(escaped) !== -1) {\n        if (!window.requirejs) {\n          on_load();\n        }\n        continue;\n      }\n      var element = document.createElement('script');\n      element.onload = on_load;\n      element.onerror = on_error;\n      element.async = false;\n      element.src = url;\n      element.type = \"module\";\n      console.debug(\"Bokeh: injecting script tag for BokehJS library: \", url);\n      document.head.appendChild(element);\n    }\n    for (const name in js_exports) {\n      const url = js_exports[name];\n      const escaped = encodeURI(url)\n      if (skip.indexOf(escaped) >= 0 || root[name] != null) {\n        if (!window.requirejs) {\n          on_load();\n        }\n        continue;\n      }\n      var element = document.createElement('script');\n      element.onerror = on_error;\n      element.async = false;\n      element.type = \"module\";\n      console.debug(\"Bokeh: injecting script tag for BokehJS library: \", url);\n      element.textContent = `\n      import ${name} from \"${url}\"\n      window.${name} = ${name}\n      window._bokeh_on_load()\n      `\n      document.head.appendChild(element);\n    }\n    if (!js_urls.length && !js_modules.length) {\n      on_load()\n    }\n  };\n\n  function inject_raw_css(css) {\n    const element = document.createElement(\"style\");\n    element.appendChild(document.createTextNode(css));\n    document.body.appendChild(element);\n  }\n\n  const js_urls = [\"https://cdn.holoviz.org/panel/1.5.3/dist/bundled/reactiveesm/es-module-shims@^1.10.0/dist/es-module-shims.min.js\", \"https://cdn.bokeh.org/bokeh/release/bokeh-3.6.0.min.js\", \"https://cdn.bokeh.org/bokeh/release/bokeh-gl-3.6.0.min.js\", \"https://cdn.bokeh.org/bokeh/release/bokeh-widgets-3.6.0.min.js\", \"https://cdn.bokeh.org/bokeh/release/bokeh-tables-3.6.0.min.js\", \"https://cdn.holoviz.org/panel/1.5.3/dist/panel.min.js\"];\n  const js_modules = [];\n  const js_exports = {};\n  const css_urls = [];\n  const inline_js = [    function(Bokeh) {\n      Bokeh.set_log_level(\"info\");\n    },\nfunction(Bokeh) {} // ensure no trailing comma for IE\n  ];\n\n  function run_inline_js() {\n    if ((root.Bokeh !== undefined) || (force === true)) {\n      for (let i = 0; i < inline_js.length; i++) {\n        try {\n          inline_js[i].call(root, root.Bokeh);\n        } catch(e) {\n          if (!reloading) {\n            throw e;\n          }\n        }\n      }\n      // Cache old bokeh versions\n      if (Bokeh != undefined && !reloading) {\n        var NewBokeh = root.Bokeh;\n        if (Bokeh.versions === undefined) {\n          Bokeh.versions = new Map();\n        }\n        if (NewBokeh.version !== Bokeh.version) {\n          Bokeh.versions.set(NewBokeh.version, NewBokeh)\n        }\n        root.Bokeh = Bokeh;\n      }\n    } else if (Date.now() < root._bokeh_timeout) {\n      setTimeout(run_inline_js, 100);\n    } else if (!root._bokeh_failed_load) {\n      console.log(\"Bokeh: BokehJS failed to load within specified timeout.\");\n      root._bokeh_failed_load = true;\n    }\n    root._bokeh_is_initializing = false\n  }\n\n  function load_or_wait() {\n    // Implement a backoff loop that tries to ensure we do not load multiple\n    // versions of Bokeh and its dependencies at the same time.\n    // In recent versions we use the root._bokeh_is_initializing flag\n    // to determine whether there is an ongoing attempt to initialize\n    // bokeh, however for backward compatibility we also try to ensure\n    // that we do not start loading a newer (Panel>=1.0 and Bokeh>3) version\n    // before older versions are fully initialized.\n    if (root._bokeh_is_initializing && Date.now() > root._bokeh_timeout) {\n      // If the timeout and bokeh was not successfully loaded we reset\n      // everything and try loading again\n      root._bokeh_timeout = Date.now() + 5000;\n      root._bokeh_is_initializing = false;\n      root._bokeh_onload_callbacks = undefined;\n      root._bokeh_is_loading = 0\n      console.log(\"Bokeh: BokehJS was loaded multiple times but one version failed to initialize.\");\n      load_or_wait();\n    } else if (root._bokeh_is_initializing || (typeof root._bokeh_is_initializing === \"undefined\" && root._bokeh_onload_callbacks !== undefined)) {\n      setTimeout(load_or_wait, 100);\n    } else {\n      root._bokeh_is_initializing = true\n      root._bokeh_onload_callbacks = []\n      const bokeh_loaded = root.Bokeh != null && (root.Bokeh.version === py_version || (root.Bokeh.versions !== undefined && root.Bokeh.versions.has(py_version)));\n      if (!reloading && !bokeh_loaded) {\n        if (root.Bokeh) {\n          root.Bokeh = undefined;\n        }\n        console.debug(\"Bokeh: BokehJS not loaded, scheduling load and callback at\", now());\n      }\n      load_libs(css_urls, js_urls, js_modules, js_exports, function() {\n        console.debug(\"Bokeh: BokehJS plotting callback run at\", now());\n        run_inline_js();\n      });\n    }\n  }\n  // Give older versions of the autoload script a head-start to ensure\n  // they initialize before we start loading newer version.\n  setTimeout(load_or_wait, 100)\n}(window));",
      "application/vnd.holoviews_load.v0+json": ""
     },
     "metadata": {},
     "output_type": "display_data"
    },
    {
     "data": {
      "application/javascript": "\nif ((window.PyViz === undefined) || (window.PyViz instanceof HTMLElement)) {\n  window.PyViz = {comms: {}, comm_status:{}, kernels:{}, receivers: {}, plot_index: []}\n}\n\n\n    function JupyterCommManager() {\n    }\n\n    JupyterCommManager.prototype.register_target = function(plot_id, comm_id, msg_handler) {\n      if (window.comm_manager || ((window.Jupyter !== undefined) && (Jupyter.notebook.kernel != null))) {\n        var comm_manager = window.comm_manager || Jupyter.notebook.kernel.comm_manager;\n        comm_manager.register_target(comm_id, function(comm) {\n          comm.on_msg(msg_handler);\n        });\n      } else if ((plot_id in window.PyViz.kernels) && (window.PyViz.kernels[plot_id])) {\n        window.PyViz.kernels[plot_id].registerCommTarget(comm_id, function(comm) {\n          comm.onMsg = msg_handler;\n        });\n      } else if (typeof google != 'undefined' && google.colab.kernel != null) {\n        google.colab.kernel.comms.registerTarget(comm_id, (comm) => {\n          var messages = comm.messages[Symbol.asyncIterator]();\n          function processIteratorResult(result) {\n            var message = result.value;\n            console.log(message)\n            var content = {data: message.data, comm_id};\n            var buffers = []\n            for (var buffer of message.buffers || []) {\n              buffers.push(new DataView(buffer))\n            }\n            var metadata = message.metadata || {};\n            var msg = {content, buffers, metadata}\n            msg_handler(msg);\n            return messages.next().then(processIteratorResult);\n          }\n          return messages.next().then(processIteratorResult);\n        })\n      }\n    }\n\n    JupyterCommManager.prototype.get_client_comm = function(plot_id, comm_id, msg_handler) {\n      if (comm_id in window.PyViz.comms) {\n        return window.PyViz.comms[comm_id];\n      } else if (window.comm_manager || ((window.Jupyter !== undefined) && (Jupyter.notebook.kernel != null))) {\n        var comm_manager = window.comm_manager || Jupyter.notebook.kernel.comm_manager;\n        var comm = comm_manager.new_comm(comm_id, {}, {}, {}, comm_id);\n        if (msg_handler) {\n          comm.on_msg(msg_handler);\n        }\n      } else if ((plot_id in window.PyViz.kernels) && (window.PyViz.kernels[plot_id])) {\n        var comm = window.PyViz.kernels[plot_id].connectToComm(comm_id);\n        comm.open();\n        if (msg_handler) {\n          comm.onMsg = msg_handler;\n        }\n      } else if (typeof google != 'undefined' && google.colab.kernel != null) {\n        var comm_promise = google.colab.kernel.comms.open(comm_id)\n        comm_promise.then((comm) => {\n          window.PyViz.comms[comm_id] = comm;\n          if (msg_handler) {\n            var messages = comm.messages[Symbol.asyncIterator]();\n            function processIteratorResult(result) {\n              var message = result.value;\n              var content = {data: message.data};\n              var metadata = message.metadata || {comm_id};\n              var msg = {content, metadata}\n              msg_handler(msg);\n              return messages.next().then(processIteratorResult);\n            }\n            return messages.next().then(processIteratorResult);\n          }\n        }) \n        var sendClosure = (data, metadata, buffers, disposeOnDone) => {\n          return comm_promise.then((comm) => {\n            comm.send(data, metadata, buffers, disposeOnDone);\n          });\n        };\n        var comm = {\n          send: sendClosure\n        };\n      }\n      window.PyViz.comms[comm_id] = comm;\n      return comm;\n    }\n    window.PyViz.comm_manager = new JupyterCommManager();\n    \n\n\nvar JS_MIME_TYPE = 'application/javascript';\nvar HTML_MIME_TYPE = 'text/html';\nvar EXEC_MIME_TYPE = 'application/vnd.holoviews_exec.v0+json';\nvar CLASS_NAME = 'output';\n\n/**\n * Render data to the DOM node\n */\nfunction render(props, node) {\n  var div = document.createElement(\"div\");\n  var script = document.createElement(\"script\");\n  node.appendChild(div);\n  node.appendChild(script);\n}\n\n/**\n * Handle when a new output is added\n */\nfunction handle_add_output(event, handle) {\n  var output_area = handle.output_area;\n  var output = handle.output;\n  if ((output.data == undefined) || (!output.data.hasOwnProperty(EXEC_MIME_TYPE))) {\n    return\n  }\n  var id = output.metadata[EXEC_MIME_TYPE][\"id\"];\n  var toinsert = output_area.element.find(\".\" + CLASS_NAME.split(' ')[0]);\n  if (id !== undefined) {\n    var nchildren = toinsert.length;\n    var html_node = toinsert[nchildren-1].children[0];\n    html_node.innerHTML = output.data[HTML_MIME_TYPE];\n    var scripts = [];\n    var nodelist = html_node.querySelectorAll(\"script\");\n    for (var i in nodelist) {\n      if (nodelist.hasOwnProperty(i)) {\n        scripts.push(nodelist[i])\n      }\n    }\n\n    scripts.forEach( function (oldScript) {\n      var newScript = document.createElement(\"script\");\n      var attrs = [];\n      var nodemap = oldScript.attributes;\n      for (var j in nodemap) {\n        if (nodemap.hasOwnProperty(j)) {\n          attrs.push(nodemap[j])\n        }\n      }\n      attrs.forEach(function(attr) { newScript.setAttribute(attr.name, attr.value) });\n      newScript.appendChild(document.createTextNode(oldScript.innerHTML));\n      oldScript.parentNode.replaceChild(newScript, oldScript);\n    });\n    if (JS_MIME_TYPE in output.data) {\n      toinsert[nchildren-1].children[1].textContent = output.data[JS_MIME_TYPE];\n    }\n    output_area._hv_plot_id = id;\n    if ((window.Bokeh !== undefined) && (id in Bokeh.index)) {\n      window.PyViz.plot_index[id] = Bokeh.index[id];\n    } else {\n      window.PyViz.plot_index[id] = null;\n    }\n  } else if (output.metadata[EXEC_MIME_TYPE][\"server_id\"] !== undefined) {\n    var bk_div = document.createElement(\"div\");\n    bk_div.innerHTML = output.data[HTML_MIME_TYPE];\n    var script_attrs = bk_div.children[0].attributes;\n    for (var i = 0; i < script_attrs.length; i++) {\n      toinsert[toinsert.length - 1].childNodes[1].setAttribute(script_attrs[i].name, script_attrs[i].value);\n    }\n    // store reference to server id on output_area\n    output_area._bokeh_server_id = output.metadata[EXEC_MIME_TYPE][\"server_id\"];\n  }\n}\n\n/**\n * Handle when an output is cleared or removed\n */\nfunction handle_clear_output(event, handle) {\n  var id = handle.cell.output_area._hv_plot_id;\n  var server_id = handle.cell.output_area._bokeh_server_id;\n  if (((id === undefined) || !(id in PyViz.plot_index)) && (server_id !== undefined)) { return; }\n  var comm = window.PyViz.comm_manager.get_client_comm(\"hv-extension-comm\", \"hv-extension-comm\", function () {});\n  if (server_id !== null) {\n    comm.send({event_type: 'server_delete', 'id': server_id});\n    return;\n  } else if (comm !== null) {\n    comm.send({event_type: 'delete', 'id': id});\n  }\n  delete PyViz.plot_index[id];\n  if ((window.Bokeh !== undefined) & (id in window.Bokeh.index)) {\n    var doc = window.Bokeh.index[id].model.document\n    doc.clear();\n    const i = window.Bokeh.documents.indexOf(doc);\n    if (i > -1) {\n      window.Bokeh.documents.splice(i, 1);\n    }\n  }\n}\n\n/**\n * Handle kernel restart event\n */\nfunction handle_kernel_cleanup(event, handle) {\n  delete PyViz.comms[\"hv-extension-comm\"];\n  window.PyViz.plot_index = {}\n}\n\n/**\n * Handle update_display_data messages\n */\nfunction handle_update_output(event, handle) {\n  handle_clear_output(event, {cell: {output_area: handle.output_area}})\n  handle_add_output(event, handle)\n}\n\nfunction register_renderer(events, OutputArea) {\n  function append_mime(data, metadata, element) {\n    // create a DOM node to render to\n    var toinsert = this.create_output_subarea(\n    metadata,\n    CLASS_NAME,\n    EXEC_MIME_TYPE\n    );\n    this.keyboard_manager.register_events(toinsert);\n    // Render to node\n    var props = {data: data, metadata: metadata[EXEC_MIME_TYPE]};\n    render(props, toinsert[0]);\n    element.append(toinsert);\n    return toinsert\n  }\n\n  events.on('output_added.OutputArea', handle_add_output);\n  events.on('output_updated.OutputArea', handle_update_output);\n  events.on('clear_output.CodeCell', handle_clear_output);\n  events.on('delete.Cell', handle_clear_output);\n  events.on('kernel_ready.Kernel', handle_kernel_cleanup);\n\n  OutputArea.prototype.register_mime_type(EXEC_MIME_TYPE, append_mime, {\n    safe: true,\n    index: 0\n  });\n}\n\nif (window.Jupyter !== undefined) {\n  try {\n    var events = require('base/js/events');\n    var OutputArea = require('notebook/js/outputarea').OutputArea;\n    if (OutputArea.prototype.mime_types().indexOf(EXEC_MIME_TYPE) == -1) {\n      register_renderer(events, OutputArea);\n    }\n  } catch(err) {\n  }\n}\n",
      "application/vnd.holoviews_load.v0+json": ""
     },
     "metadata": {},
     "output_type": "display_data"
    },
    {
     "data": {
      "application/vnd.holoviews_exec.v0+json": "",
      "text/html": [
       "<div id='p1002'>\n",
       "  <div id=\"a128609e-873a-40db-a1e8-7043dfbca7da\" data-root-id=\"p1002\" style=\"display: contents;\"></div>\n",
       "</div>\n",
       "<script type=\"application/javascript\">(function(root) {\n",
       "  var docs_json = {\"0630cd9c-d215-4899-9bf2-a568169ef339\":{\"version\":\"3.6.0\",\"title\":\"Bokeh Application\",\"roots\":[{\"type\":\"object\",\"name\":\"panel.models.browser.BrowserInfo\",\"id\":\"p1002\"},{\"type\":\"object\",\"name\":\"panel.models.comm_manager.CommManager\",\"id\":\"p1003\",\"attributes\":{\"plot_id\":\"p1002\",\"comm_id\":\"ba40671b2f044625bd264ebb1e682005\",\"client_comm_id\":\"ab1022a11cfa4e0791d4c012dfeb3cfc\"}}],\"defs\":[{\"type\":\"model\",\"name\":\"ReactiveHTML1\"},{\"type\":\"model\",\"name\":\"FlexBox1\",\"properties\":[{\"name\":\"align_content\",\"kind\":\"Any\",\"default\":\"flex-start\"},{\"name\":\"align_items\",\"kind\":\"Any\",\"default\":\"flex-start\"},{\"name\":\"flex_direction\",\"kind\":\"Any\",\"default\":\"row\"},{\"name\":\"flex_wrap\",\"kind\":\"Any\",\"default\":\"wrap\"},{\"name\":\"gap\",\"kind\":\"Any\",\"default\":\"\"},{\"name\":\"justify_content\",\"kind\":\"Any\",\"default\":\"flex-start\"}]},{\"type\":\"model\",\"name\":\"FloatPanel1\",\"properties\":[{\"name\":\"config\",\"kind\":\"Any\",\"default\":{\"type\":\"map\"}},{\"name\":\"contained\",\"kind\":\"Any\",\"default\":true},{\"name\":\"position\",\"kind\":\"Any\",\"default\":\"right-top\"},{\"name\":\"offsetx\",\"kind\":\"Any\",\"default\":null},{\"name\":\"offsety\",\"kind\":\"Any\",\"default\":null},{\"name\":\"theme\",\"kind\":\"Any\",\"default\":\"primary\"},{\"name\":\"status\",\"kind\":\"Any\",\"default\":\"normalized\"}]},{\"type\":\"model\",\"name\":\"GridStack1\",\"properties\":[{\"name\":\"mode\",\"kind\":\"Any\",\"default\":\"warn\"},{\"name\":\"ncols\",\"kind\":\"Any\",\"default\":null},{\"name\":\"nrows\",\"kind\":\"Any\",\"default\":null},{\"name\":\"allow_resize\",\"kind\":\"Any\",\"default\":true},{\"name\":\"allow_drag\",\"kind\":\"Any\",\"default\":true},{\"name\":\"state\",\"kind\":\"Any\",\"default\":[]}]},{\"type\":\"model\",\"name\":\"drag1\",\"properties\":[{\"name\":\"slider_width\",\"kind\":\"Any\",\"default\":5},{\"name\":\"slider_color\",\"kind\":\"Any\",\"default\":\"black\"},{\"name\":\"value\",\"kind\":\"Any\",\"default\":50}]},{\"type\":\"model\",\"name\":\"click1\",\"properties\":[{\"name\":\"terminal_output\",\"kind\":\"Any\",\"default\":\"\"},{\"name\":\"debug_name\",\"kind\":\"Any\",\"default\":\"\"},{\"name\":\"clears\",\"kind\":\"Any\",\"default\":0}]},{\"type\":\"model\",\"name\":\"FastWrapper1\",\"properties\":[{\"name\":\"object\",\"kind\":\"Any\",\"default\":null},{\"name\":\"style\",\"kind\":\"Any\",\"default\":null}]},{\"type\":\"model\",\"name\":\"NotificationAreaBase1\",\"properties\":[{\"name\":\"js_events\",\"kind\":\"Any\",\"default\":{\"type\":\"map\"}},{\"name\":\"position\",\"kind\":\"Any\",\"default\":\"bottom-right\"},{\"name\":\"_clear\",\"kind\":\"Any\",\"default\":0}]},{\"type\":\"model\",\"name\":\"NotificationArea1\",\"properties\":[{\"name\":\"js_events\",\"kind\":\"Any\",\"default\":{\"type\":\"map\"}},{\"name\":\"notifications\",\"kind\":\"Any\",\"default\":[]},{\"name\":\"position\",\"kind\":\"Any\",\"default\":\"bottom-right\"},{\"name\":\"_clear\",\"kind\":\"Any\",\"default\":0},{\"name\":\"types\",\"kind\":\"Any\",\"default\":[{\"type\":\"map\",\"entries\":[[\"type\",\"warning\"],[\"background\",\"#ffc107\"],[\"icon\",{\"type\":\"map\",\"entries\":[[\"className\",\"fas fa-exclamation-triangle\"],[\"tagName\",\"i\"],[\"color\",\"white\"]]}]]},{\"type\":\"map\",\"entries\":[[\"type\",\"info\"],[\"background\",\"#007bff\"],[\"icon\",{\"type\":\"map\",\"entries\":[[\"className\",\"fas fa-info-circle\"],[\"tagName\",\"i\"],[\"color\",\"white\"]]}]]}]}]},{\"type\":\"model\",\"name\":\"Notification\",\"properties\":[{\"name\":\"background\",\"kind\":\"Any\",\"default\":null},{\"name\":\"duration\",\"kind\":\"Any\",\"default\":3000},{\"name\":\"icon\",\"kind\":\"Any\",\"default\":null},{\"name\":\"message\",\"kind\":\"Any\",\"default\":\"\"},{\"name\":\"notification_type\",\"kind\":\"Any\",\"default\":null},{\"name\":\"_destroyed\",\"kind\":\"Any\",\"default\":false}]},{\"type\":\"model\",\"name\":\"TemplateActions1\",\"properties\":[{\"name\":\"open_modal\",\"kind\":\"Any\",\"default\":0},{\"name\":\"close_modal\",\"kind\":\"Any\",\"default\":0}]},{\"type\":\"model\",\"name\":\"BootstrapTemplateActions1\",\"properties\":[{\"name\":\"open_modal\",\"kind\":\"Any\",\"default\":0},{\"name\":\"close_modal\",\"kind\":\"Any\",\"default\":0}]},{\"type\":\"model\",\"name\":\"TemplateEditor1\",\"properties\":[{\"name\":\"layout\",\"kind\":\"Any\",\"default\":[]}]},{\"type\":\"model\",\"name\":\"MaterialTemplateActions1\",\"properties\":[{\"name\":\"open_modal\",\"kind\":\"Any\",\"default\":0},{\"name\":\"close_modal\",\"kind\":\"Any\",\"default\":0}]},{\"type\":\"model\",\"name\":\"ReactiveESM1\"},{\"type\":\"model\",\"name\":\"JSComponent1\"},{\"type\":\"model\",\"name\":\"ReactComponent1\"},{\"type\":\"model\",\"name\":\"AnyWidgetComponent1\"},{\"type\":\"model\",\"name\":\"request_value1\",\"properties\":[{\"name\":\"fill\",\"kind\":\"Any\",\"default\":\"none\"},{\"name\":\"_synced\",\"kind\":\"Any\",\"default\":null},{\"name\":\"_request_sync\",\"kind\":\"Any\",\"default\":0}]}]}};\n",
       "  var render_items = [{\"docid\":\"0630cd9c-d215-4899-9bf2-a568169ef339\",\"roots\":{\"p1002\":\"a128609e-873a-40db-a1e8-7043dfbca7da\"},\"root_ids\":[\"p1002\"]}];\n",
       "  var docs = Object.values(docs_json)\n",
       "  if (!docs) {\n",
       "    return\n",
       "  }\n",
       "  const py_version = docs[0].version.replace('rc', '-rc.').replace('.dev', '-dev.')\n",
       "  async function embed_document(root) {\n",
       "    var Bokeh = get_bokeh(root)\n",
       "    await Bokeh.embed.embed_items_notebook(docs_json, render_items);\n",
       "    for (const render_item of render_items) {\n",
       "      for (const root_id of render_item.root_ids) {\n",
       "\tconst id_el = document.getElementById(root_id)\n",
       "\tif (id_el.children.length && id_el.children[0].hasAttribute('data-root-id')) {\n",
       "\t  const root_el = id_el.children[0]\n",
       "\t  root_el.id = root_el.id + '-rendered'\n",
       "\t  for (const child of root_el.children) {\n",
       "            // Ensure JupyterLab does not capture keyboard shortcuts\n",
       "            // see: https://jupyterlab.readthedocs.io/en/4.1.x/extension/notebook.html#keyboard-interaction-model\n",
       "\t    child.setAttribute('data-lm-suppress-shortcuts', 'true')\n",
       "\t  }\n",
       "\t}\n",
       "      }\n",
       "    }\n",
       "  }\n",
       "  function get_bokeh(root) {\n",
       "    if (root.Bokeh === undefined) {\n",
       "      return null\n",
       "    } else if (root.Bokeh.version !== py_version) {\n",
       "      if (root.Bokeh.versions === undefined || !root.Bokeh.versions.has(py_version)) {\n",
       "\treturn null\n",
       "      }\n",
       "      return root.Bokeh.versions.get(py_version);\n",
       "    } else if (root.Bokeh.version === py_version) {\n",
       "      return root.Bokeh\n",
       "    }\n",
       "    return null\n",
       "  }\n",
       "  function is_loaded(root) {\n",
       "    var Bokeh = get_bokeh(root)\n",
       "    return (Bokeh != null && Bokeh.Panel !== undefined)\n",
       "  }\n",
       "  if (is_loaded(root)) {\n",
       "    embed_document(root);\n",
       "  } else {\n",
       "    var attempts = 0;\n",
       "    var timer = setInterval(function(root) {\n",
       "      if (is_loaded(root)) {\n",
       "        clearInterval(timer);\n",
       "        embed_document(root);\n",
       "      } else if (document.readyState == \"complete\") {\n",
       "        attempts++;\n",
       "        if (attempts > 200) {\n",
       "          clearInterval(timer);\n",
       "\t  var Bokeh = get_bokeh(root)\n",
       "\t  if (Bokeh == null || Bokeh.Panel == null) {\n",
       "            console.warn(\"Panel: ERROR: Unable to run Panel code because Bokeh or Panel library is missing\");\n",
       "\t  } else {\n",
       "\t    console.warn(\"Panel: WARNING: Attempting to render but not all required libraries could be resolved.\")\n",
       "\t    embed_document(root)\n",
       "\t  }\n",
       "        }\n",
       "      }\n",
       "    }, 25, root)\n",
       "  }\n",
       "})(window);</script>"
      ]
     },
     "metadata": {
      "application/vnd.holoviews_exec.v0+json": {
       "id": "p1002"
      }
     },
     "output_type": "display_data"
    }
   ],
   "source": [
    "\n",
    "import pandas as pd\n",
    "from pathlib import Path\n",
    "import pyarrow.parquet as pq\n",
    "from dataclasses import dataclass\n",
    "import hvplot.pandas \n",
    "from tqdm import tqdm\n",
    "import matplotlib.pyplot as plt\n",
    "from sklearn.model_selection import train_test_split\n",
    "import torch\n",
    "from torch import nn\n",
    "from torch.utils.data import Dataset, DataLoader\n",
    "import numpy as np\n",
    "\n",
    "# hv.renderer('bokeh').theme = 'dark_minimal'"
   ]
  },
  {
   "cell_type": "code",
   "execution_count": 2,
   "metadata": {},
   "outputs": [],
   "source": [
    "# dataset_root = Path(r\"C:\\Users\\Raffael\\Documents\\Datasets\\alpiq_2023\") # Raw string works without escaping \\\n",
    "dataset_root = Path(r\"C:/Users/jadbh\\Documents/Swisse/EPFL/courses/Fall 2024/Machine Learning for Predictive Maintenance/project/Dataset\")\n",
    "dataset_root = Path(r\"C:\\Users\\jadbh\\Documents\\Swisse\\EPFL\\courses\\Fall 2024\\Machine Learning for Predictive Maintenance\\project\\team repo\\Machine-Learning-for-Predictive-Maintenance-project\\Dataset\")\n",
    "\n",
    "\n",
    "@dataclass\n",
    "class Case():\n",
    "    info: pd.DataFrame\n",
    "    measurements: pd.DataFrame\n",
    "\n",
    "\n",
    "class RawDataset():\n",
    "\n",
    "    def __init__(self, root, unit = \"VG4\", load_training=False, load_synthetic=False) -> None:\n",
    "        \n",
    "        \n",
    "        read_pq_file = lambda f: pq.read_table(root / f).to_pandas()\n",
    "        \n",
    "        \n",
    "        cases = {\n",
    "            \"test\": [f\"{unit}_generator_data_testing_real_measurements.parquet\", root / f\"{unit}_generator_data_testing_real_info.csv\" ], \n",
    "        }\n",
    "        \n",
    "        if load_training:\n",
    "            cases = {\n",
    "                **cases,\n",
    "                \"train\": [f\"{unit}_generator_data_training_measurements.parquet\", root / f\"{unit}_generator_data_training_info.csv\" ], \n",
    "            }\n",
    "        \n",
    "        if load_synthetic:\n",
    "            cases = {\n",
    "                **cases,\n",
    "                \"test_s01\": [f\"{unit}_generator_data_testing_synthetic_01_measurements.parquet\", root / f\"{unit}_generator_data_testing_synthetic_01_info.csv\"], \n",
    "                \"test_s02\": [f\"{unit}_generator_data_testing_synthetic_02_measurements.parquet\", root / f\"{unit}_generator_data_testing_synthetic_02_info.csv\"]\n",
    "            }\n",
    "        \n",
    "        \n",
    "        self.data_dict = dict()\n",
    "        \n",
    "        for id_c, c in cases.items():\n",
    "            # if you need to verify the parquet header:\n",
    "            # pq_rows = RawDataset.read_parquet_schema_df(root / c[0])\n",
    "            info = pd.read_csv(c[1])\n",
    "            measurements = read_pq_file(c[0])\n",
    "            self.data_dict[id_c] = Case(info, measurements)\n",
    "            \n",
    "        \n",
    "        \n",
    "    @staticmethod\n",
    "    def read_parquet_schema_df(uri: str) -> pd.DataFrame:\n",
    "        \"\"\"Return a Pandas dataframe corresponding to the schema of a local URI of a parquet file.\n",
    "\n",
    "        The returned dataframe has the columns: column, pa_dtype\n",
    "        \"\"\"\n",
    "        # Ref: https://stackoverflow.com/a/64288036/\n",
    "        schema = pq.read_schema(uri, memory_map=True)\n",
    "        schema = pd.DataFrame(({\"column\": name, \"pa_dtype\": str(pa_dtype)} for name, pa_dtype in zip(schema.names, schema.types)))\n",
    "        schema = schema.reindex(columns=[\"column\", \"pa_dtype\"], fill_value=pd.NA)  # Ensures columns in case the parquet file has an empty dataframe.\n",
    "        return schema\n",
    "    \n",
    "\n",
    "rds_u4 = RawDataset(dataset_root, \"VG4\", load_synthetic=False, load_training=True)\n",
    "rds_u5 = RawDataset(dataset_root, \"VG5\", load_synthetic=True, load_training=True)\n",
    "rds_u6 = RawDataset(dataset_root, \"VG6\", load_synthetic=True)"
   ]
  },
  {
   "cell_type": "code",
   "execution_count": 3,
   "metadata": {},
   "outputs": [],
   "source": [
    "vg5_train_meas = rds_u5.data_dict[\"train\"].measurements\n",
    "vg5_train_info = rds_u5.data_dict[\"train\"].info\n",
    "vg5_test_meas = rds_u5.data_dict[\"test\"].measurements\n",
    "vg5_test_info = rds_u5.data_dict[\"test\"].info"
   ]
  },
  {
   "cell_type": "code",
   "execution_count": 4,
   "metadata": {},
   "outputs": [],
   "source": [
    "vg5_train_filt = vg5_train_meas [ (vg5_train_meas['equilibrium_turbine_mode'] == True) |\n",
    "                                           ((vg5_train_meas['equilibrium_pump_mode'] == True) & (vg5_train_meas['short_circuit_mode'] == False)) |\n",
    "                                           ((vg5_train_meas['equilibrium_pump_mode'] == True) & (vg5_train_meas['short_circuit_mode'] == True) & (vg5_train_meas['equilibrium_short_circuit_mode'] == True)) ]"
   ]
  },
  {
   "cell_type": "code",
   "execution_count": 5,
   "metadata": {},
   "outputs": [],
   "source": [
    "vg5_s1 = rds_u5.data_dict[\"test_s01\"].measurements          # synthetic testing\n",
    "vg5_s1_filt = vg5_s1 [ (vg5_s1['equilibrium_turbine_mode'] == True) |        # filtered synthetic testing\n",
    "                    ((vg5_s1['equilibrium_pump_mode'] == True) & (vg5_s1['short_circuit_mode'] == False)) |\n",
    "                    ((vg5_s1['equilibrium_pump_mode'] == True) & (vg5_s1['short_circuit_mode'] == True) & (vg5_s1['equilibrium_short_circuit_mode'] == True)) ]"
   ]
  },
  {
   "cell_type": "code",
   "execution_count": 6,
   "metadata": {},
   "outputs": [],
   "source": [
    "vg5_train_meas.reset_index(inplace=True)\n",
    "vg5_train_filt = vg5_train_meas [ (vg5_train_meas['equilibrium_turbine_mode'] == True) |\n",
    "                                           ((vg5_train_meas['equilibrium_pump_mode'] == True) & (vg5_train_meas['short_circuit_mode'] == False)) |\n",
    "                                           ((vg5_train_meas['equilibrium_pump_mode'] == True) & (vg5_train_meas['short_circuit_mode'] == True) & (vg5_train_meas['equilibrium_short_circuit_mode'] == True)) ]"
   ]
  },
  {
   "cell_type": "code",
   "execution_count": 7,
   "metadata": {},
   "outputs": [
    {
     "name": "stdout",
     "output_type": "stream",
     "text": [
      "\n"
     ]
    }
   ],
   "source": [
    "# summary of VG5 useful variables\n",
    "\n",
    "vg5_train_info\n",
    "vg5_train_filt      # equilibirum\n",
    "vg5_train_meas\n",
    "\n",
    "vg5_test_info\n",
    "vg5_test_meas\n",
    "\n",
    "vg5_s1\n",
    "vg5_s1_filt         # equilibrium\n",
    "\n",
    "print()"
   ]
  },
  {
   "cell_type": "code",
   "execution_count": 8,
   "metadata": {},
   "outputs": [
    {
     "name": "stdout",
     "output_type": "stream",
     "text": [
      "Index(['index', 'tot_activepower', 'ext_tmp', 'plant_tmp', 'charge',\n",
      "       'coupler_position', 'injector_01_opening', 'injector_02_opening',\n",
      "       'injector_03_opening', 'injector_04_opening', 'injector_05_opening',\n",
      "       'pump_calculated_flow', 'pump_pressure_diff', 'pump_rotspeed',\n",
      "       'tot_current', 'tot_effectivepower', 'tot_reactivepower',\n",
      "       'turbine_pressure', 'turbine_rotspeed', 'water_primary_pump_01_opening',\n",
      "       'water_primary_pump_02_opening', 'air_circ_cold_01_tmp',\n",
      "       'air_circ_cold_02_tmp', 'air_circ_cold_03_tmp', 'air_circ_cold_04_tmp',\n",
      "       'air_circ_cold_05_tmp', 'air_circ_cold_06_tmp', 'air_circ_hot_01_tmp',\n",
      "       'air_circ_hot_02_tmp', 'air_circ_hot_03_tmp', 'air_circ_hot_04_tmp',\n",
      "       'air_circ_hot_05_tmp', 'air_circ_hot_06_tmp', 'elec_freq',\n",
      "       'exc_current', 'exc_voltage', 'mid_voltage', 'neutral_current',\n",
      "       'ph01_current', 'ph01_voltage', 'ph12_voltage', 'ph02_current',\n",
      "       'ph02_voltage', 'ph23_voltage', 'ph03_current', 'ph03_voltage',\n",
      "       'ph31_voltage', 'stat_coil_ph01_01_tmp', 'stat_coil_ph01_02_tmp',\n",
      "       'stat_coil_ph01_03_tmp', 'stat_coil_ph01_04_tmp',\n",
      "       'stat_coil_ph01_05_tmp', 'stat_coil_ph01_06_tmp',\n",
      "       'stat_coil_ph02_01_tmp', 'stat_coil_ph02_02_tmp',\n",
      "       'stat_coil_ph02_03_tmp', 'stat_coil_ph02_04_tmp',\n",
      "       'stat_coil_ph02_05_tmp', 'stat_coil_ph02_06_tmp',\n",
      "       'stat_coil_ph03_01_tmp', 'stat_coil_ph03_02_tmp',\n",
      "       'stat_coil_ph03_03_tmp', 'stat_coil_ph03_04_tmp',\n",
      "       'stat_coil_ph03_05_tmp', 'stat_coil_ph03_06_tmp', 'stat_magn_01_tmp',\n",
      "       'stat_magn_02_tmp', 'stat_magn_03_tmp', 'stat_magn_04_tmp',\n",
      "       'stat_magn_05_tmp', 'stat_magn_06_tmp', 'stat_magn_07_tmp',\n",
      "       'stat_magn_08_tmp', 'stat_magn_09_tmp', 'stat_magn_10_tmp',\n",
      "       'stat_magn_11_tmp', 'stat_magn_12_tmp', 'water_circ_cold_tmp',\n",
      "       'water_circ_flow', 'water_circ_hot_01_tmp', 'water_circ_hot_02_tmp',\n",
      "       'water_circ_hot_03_tmp', 'water_circ_hot_04_tmp',\n",
      "       'water_circ_hot_05_tmp', 'water_circ_hot_06_tmp', 'water_circ_hot_tmp',\n",
      "       'air_gap_negative_x_position', 'air_gap_positive_x_position',\n",
      "       'air_gap_negative_y_position', 'air_gap_positive_y_position',\n",
      "       'machine_on', 'machine_off', 'turbine_mode', 'all',\n",
      "       'equilibrium_turbine_mode', 'dyn_only_on', 'pump_mode',\n",
      "       'short_circuit_mode', 'equilibrium_pump_mode',\n",
      "       'equilibrium_short_circuit_mode'],\n",
      "      dtype='object')\n"
     ]
    },
    {
     "data": {
      "text/html": [
       "<div>\n",
       "<style scoped>\n",
       "    .dataframe tbody tr th:only-of-type {\n",
       "        vertical-align: middle;\n",
       "    }\n",
       "\n",
       "    .dataframe tbody tr th {\n",
       "        vertical-align: top;\n",
       "    }\n",
       "\n",
       "    .dataframe thead th {\n",
       "        text-align: right;\n",
       "    }\n",
       "</style>\n",
       "<table border=\"1\" class=\"dataframe\">\n",
       "  <thead>\n",
       "    <tr style=\"text-align: right;\">\n",
       "      <th></th>\n",
       "      <th>index</th>\n",
       "      <th>tot_activepower</th>\n",
       "      <th>ext_tmp</th>\n",
       "      <th>plant_tmp</th>\n",
       "      <th>charge</th>\n",
       "      <th>coupler_position</th>\n",
       "      <th>injector_01_opening</th>\n",
       "      <th>injector_02_opening</th>\n",
       "      <th>injector_03_opening</th>\n",
       "      <th>injector_04_opening</th>\n",
       "      <th>...</th>\n",
       "      <th>machine_on</th>\n",
       "      <th>machine_off</th>\n",
       "      <th>turbine_mode</th>\n",
       "      <th>all</th>\n",
       "      <th>equilibrium_turbine_mode</th>\n",
       "      <th>dyn_only_on</th>\n",
       "      <th>pump_mode</th>\n",
       "      <th>short_circuit_mode</th>\n",
       "      <th>equilibrium_pump_mode</th>\n",
       "      <th>equilibrium_short_circuit_mode</th>\n",
       "    </tr>\n",
       "  </thead>\n",
       "  <tbody>\n",
       "    <tr>\n",
       "      <th>0</th>\n",
       "      <td>2020-01-02 00:00:00+01:00</td>\n",
       "      <td>-119.619240</td>\n",
       "      <td>5.961580</td>\n",
       "      <td>16.350124</td>\n",
       "      <td>-1.590960</td>\n",
       "      <td>185.068454</td>\n",
       "      <td>0.0</td>\n",
       "      <td>0.0</td>\n",
       "      <td>0.0</td>\n",
       "      <td>0.0</td>\n",
       "      <td>...</td>\n",
       "      <td>True</td>\n",
       "      <td>False</td>\n",
       "      <td>False</td>\n",
       "      <td>True</td>\n",
       "      <td>False</td>\n",
       "      <td>True</td>\n",
       "      <td>True</td>\n",
       "      <td>False</td>\n",
       "      <td>True</td>\n",
       "      <td>False</td>\n",
       "    </tr>\n",
       "    <tr>\n",
       "      <th>1</th>\n",
       "      <td>2020-01-02 00:00:30+01:00</td>\n",
       "      <td>-119.155684</td>\n",
       "      <td>5.992895</td>\n",
       "      <td>16.349115</td>\n",
       "      <td>-1.561455</td>\n",
       "      <td>185.066912</td>\n",
       "      <td>0.0</td>\n",
       "      <td>0.0</td>\n",
       "      <td>0.0</td>\n",
       "      <td>0.0</td>\n",
       "      <td>...</td>\n",
       "      <td>True</td>\n",
       "      <td>False</td>\n",
       "      <td>False</td>\n",
       "      <td>True</td>\n",
       "      <td>False</td>\n",
       "      <td>True</td>\n",
       "      <td>True</td>\n",
       "      <td>False</td>\n",
       "      <td>True</td>\n",
       "      <td>False</td>\n",
       "    </tr>\n",
       "    <tr>\n",
       "      <th>2</th>\n",
       "      <td>2020-01-02 00:01:00+01:00</td>\n",
       "      <td>-118.311378</td>\n",
       "      <td>6.024210</td>\n",
       "      <td>16.348106</td>\n",
       "      <td>-1.722507</td>\n",
       "      <td>185.065370</td>\n",
       "      <td>0.0</td>\n",
       "      <td>0.0</td>\n",
       "      <td>0.0</td>\n",
       "      <td>0.0</td>\n",
       "      <td>...</td>\n",
       "      <td>True</td>\n",
       "      <td>False</td>\n",
       "      <td>False</td>\n",
       "      <td>True</td>\n",
       "      <td>False</td>\n",
       "      <td>True</td>\n",
       "      <td>True</td>\n",
       "      <td>False</td>\n",
       "      <td>True</td>\n",
       "      <td>False</td>\n",
       "    </tr>\n",
       "  </tbody>\n",
       "</table>\n",
       "<p>3 rows × 100 columns</p>\n",
       "</div>"
      ],
      "text/plain": [
       "                      index  tot_activepower   ext_tmp  plant_tmp    charge  \\\n",
       "0 2020-01-02 00:00:00+01:00      -119.619240  5.961580  16.350124 -1.590960   \n",
       "1 2020-01-02 00:00:30+01:00      -119.155684  5.992895  16.349115 -1.561455   \n",
       "2 2020-01-02 00:01:00+01:00      -118.311378  6.024210  16.348106 -1.722507   \n",
       "\n",
       "   coupler_position  injector_01_opening  injector_02_opening  \\\n",
       "0        185.068454                  0.0                  0.0   \n",
       "1        185.066912                  0.0                  0.0   \n",
       "2        185.065370                  0.0                  0.0   \n",
       "\n",
       "   injector_03_opening  injector_04_opening  ...  machine_on  machine_off  \\\n",
       "0                  0.0                  0.0  ...        True        False   \n",
       "1                  0.0                  0.0  ...        True        False   \n",
       "2                  0.0                  0.0  ...        True        False   \n",
       "\n",
       "   turbine_mode   all  equilibrium_turbine_mode  dyn_only_on  pump_mode  \\\n",
       "0         False  True                     False         True       True   \n",
       "1         False  True                     False         True       True   \n",
       "2         False  True                     False         True       True   \n",
       "\n",
       "   short_circuit_mode  equilibrium_pump_mode  equilibrium_short_circuit_mode  \n",
       "0               False                   True                           False  \n",
       "1               False                   True                           False  \n",
       "2               False                   True                           False  \n",
       "\n",
       "[3 rows x 100 columns]"
      ]
     },
     "execution_count": 8,
     "metadata": {},
     "output_type": "execute_result"
    }
   ],
   "source": [
    "df = vg5_train_filt\n",
    "print(df.columns)\n",
    "df.head(3)"
   ]
  },
  {
   "cell_type": "code",
   "execution_count": 9,
   "metadata": {},
   "outputs": [
    {
     "name": "stdout",
     "output_type": "stream",
     "text": [
      "OG columns:  ['index', 'tot_activepower', 'ext_tmp', 'plant_tmp', 'charge', 'coupler_position', 'injector_01_opening', 'injector_02_opening', 'injector_03_opening', 'injector_04_opening', 'injector_05_opening', 'pump_calculated_flow', 'pump_pressure_diff', 'pump_rotspeed', 'tot_current', 'tot_effectivepower', 'tot_reactivepower', 'turbine_pressure', 'turbine_rotspeed', 'water_primary_pump_01_opening', 'water_primary_pump_02_opening', 'air_circ_cold_01_tmp', 'air_circ_cold_02_tmp', 'air_circ_cold_03_tmp', 'air_circ_cold_04_tmp', 'air_circ_cold_05_tmp', 'air_circ_cold_06_tmp', 'air_circ_hot_01_tmp', 'air_circ_hot_02_tmp', 'air_circ_hot_03_tmp', 'air_circ_hot_04_tmp', 'air_circ_hot_05_tmp', 'air_circ_hot_06_tmp', 'elec_freq', 'exc_current', 'exc_voltage', 'mid_voltage', 'neutral_current', 'ph01_current', 'ph01_voltage', 'ph12_voltage', 'ph02_current', 'ph02_voltage', 'ph23_voltage', 'ph03_current', 'ph03_voltage', 'ph31_voltage', 'stat_coil_ph01_01_tmp', 'stat_coil_ph01_02_tmp', 'stat_coil_ph01_03_tmp', 'stat_coil_ph01_04_tmp', 'stat_coil_ph01_05_tmp', 'stat_coil_ph01_06_tmp', 'stat_coil_ph02_01_tmp', 'stat_coil_ph02_02_tmp', 'stat_coil_ph02_03_tmp', 'stat_coil_ph02_04_tmp', 'stat_coil_ph02_05_tmp', 'stat_coil_ph02_06_tmp', 'stat_coil_ph03_01_tmp', 'stat_coil_ph03_02_tmp', 'stat_coil_ph03_03_tmp', 'stat_coil_ph03_04_tmp', 'stat_coil_ph03_05_tmp', 'stat_coil_ph03_06_tmp', 'stat_magn_01_tmp', 'stat_magn_02_tmp', 'stat_magn_03_tmp', 'stat_magn_04_tmp', 'stat_magn_05_tmp', 'stat_magn_06_tmp', 'stat_magn_07_tmp', 'stat_magn_08_tmp', 'stat_magn_09_tmp', 'stat_magn_10_tmp', 'stat_magn_11_tmp', 'stat_magn_12_tmp', 'water_circ_cold_tmp', 'water_circ_flow', 'water_circ_hot_01_tmp', 'water_circ_hot_02_tmp', 'water_circ_hot_03_tmp', 'water_circ_hot_04_tmp', 'water_circ_hot_05_tmp', 'water_circ_hot_06_tmp', 'water_circ_hot_tmp', 'air_gap_negative_x_position', 'air_gap_positive_x_position', 'air_gap_negative_y_position', 'air_gap_positive_y_position', 'machine_on', 'machine_off', 'turbine_mode', 'all', 'equilibrium_turbine_mode', 'dyn_only_on', 'pump_mode', 'short_circuit_mode', 'equilibrium_pump_mode', 'equilibrium_short_circuit_mode']\n",
      "OG columns length:  100\n",
      "final columns:        ['tot_activepower', 'ext_tmp', 'plant_tmp', 'charge', 'coupler_position', 'injector_01_opening', 'injector_02_opening', 'injector_03_opening', 'injector_04_opening', 'injector_05_opening', 'pump_calculated_flow', 'pump_pressure_diff', 'pump_rotspeed', 'tot_current', 'tot_effectivepower', 'tot_reactivepower', 'turbine_pressure', 'turbine_rotspeed', 'water_primary_pump_01_opening', 'water_primary_pump_02_opening', 'air_circ_cold_01_tmp', 'air_circ_cold_02_tmp', 'air_circ_cold_03_tmp', 'air_circ_cold_04_tmp', 'air_circ_cold_05_tmp', 'air_circ_cold_06_tmp', 'air_circ_hot_01_tmp', 'air_circ_hot_02_tmp', 'air_circ_hot_03_tmp', 'air_circ_hot_04_tmp', 'air_circ_hot_05_tmp', 'air_circ_hot_06_tmp', 'elec_freq', 'exc_current', 'exc_voltage', 'mid_voltage', 'neutral_current', 'ph01_current', 'ph01_voltage', 'ph12_voltage', 'ph02_current', 'ph02_voltage', 'ph23_voltage', 'ph03_current', 'ph03_voltage', 'ph31_voltage', 'stat_coil_ph01_01_tmp', 'stat_coil_ph01_02_tmp', 'stat_coil_ph01_03_tmp', 'stat_coil_ph01_04_tmp', 'stat_coil_ph01_05_tmp', 'stat_coil_ph01_06_tmp', 'stat_coil_ph02_01_tmp', 'stat_coil_ph02_02_tmp', 'stat_coil_ph02_03_tmp', 'stat_coil_ph02_04_tmp', 'stat_coil_ph02_05_tmp', 'stat_coil_ph02_06_tmp', 'stat_coil_ph03_01_tmp', 'stat_coil_ph03_02_tmp', 'stat_coil_ph03_03_tmp', 'stat_coil_ph03_04_tmp', 'stat_coil_ph03_05_tmp', 'stat_coil_ph03_06_tmp', 'stat_magn_01_tmp', 'stat_magn_02_tmp', 'stat_magn_03_tmp', 'stat_magn_04_tmp', 'stat_magn_05_tmp', 'stat_magn_06_tmp', 'stat_magn_07_tmp', 'stat_magn_08_tmp', 'stat_magn_09_tmp', 'stat_magn_10_tmp', 'stat_magn_11_tmp', 'stat_magn_12_tmp', 'water_circ_cold_tmp', 'water_circ_flow', 'water_circ_hot_01_tmp', 'water_circ_hot_02_tmp', 'water_circ_hot_03_tmp', 'water_circ_hot_04_tmp', 'water_circ_hot_05_tmp', 'water_circ_hot_06_tmp', 'water_circ_hot_tmp', 'air_gap_negative_x_position', 'air_gap_positive_x_position', 'air_gap_negative_y_position', 'air_gap_positive_y_position']\n",
      "final columns lengthL 89\n"
     ]
    },
    {
     "name": "stderr",
     "output_type": "stream",
     "text": [
      "C:\\Users\\jadbh\\AppData\\Local\\Temp\\ipykernel_18724\\2553936283.py:3: SettingWithCopyWarning: \n",
      "A value is trying to be set on a copy of a slice from a DataFrame\n",
      "\n",
      "See the caveats in the documentation: https://pandas.pydata.org/pandas-docs/stable/user_guide/indexing.html#returning-a-view-versus-a-copy\n",
      "  df.drop(columns=df.loc[:, 'machine_on':'equilibrium_short_circuit_mode'].columns, inplace=True)\n",
      "C:\\Users\\jadbh\\AppData\\Local\\Temp\\ipykernel_18724\\2553936283.py:4: SettingWithCopyWarning: \n",
      "A value is trying to be set on a copy of a slice from a DataFrame\n",
      "\n",
      "See the caveats in the documentation: https://pandas.pydata.org/pandas-docs/stable/user_guide/indexing.html#returning-a-view-versus-a-copy\n",
      "  df.drop(['index'], axis = 1, inplace=True)\n"
     ]
    },
    {
     "data": {
      "text/html": [
       "<div>\n",
       "<style scoped>\n",
       "    .dataframe tbody tr th:only-of-type {\n",
       "        vertical-align: middle;\n",
       "    }\n",
       "\n",
       "    .dataframe tbody tr th {\n",
       "        vertical-align: top;\n",
       "    }\n",
       "\n",
       "    .dataframe thead th {\n",
       "        text-align: right;\n",
       "    }\n",
       "</style>\n",
       "<table border=\"1\" class=\"dataframe\">\n",
       "  <thead>\n",
       "    <tr style=\"text-align: right;\">\n",
       "      <th></th>\n",
       "      <th>tot_activepower</th>\n",
       "      <th>ext_tmp</th>\n",
       "      <th>plant_tmp</th>\n",
       "      <th>charge</th>\n",
       "      <th>coupler_position</th>\n",
       "      <th>injector_01_opening</th>\n",
       "      <th>injector_02_opening</th>\n",
       "      <th>injector_03_opening</th>\n",
       "      <th>injector_04_opening</th>\n",
       "      <th>injector_05_opening</th>\n",
       "      <th>...</th>\n",
       "      <th>water_circ_hot_02_tmp</th>\n",
       "      <th>water_circ_hot_03_tmp</th>\n",
       "      <th>water_circ_hot_04_tmp</th>\n",
       "      <th>water_circ_hot_05_tmp</th>\n",
       "      <th>water_circ_hot_06_tmp</th>\n",
       "      <th>water_circ_hot_tmp</th>\n",
       "      <th>air_gap_negative_x_position</th>\n",
       "      <th>air_gap_positive_x_position</th>\n",
       "      <th>air_gap_negative_y_position</th>\n",
       "      <th>air_gap_positive_y_position</th>\n",
       "    </tr>\n",
       "  </thead>\n",
       "  <tbody>\n",
       "    <tr>\n",
       "      <th>789838</th>\n",
       "      <td>-119.119995</td>\n",
       "      <td>22.738771</td>\n",
       "      <td>19.988143</td>\n",
       "      <td>-1.344421</td>\n",
       "      <td>185.062967</td>\n",
       "      <td>0.000000</td>\n",
       "      <td>0.000000</td>\n",
       "      <td>0.000000</td>\n",
       "      <td>0.000000</td>\n",
       "      <td>0.000000</td>\n",
       "      <td>...</td>\n",
       "      <td>29.799999</td>\n",
       "      <td>29.500000</td>\n",
       "      <td>29.700001</td>\n",
       "      <td>29.700001</td>\n",
       "      <td>29.600000</td>\n",
       "      <td>29.718334</td>\n",
       "      <td>37.972474</td>\n",
       "      <td>34.605801</td>\n",
       "      <td>39.263490</td>\n",
       "      <td>34.096376</td>\n",
       "    </tr>\n",
       "    <tr>\n",
       "      <th>699045</th>\n",
       "      <td>20.713548</td>\n",
       "      <td>22.083643</td>\n",
       "      <td>19.364319</td>\n",
       "      <td>19.976658</td>\n",
       "      <td>9.256166</td>\n",
       "      <td>0.000000</td>\n",
       "      <td>22.734417</td>\n",
       "      <td>0.000000</td>\n",
       "      <td>22.734416</td>\n",
       "      <td>0.000000</td>\n",
       "      <td>...</td>\n",
       "      <td>24.500000</td>\n",
       "      <td>24.533898</td>\n",
       "      <td>24.596036</td>\n",
       "      <td>24.573684</td>\n",
       "      <td>24.572728</td>\n",
       "      <td>24.771429</td>\n",
       "      <td>35.999292</td>\n",
       "      <td>35.498001</td>\n",
       "      <td>35.910997</td>\n",
       "      <td>34.022946</td>\n",
       "    </tr>\n",
       "    <tr>\n",
       "      <th>1014990</th>\n",
       "      <td>116.502472</td>\n",
       "      <td>5.017076</td>\n",
       "      <td>14.775631</td>\n",
       "      <td>114.105316</td>\n",
       "      <td>9.099410</td>\n",
       "      <td>66.204315</td>\n",
       "      <td>66.193333</td>\n",
       "      <td>66.204315</td>\n",
       "      <td>66.204319</td>\n",
       "      <td>66.436255</td>\n",
       "      <td>...</td>\n",
       "      <td>17.971428</td>\n",
       "      <td>17.400000</td>\n",
       "      <td>17.779966</td>\n",
       "      <td>17.837500</td>\n",
       "      <td>17.522222</td>\n",
       "      <td>17.625454</td>\n",
       "      <td>36.701668</td>\n",
       "      <td>36.122909</td>\n",
       "      <td>35.954286</td>\n",
       "      <td>36.314835</td>\n",
       "    </tr>\n",
       "  </tbody>\n",
       "</table>\n",
       "<p>3 rows × 89 columns</p>\n",
       "</div>"
      ],
      "text/plain": [
       "         tot_activepower    ext_tmp  plant_tmp      charge  coupler_position  \\\n",
       "789838       -119.119995  22.738771  19.988143   -1.344421        185.062967   \n",
       "699045         20.713548  22.083643  19.364319   19.976658          9.256166   \n",
       "1014990       116.502472   5.017076  14.775631  114.105316          9.099410   \n",
       "\n",
       "         injector_01_opening  injector_02_opening  injector_03_opening  \\\n",
       "789838              0.000000             0.000000             0.000000   \n",
       "699045              0.000000            22.734417             0.000000   \n",
       "1014990            66.204315            66.193333            66.204315   \n",
       "\n",
       "         injector_04_opening  injector_05_opening  ...  water_circ_hot_02_tmp  \\\n",
       "789838              0.000000             0.000000  ...              29.799999   \n",
       "699045             22.734416             0.000000  ...              24.500000   \n",
       "1014990            66.204319            66.436255  ...              17.971428   \n",
       "\n",
       "         water_circ_hot_03_tmp  water_circ_hot_04_tmp  water_circ_hot_05_tmp  \\\n",
       "789838               29.500000              29.700001              29.700001   \n",
       "699045               24.533898              24.596036              24.573684   \n",
       "1014990              17.400000              17.779966              17.837500   \n",
       "\n",
       "         water_circ_hot_06_tmp  water_circ_hot_tmp  \\\n",
       "789838               29.600000           29.718334   \n",
       "699045               24.572728           24.771429   \n",
       "1014990              17.522222           17.625454   \n",
       "\n",
       "         air_gap_negative_x_position  air_gap_positive_x_position  \\\n",
       "789838                     37.972474                    34.605801   \n",
       "699045                     35.999292                    35.498001   \n",
       "1014990                    36.701668                    36.122909   \n",
       "\n",
       "         air_gap_negative_y_position  air_gap_positive_y_position  \n",
       "789838                     39.263490                    34.096376  \n",
       "699045                     35.910997                    34.022946  \n",
       "1014990                    35.954286                    36.314835  \n",
       "\n",
       "[3 rows x 89 columns]"
      ]
     },
     "execution_count": 9,
     "metadata": {},
     "output_type": "execute_result"
    }
   ],
   "source": [
    "print(\"OG columns: \", df.columns.to_list())\n",
    "print(\"OG columns length: \", len(df.columns.to_list()))\n",
    "df.drop(columns=df.loc[:, 'machine_on':'equilibrium_short_circuit_mode'].columns, inplace=True)\n",
    "df.drop(['index'], axis = 1, inplace=True)\n",
    "print(\"final columns:       \", df.columns.to_list())\n",
    "print(\"final columns lengthL\", len(df.columns.to_list()))\n",
    "df.sample(3)"
   ]
  },
  {
   "cell_type": "code",
   "execution_count": 10,
   "metadata": {},
   "outputs": [],
   "source": [
    "# class SlidingWindowDataset(Dataset):\n",
    "#     def __init__(self, dataframe, feature_columns, window_size, step_size=1):\n",
    "#         \"\"\"\n",
    "#         Args:\n",
    "#             dataframe (pd.DataFrame): The dataframe containing sensor data.\n",
    "#             feature_columns (list): List of column names for features.\n",
    "#             window_size (int): The number of timesteps in each sliding window.\n",
    "#             step_size (int): The step size to slide the window.\n",
    "#         \"\"\"\n",
    "#         self.features = dataframe[feature_columns].values\n",
    "#         self.window_size = window_size\n",
    "#         self.step_size = step_size\n",
    "#         self.num_samples = (len(self.features) - window_size) // step_size + 1\n",
    "\n",
    "#     def __len__(self):\n",
    "#         return self.num_samples\n",
    "\n",
    "#     def __getitem__(self, idx):\n",
    "#         start_idx = idx * self.step_size\n",
    "#         end_idx = start_idx + self.window_size\n",
    "#         x = torch.tensor(self.features[start_idx:end_idx], dtype=torch.float32)\n",
    "#         return x\n",
    "\n",
    "# # Example usage\n",
    "# # Replace 'feature_columns' with your list of feature column names\n",
    "# feature_columns = [\"ext_tmp\", \"injector_01_opening\"]  # Replace with your column names\n",
    "# window_size = 10  # Number of timesteps per window\n",
    "# step_size = 1  # Step size for sliding window\n",
    "\n",
    "# # Create Dataset and DataLoader\n",
    "# dataset = SlidingWindowDataset(df, feature_columns, window_size, step_size)\n",
    "# dataloader = DataLoader(dataset, batch_size=32, shuffle=True)\n",
    "\n",
    "# # Example: Iterating through the dataloader\n",
    "# for batch in dataloader:\n",
    "#     sliding_windows = batch\n",
    "#     print(sliding_windows.shape)  # Replace with your training loop logic\n",
    "#     break"
   ]
  },
  {
   "cell_type": "code",
   "execution_count": 11,
   "metadata": {},
   "outputs": [],
   "source": [
    "# df['index_num'] = df.index\n",
    "# df.sample(2)"
   ]
  },
  {
   "cell_type": "code",
   "execution_count": 12,
   "metadata": {},
   "outputs": [
    {
     "name": "stdout",
     "output_type": "stream",
     "text": [
      "Total df shape: (468005, 89)\n",
      "Training set shape: (374404, 89)\n",
      "Testing set shape: (93601, 89)\n",
      "train dataloader length:  773\n",
      "train dataloader dataset length:  24729\n",
      "test dataloader length:  194\n",
      "test dataloader dataset length:  6207\n"
     ]
    }
   ],
   "source": [
    "class SlidingWindowDataset(Dataset):\n",
    "    def __init__(self, dataframe, feature_columns, window_size, step_size=1, max_gap=10, stride = 2):\n",
    "        \"\"\"\n",
    "        Args:\n",
    "            dataframe (pd.DataFrame): The dataframe containing sensor data.\n",
    "            feature_columns (list): List of column names for features.\n",
    "            window_size (int): The number of timesteps in each sliding window.\n",
    "            step_size (int): The step size to slide the window.\n",
    "            max_gap (int): Maximum allowed gap between consecutive indices for grouping.\n",
    "        \"\"\"\n",
    "        self.features = dataframe[feature_columns].values\n",
    "        self.indices = dataframe.index.values\n",
    "        self.window_size = window_size\n",
    "        self.step_size = step_size\n",
    "        self.max_gap = max_gap\n",
    "        self.stride = stride\n",
    "\n",
    "        # Identify groups based on index gaps\n",
    "        self.groups = self._identify_groups()\n",
    "        # print(self.groups[0:50])\n",
    "        # print(len(self.groups[500]))\n",
    "        self.valid_windows = self._generate_valid_windows()\n",
    "\n",
    "    def _identify_groups(self):\n",
    "        \"\"\"\n",
    "        Identify groups of rows based on the max_gap condition.\n",
    "        \"\"\"\n",
    "        groups = []\n",
    "        current_group = [0]  # Start with the first row\n",
    "        for i in range(1, len(self.indices)):\n",
    "            if self.indices[i] - self.indices[i - 1] > self.max_gap:\n",
    "                groups.append(current_group)\n",
    "                current_group = [i]\n",
    "            else:\n",
    "                current_group.append(i)\n",
    "        groups.append(current_group)  # Add the last group\n",
    "        return groups\n",
    "\n",
    "    def _generate_valid_windows(self):\n",
    "        \"\"\"\n",
    "        Generate valid sliding windows based on groups.\n",
    "        \"\"\"\n",
    "        valid_windows = []\n",
    "        for group in self.groups:\n",
    "            \n",
    "            for start in range(0, len(group) - self.window_size + 1, self.stride):\n",
    "                valid_windows.append(group[start : start + self.window_size])\n",
    "\n",
    "            if (len(group) - self.window_size)%self.stride != 0 and len(group)> self.window_size:\n",
    "                # print(len(group[len(group) - self.window_size : len(group)]))\n",
    "                valid_windows.append(group[len(group) - self.window_size : len(group)])\n",
    "\n",
    "        # print(valid_windows[-1])\n",
    "        return valid_windows\n",
    "\n",
    "    def __len__(self):\n",
    "        return len(self.valid_windows)\n",
    "\n",
    "    def __getitem__(self, idx):\n",
    "        \"\"\"\n",
    "        Retrieve a sliding window by index.\n",
    "        \"\"\"\n",
    "        window_indices = self.valid_windows[idx]\n",
    "        x = torch.tensor(self.features[window_indices], dtype=torch.float32)\n",
    "        return x\n",
    "\n",
    "feature_columns = df.columns\n",
    "# feature_columns = [\"charge\"]\n",
    "# feature_columns = df.columns.to_string()\n",
    "window_size = 100\n",
    "stride = 10\n",
    "max_gap = 10\n",
    "batch_size = 32\n",
    "step_size = 1  # Step size for sliding window\n",
    "\n",
    "train_df, test_df = train_test_split(df, test_size=0.2, random_state=42, shuffle = False)\n",
    "print(\"Total df shape:\", df.shape)\n",
    "print(\"Training set shape:\", train_df.shape)\n",
    "print(\"Testing set shape:\", test_df.shape)\n",
    "\n",
    "# Create Dataset and DataLoader\n",
    "train_dataset = SlidingWindowDataset(train_df, feature_columns, window_size, step_size, max_gap, stride = stride)\n",
    "test_dataset = SlidingWindowDataset(test_df, feature_columns, window_size, step_size, max_gap, stride = stride)\n",
    "\n",
    "train_dataloader = DataLoader(train_dataset, batch_size=batch_size, shuffle=True)\n",
    "test_dataloader = DataLoader(test_dataset, batch_size=batch_size, shuffle=True)\n",
    "\n",
    "print(\"train dataloader length: \", len(train_dataloader))\n",
    "print(\"train dataloader dataset length: \", len(train_dataloader.dataset))\n",
    "\n",
    "print(\"test dataloader length: \", len(test_dataloader))\n",
    "print(\"test dataloader dataset length: \", len(test_dataloader.dataset))\n",
    "\n",
    "# maxes = []\n",
    "# # Example: Iterating through the dataloader\n",
    "# for i, batch in enumerate(dataloader):\n",
    "#     sliding_windows = batch\n",
    "#     diff = sliding_windows[0,1:10,1] - sliding_windows[0,0:9,1]\n",
    "#     maxes.append(diff.max().item())\n",
    "#     # print(maxes)  # Replace with your training loop logi\n",
    "#     # if i>100:\n",
    "#     #     break\n",
    "# # plt.hist(maxes)\n",
    "# pd_maxes = pd.DataFrame(maxes)\n",
    "# pd_maxes.value_counts()"
   ]
  },
  {
   "cell_type": "code",
   "execution_count": 13,
   "metadata": {},
   "outputs": [],
   "source": [
    "class DenseAutoencoder(nn.Module):\n",
    "\n",
    "    def __init__(self, input_dim):\n",
    "        super(DenseAutoencoder, self).__init__()\n",
    "        self.encoder = nn.Sequential(\n",
    "            nn.Linear(input_dim, 512),\n",
    "            nn.ReLU(),\n",
    "            nn.Linear(512, 128),\n",
    "            nn.ReLU(),\n",
    "            nn.Linear(128, 32),\n",
    "            )\n",
    "                          \n",
    "        self.decoder = nn.Sequential(\n",
    "            nn.Linear(32,128),\n",
    "            nn.ReLU(),\n",
    "            nn.Linear(128, 512),\n",
    "            nn.ReLU(),\n",
    "            nn.Linear(512, input_dim)\n",
    "            # nn.Sigmoid()\n",
    "            )\n",
    "\n",
    "    def forward(self, x):\n",
    "        feature = self.encoder(x)\n",
    "        reconstruction = self.decoder(feature)\n",
    "        return reconstruction, feature"
   ]
  },
  {
   "cell_type": "code",
   "execution_count": 14,
   "metadata": {},
   "outputs": [],
   "source": [
    "# def train_loop(dataloader, model, loss_fn, optimizer, print_every=10):\n",
    "#     loss_running = 0\n",
    "#     for _ , x in enumerate(tqdm(dataloader)):\n",
    "#         # print(\"x size: \", x.shape)\n",
    "#         x = x.flatten(start_dim=1)\n",
    "#         optimizer.zero_grad()\n",
    "#         x_pred , _ = model(x)\n",
    "        \n",
    "#         loss = loss_fn(x_pred, x)\n",
    "#         loss.backward()\n",
    "#         optimizer.step()\n",
    "        \n",
    "#         loss_running += loss.item()\n",
    "#     loss_running /= len(dataloader)    \n",
    "#     print(f\"train loss: {loss_running}\")\n",
    "#     return loss_running\n",
    "\n",
    "# def test_loop(dataloader, model, loss_fn):\n",
    "#     loss_running = 0\n",
    "#     with torch.no_grad():\n",
    "#         for x in enumerate(tqdm(dataloader)):\n",
    "#             x = x.flatten(start_dim=1)\n",
    "#             x_pred, _ = model(x)\n",
    "#             loss = loss_fn(x_pred, x)\n",
    "#             loss_running += loss.item()\n",
    "\n",
    "#     loss_running /= len(dataloader)    \n",
    "#     print(f\"test loss: {loss_running}\")\n",
    "#     return loss_running\n",
    "\n",
    "\n",
    "# model = DenseAutoencoder(window_size * len(feature_columns))\n",
    "# epochs = 5\n",
    "# optimizer = torch.optim.AdamW(model.parameters(), lr = 0.001)\n",
    "# loss_fn = nn.MSELoss()"
   ]
  },
  {
   "cell_type": "code",
   "execution_count": null,
   "metadata": {},
   "outputs": [],
   "source": [
    "def train_loop(dataloader, model, loss_fn, optimizer, print_every=10):\n",
    "    total_loss = 0\n",
    "    total_samples = 0\n",
    "\n",
    "    for _ , x in enumerate(tqdm(dataloader)):\n",
    "        batch_size = x.shape[0]\n",
    "        total_samples += batch_size\n",
    "        \n",
    "        x = x.flatten(start_dim=1)\n",
    "        optimizer.zero_grad()\n",
    "        x_pred, _ = model(x)\n",
    "        \n",
    "        loss = loss_fn(x_pred, x)\n",
    "        loss.backward()\n",
    "        optimizer.step()\n",
    "        \n",
    "        total_loss += loss.item() * batch_size\n",
    "\n",
    "    average_loss = total_loss / total_samples\n",
    "    print(f\"Train Loss: {average_loss:.3f}\")\n",
    "    return average_loss\n",
    "\n",
    "def test_loop(dataloader, model, loss_fn):\n",
    "    total_loss = 0\n",
    "    total_samples = 0\n",
    "\n",
    "    with torch.no_grad():\n",
    "        for _, x in enumerate(tqdm(dataloader)):\n",
    "            batch_size = x.shape[0]\n",
    "            total_samples += batch_size\n",
    "\n",
    "            x = x.flatten(start_dim=1)\n",
    "            x_pred, _ = model(x)\n",
    "            loss = loss_fn(x_pred, x)\n",
    "\n",
    "            total_loss += loss.item() * batch_size \n",
    "\n",
    "    average_loss = total_loss / total_samples\n",
    "    print(f\"Test Loss: {average_loss:.3f}\")\n",
    "    return average_loss\n",
    "\n",
    "model = DenseAutoencoder(window_size * len(feature_columns))\n",
    "epochs = 10\n",
    "optimizer = torch.optim.AdamW(model.parameters(), lr = 0.001)\n",
    "loss_fn = nn.MSELoss()\n"
   ]
  },
  {
   "cell_type": "code",
   "execution_count": 16,
   "metadata": {},
   "outputs": [
    {
     "name": "stdout",
     "output_type": "stream",
     "text": [
      "Epoch 1\n",
      "-------------------------------\n"
     ]
    },
    {
     "name": "stderr",
     "output_type": "stream",
     "text": [
      "100%|██████████| 773/773 [00:32<00:00, 23.68it/s]\n"
     ]
    },
    {
     "name": "stdout",
     "output_type": "stream",
     "text": [
      "Train Loss: 9728.834\n"
     ]
    },
    {
     "name": "stderr",
     "output_type": "stream",
     "text": [
      "100%|██████████| 194/194 [00:01<00:00, 155.44it/s]\n"
     ]
    },
    {
     "name": "stdout",
     "output_type": "stream",
     "text": [
      "Test Loss: 1032.910\n",
      "Epoch 2\n",
      "-------------------------------\n"
     ]
    },
    {
     "name": "stderr",
     "output_type": "stream",
     "text": [
      "100%|██████████| 773/773 [00:55<00:00, 13.89it/s]\n"
     ]
    },
    {
     "name": "stdout",
     "output_type": "stream",
     "text": [
      "Train Loss: 1360.442\n"
     ]
    },
    {
     "name": "stderr",
     "output_type": "stream",
     "text": [
      "100%|██████████| 194/194 [00:01<00:00, 148.50it/s]\n"
     ]
    },
    {
     "name": "stdout",
     "output_type": "stream",
     "text": [
      "Test Loss: 956.142\n",
      "Epoch 3\n",
      "-------------------------------\n"
     ]
    },
    {
     "name": "stderr",
     "output_type": "stream",
     "text": [
      "100%|██████████| 773/773 [00:53<00:00, 14.54it/s]\n"
     ]
    },
    {
     "name": "stdout",
     "output_type": "stream",
     "text": [
      "Train Loss: 861.400\n"
     ]
    },
    {
     "name": "stderr",
     "output_type": "stream",
     "text": [
      "100%|██████████| 194/194 [00:01<00:00, 155.76it/s]\n"
     ]
    },
    {
     "name": "stdout",
     "output_type": "stream",
     "text": [
      "Test Loss: 1238.063\n",
      "Epoch 4\n",
      "-------------------------------\n"
     ]
    },
    {
     "name": "stderr",
     "output_type": "stream",
     "text": [
      "100%|██████████| 773/773 [00:53<00:00, 14.37it/s]\n"
     ]
    },
    {
     "name": "stdout",
     "output_type": "stream",
     "text": [
      "Train Loss: 712.357\n"
     ]
    },
    {
     "name": "stderr",
     "output_type": "stream",
     "text": [
      "100%|██████████| 194/194 [00:01<00:00, 145.86it/s]\n"
     ]
    },
    {
     "name": "stdout",
     "output_type": "stream",
     "text": [
      "Test Loss: 384.398\n",
      "Epoch 5\n",
      "-------------------------------\n"
     ]
    },
    {
     "name": "stderr",
     "output_type": "stream",
     "text": [
      "100%|██████████| 773/773 [00:54<00:00, 14.07it/s]\n"
     ]
    },
    {
     "name": "stdout",
     "output_type": "stream",
     "text": [
      "Train Loss: 474.716\n"
     ]
    },
    {
     "name": "stderr",
     "output_type": "stream",
     "text": [
      "100%|██████████| 194/194 [00:01<00:00, 145.69it/s]\n"
     ]
    },
    {
     "name": "stdout",
     "output_type": "stream",
     "text": [
      "Test Loss: 288.250\n",
      "Epoch 6\n",
      "-------------------------------\n"
     ]
    },
    {
     "name": "stderr",
     "output_type": "stream",
     "text": [
      "100%|██████████| 773/773 [00:54<00:00, 14.08it/s]\n"
     ]
    },
    {
     "name": "stdout",
     "output_type": "stream",
     "text": [
      "Train Loss: 524.038\n"
     ]
    },
    {
     "name": "stderr",
     "output_type": "stream",
     "text": [
      "100%|██████████| 194/194 [00:01<00:00, 142.17it/s]\n"
     ]
    },
    {
     "name": "stdout",
     "output_type": "stream",
     "text": [
      "Test Loss: 262.695\n",
      "Epoch 7\n",
      "-------------------------------\n"
     ]
    },
    {
     "name": "stderr",
     "output_type": "stream",
     "text": [
      "100%|██████████| 773/773 [00:57<00:00, 13.51it/s]\n"
     ]
    },
    {
     "name": "stdout",
     "output_type": "stream",
     "text": [
      "Train Loss: 470.479\n"
     ]
    },
    {
     "name": "stderr",
     "output_type": "stream",
     "text": [
      "100%|██████████| 194/194 [00:01<00:00, 156.00it/s]\n"
     ]
    },
    {
     "name": "stdout",
     "output_type": "stream",
     "text": [
      "Test Loss: 249.525\n",
      "Epoch 8\n",
      "-------------------------------\n"
     ]
    },
    {
     "name": "stderr",
     "output_type": "stream",
     "text": [
      "100%|██████████| 773/773 [00:54<00:00, 14.12it/s]\n"
     ]
    },
    {
     "name": "stdout",
     "output_type": "stream",
     "text": [
      "Train Loss: 405.356\n"
     ]
    },
    {
     "name": "stderr",
     "output_type": "stream",
     "text": [
      "100%|██████████| 194/194 [00:01<00:00, 149.74it/s]\n"
     ]
    },
    {
     "name": "stdout",
     "output_type": "stream",
     "text": [
      "Test Loss: 247.282\n",
      "Epoch 9\n",
      "-------------------------------\n"
     ]
    },
    {
     "name": "stderr",
     "output_type": "stream",
     "text": [
      "100%|██████████| 773/773 [00:53<00:00, 14.41it/s]\n"
     ]
    },
    {
     "name": "stdout",
     "output_type": "stream",
     "text": [
      "Train Loss: 435.622\n"
     ]
    },
    {
     "name": "stderr",
     "output_type": "stream",
     "text": [
      "100%|██████████| 194/194 [00:01<00:00, 149.61it/s]\n"
     ]
    },
    {
     "name": "stdout",
     "output_type": "stream",
     "text": [
      "Test Loss: 1070.062\n",
      "Epoch 10\n",
      "-------------------------------\n"
     ]
    },
    {
     "name": "stderr",
     "output_type": "stream",
     "text": [
      "100%|██████████| 773/773 [00:57<00:00, 13.37it/s]\n"
     ]
    },
    {
     "name": "stdout",
     "output_type": "stream",
     "text": [
      "Train Loss: 421.399\n"
     ]
    },
    {
     "name": "stderr",
     "output_type": "stream",
     "text": [
      "100%|██████████| 194/194 [00:01<00:00, 158.82it/s]"
     ]
    },
    {
     "name": "stdout",
     "output_type": "stream",
     "text": [
      "Test Loss: 458.761\n",
      "CPU times: total: 4min 9s\n",
      "Wall time: 9min 1s\n"
     ]
    },
    {
     "name": "stderr",
     "output_type": "stream",
     "text": [
      "\n"
     ]
    }
   ],
   "source": [
    "%%time\n",
    "train_loss_evol = []\n",
    "test_loss_evol = []\n",
    "for epoch in range(epochs):\n",
    "    print(f\"Epoch {epoch+1}\\n-------------------------------\")\n",
    "    train_loss_evol.append(train_loop(train_dataloader, model, loss_fn, optimizer))\n",
    "    test_loss_evol.append(test_loop(test_dataloader, model, loss_fn))\n"
   ]
  },
  {
   "cell_type": "code",
   "execution_count": 21,
   "metadata": {},
   "outputs": [
    {
     "data": {
      "text/plain": [
       "Text(0.5, 1.0, 'Log Loss evolution')"
      ]
     },
     "execution_count": 21,
     "metadata": {},
     "output_type": "execute_result"
    },
    {
     "data": {
      "image/png": "[encoded data removed]",
      "text/plain": [
       "<Figure size 640x480 with 1 Axes>"
      ]
     },
     "metadata": {},
     "output_type": "display_data"
    }
   ],
   "source": [
    "plt.plot(np.log(train_loss_evol), label = 'train')\n",
    "plt.plot(np.log(test_loss_evol), label = 'test')\n",
    "plt.legend()\n",
    "plt.grid()\n",
    "plt.ylabel('Log(loss)')\n",
    "plt.xlabel('Epochs')\n",
    "plt.title('Log Loss evolution')\n"
   ]
  }
 ],
 "metadata": {
  "kernelspec": {
   "display_name": "MLPMenv",
   "language": "python",
   "name": "python3"
  },
  "language_info": {
   "codemirror_mode": {
    "name": "ipython",
    "version": 3
   },
   "file_extension": ".py",
   "mimetype": "text/x-python",
   "name": "python",
   "nbconvert_exporter": "python",
   "pygments_lexer": "ipython3",
   "version": "3.11.1"
  }
 },
 "nbformat": 4,
 "nbformat_minor": 2
}
