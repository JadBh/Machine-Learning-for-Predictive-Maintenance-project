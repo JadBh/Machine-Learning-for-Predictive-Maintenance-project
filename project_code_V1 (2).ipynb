{
 "cells": [
  {
   "cell_type": "code",
   "execution_count": 1,
   "metadata": {
    "ExecuteTime": {
     "end_time": "2023-11-15T10:06:29.627120900Z",
     "start_time": "2023-11-15T10:06:29.610425800Z"
    }
   },
   "outputs": [
    {
     "data": {
      "text/html": [
       "<script type=\"esms-options\">{\"shimMode\": true}</script><style>*[data-root-id],\n",
       "*[data-root-id] > * {\n",
       "  box-sizing: border-box;\n",
       "  font-family: var(--jp-ui-font-family);\n",
       "  font-size: var(--jp-ui-font-size1);\n",
       "  color: var(--vscode-editor-foreground, var(--jp-ui-font-color1));\n",
       "}\n",
       "\n",
       "/* Override VSCode background color */\n",
       ".cell-output-ipywidget-background:has(\n",
       "    > .cell-output-ipywidget-background > .lm-Widget > *[data-root-id]\n",
       "  ),\n",
       ".cell-output-ipywidget-background:has(> .lm-Widget > *[data-root-id]) {\n",
       "  background-color: transparent !important;\n",
       "}\n",
       "</style>"
      ]
     },
     "metadata": {},
     "output_type": "display_data"
    },
    {
     "data": {
      "application/javascript": "(function(root) {\n  function now() {\n    return new Date();\n  }\n\n  const force = true;\n  const py_version = '3.6.0'.replace('rc', '-rc.').replace('.dev', '-dev.');\n  const reloading = false;\n  const Bokeh = root.Bokeh;\n\n  // Set a timeout for this load but only if we are not already initializing\n  if (typeof (root._bokeh_timeout) === \"undefined\" || (force || !root._bokeh_is_initializing)) {\n    root._bokeh_timeout = Date.now() + 5000;\n    root._bokeh_failed_load = false;\n  }\n\n  function run_callbacks() {\n    try {\n      root._bokeh_onload_callbacks.forEach(function(callback) {\n        if (callback != null)\n          callback();\n      });\n    } finally {\n      delete root._bokeh_onload_callbacks;\n    }\n    console.debug(\"Bokeh: all callbacks have finished\");\n  }\n\n  function load_libs(css_urls, js_urls, js_modules, js_exports, callback) {\n    if (css_urls == null) css_urls = [];\n    if (js_urls == null) js_urls = [];\n    if (js_modules == null) js_modules = [];\n    if (js_exports == null) js_exports = {};\n\n    root._bokeh_onload_callbacks.push(callback);\n\n    if (root._bokeh_is_loading > 0) {\n      // Don't load bokeh if it is still initializing\n      console.debug(\"Bokeh: BokehJS is being loaded, scheduling callback at\", now());\n      return null;\n    } else if (js_urls.length === 0 && js_modules.length === 0 && Object.keys(js_exports).length === 0) {\n      // There is nothing to load\n      run_callbacks();\n      return null;\n    }\n\n    function on_load() {\n      root._bokeh_is_loading--;\n      if (root._bokeh_is_loading === 0) {\n        console.debug(\"Bokeh: all BokehJS libraries/stylesheets loaded\");\n        run_callbacks()\n      }\n    }\n    window._bokeh_on_load = on_load\n\n    function on_error(e) {\n      const src_el = e.srcElement\n      console.error(\"failed to load \" + (src_el.href || src_el.src));\n    }\n\n    const skip = [];\n    if (window.requirejs) {\n      window.requirejs.config({'packages': {}, 'paths': {}, 'shim': {}});\n      root._bokeh_is_loading = css_urls.length + 0;\n    } else {\n      root._bokeh_is_loading = css_urls.length + js_urls.length + js_modules.length + Object.keys(js_exports).length;\n    }\n\n    const existing_stylesheets = []\n    const links = document.getElementsByTagName('link')\n    for (let i = 0; i < links.length; i++) {\n      const link = links[i]\n      if (link.href != null) {\n        existing_stylesheets.push(link.href)\n      }\n    }\n    for (let i = 0; i < css_urls.length; i++) {\n      const url = css_urls[i];\n      const escaped = encodeURI(url)\n      if (existing_stylesheets.indexOf(escaped) !== -1) {\n        on_load()\n        continue;\n      }\n      const element = document.createElement(\"link\");\n      element.onload = on_load;\n      element.onerror = on_error;\n      element.rel = \"stylesheet\";\n      element.type = \"text/css\";\n      element.href = url;\n      console.debug(\"Bokeh: injecting link tag for BokehJS stylesheet: \", url);\n      document.body.appendChild(element);\n    }    var existing_scripts = []\n    const scripts = document.getElementsByTagName('script')\n    for (let i = 0; i < scripts.length; i++) {\n      var script = scripts[i]\n      if (script.src != null) {\n        existing_scripts.push(script.src)\n      }\n    }\n    for (let i = 0; i < js_urls.length; i++) {\n      const url = js_urls[i];\n      const escaped = encodeURI(url)\n      if (skip.indexOf(escaped) !== -1 || existing_scripts.indexOf(escaped) !== -1) {\n        if (!window.requirejs) {\n          on_load();\n        }\n        continue;\n      }\n      const element = document.createElement('script');\n      element.onload = on_load;\n      element.onerror = on_error;\n      element.async = false;\n      element.src = url;\n      console.debug(\"Bokeh: injecting script tag for BokehJS library: \", url);\n      document.head.appendChild(element);\n    }\n    for (let i = 0; i < js_modules.length; i++) {\n      const url = js_modules[i];\n      const escaped = encodeURI(url)\n      if (skip.indexOf(escaped) !== -1 || existing_scripts.indexOf(escaped) !== -1) {\n        if (!window.requirejs) {\n          on_load();\n        }\n        continue;\n      }\n      var element = document.createElement('script');\n      element.onload = on_load;\n      element.onerror = on_error;\n      element.async = false;\n      element.src = url;\n      element.type = \"module\";\n      console.debug(\"Bokeh: injecting script tag for BokehJS library: \", url);\n      document.head.appendChild(element);\n    }\n    for (const name in js_exports) {\n      const url = js_exports[name];\n      const escaped = encodeURI(url)\n      if (skip.indexOf(escaped) >= 0 || root[name] != null) {\n        if (!window.requirejs) {\n          on_load();\n        }\n        continue;\n      }\n      var element = document.createElement('script');\n      element.onerror = on_error;\n      element.async = false;\n      element.type = \"module\";\n      console.debug(\"Bokeh: injecting script tag for BokehJS library: \", url);\n      element.textContent = `\n      import ${name} from \"${url}\"\n      window.${name} = ${name}\n      window._bokeh_on_load()\n      `\n      document.head.appendChild(element);\n    }\n    if (!js_urls.length && !js_modules.length) {\n      on_load()\n    }\n  };\n\n  function inject_raw_css(css) {\n    const element = document.createElement(\"style\");\n    element.appendChild(document.createTextNode(css));\n    document.body.appendChild(element);\n  }\n\n  const js_urls = [\"https://cdn.holoviz.org/panel/1.5.3/dist/bundled/reactiveesm/es-module-shims@^1.10.0/dist/es-module-shims.min.js\", \"https://cdn.bokeh.org/bokeh/release/bokeh-3.6.0.min.js\", \"https://cdn.bokeh.org/bokeh/release/bokeh-gl-3.6.0.min.js\", \"https://cdn.bokeh.org/bokeh/release/bokeh-widgets-3.6.0.min.js\", \"https://cdn.bokeh.org/bokeh/release/bokeh-tables-3.6.0.min.js\", \"https://cdn.holoviz.org/panel/1.5.3/dist/panel.min.js\"];\n  const js_modules = [];\n  const js_exports = {};\n  const css_urls = [];\n  const inline_js = [    function(Bokeh) {\n      Bokeh.set_log_level(\"info\");\n    },\nfunction(Bokeh) {} // ensure no trailing comma for IE\n  ];\n\n  function run_inline_js() {\n    if ((root.Bokeh !== undefined) || (force === true)) {\n      for (let i = 0; i < inline_js.length; i++) {\n        try {\n          inline_js[i].call(root, root.Bokeh);\n        } catch(e) {\n          if (!reloading) {\n            throw e;\n          }\n        }\n      }\n      // Cache old bokeh versions\n      if (Bokeh != undefined && !reloading) {\n        var NewBokeh = root.Bokeh;\n        if (Bokeh.versions === undefined) {\n          Bokeh.versions = new Map();\n        }\n        if (NewBokeh.version !== Bokeh.version) {\n          Bokeh.versions.set(NewBokeh.version, NewBokeh)\n        }\n        root.Bokeh = Bokeh;\n      }\n    } else if (Date.now() < root._bokeh_timeout) {\n      setTimeout(run_inline_js, 100);\n    } else if (!root._bokeh_failed_load) {\n      console.log(\"Bokeh: BokehJS failed to load within specified timeout.\");\n      root._bokeh_failed_load = true;\n    }\n    root._bokeh_is_initializing = false\n  }\n\n  function load_or_wait() {\n    // Implement a backoff loop that tries to ensure we do not load multiple\n    // versions of Bokeh and its dependencies at the same time.\n    // In recent versions we use the root._bokeh_is_initializing flag\n    // to determine whether there is an ongoing attempt to initialize\n    // bokeh, however for backward compatibility we also try to ensure\n    // that we do not start loading a newer (Panel>=1.0 and Bokeh>3) version\n    // before older versions are fully initialized.\n    if (root._bokeh_is_initializing && Date.now() > root._bokeh_timeout) {\n      // If the timeout and bokeh was not successfully loaded we reset\n      // everything and try loading again\n      root._bokeh_timeout = Date.now() + 5000;\n      root._bokeh_is_initializing = false;\n      root._bokeh_onload_callbacks = undefined;\n      root._bokeh_is_loading = 0\n      console.log(\"Bokeh: BokehJS was loaded multiple times but one version failed to initialize.\");\n      load_or_wait();\n    } else if (root._bokeh_is_initializing || (typeof root._bokeh_is_initializing === \"undefined\" && root._bokeh_onload_callbacks !== undefined)) {\n      setTimeout(load_or_wait, 100);\n    } else {\n      root._bokeh_is_initializing = true\n      root._bokeh_onload_callbacks = []\n      const bokeh_loaded = root.Bokeh != null && (root.Bokeh.version === py_version || (root.Bokeh.versions !== undefined && root.Bokeh.versions.has(py_version)));\n      if (!reloading && !bokeh_loaded) {\n        if (root.Bokeh) {\n          root.Bokeh = undefined;\n        }\n        console.debug(\"Bokeh: BokehJS not loaded, scheduling load and callback at\", now());\n      }\n      load_libs(css_urls, js_urls, js_modules, js_exports, function() {\n        console.debug(\"Bokeh: BokehJS plotting callback run at\", now());\n        run_inline_js();\n      });\n    }\n  }\n  // Give older versions of the autoload script a head-start to ensure\n  // they initialize before we start loading newer version.\n  setTimeout(load_or_wait, 100)\n}(window));",
      "application/vnd.holoviews_load.v0+json": ""
     },
     "metadata": {},
     "output_type": "display_data"
    },
    {
     "data": {
      "application/javascript": "\nif ((window.PyViz === undefined) || (window.PyViz instanceof HTMLElement)) {\n  window.PyViz = {comms: {}, comm_status:{}, kernels:{}, receivers: {}, plot_index: []}\n}\n\n\n    function JupyterCommManager() {\n    }\n\n    JupyterCommManager.prototype.register_target = function(plot_id, comm_id, msg_handler) {\n      if (window.comm_manager || ((window.Jupyter !== undefined) && (Jupyter.notebook.kernel != null))) {\n        var comm_manager = window.comm_manager || Jupyter.notebook.kernel.comm_manager;\n        comm_manager.register_target(comm_id, function(comm) {\n          comm.on_msg(msg_handler);\n        });\n      } else if ((plot_id in window.PyViz.kernels) && (window.PyViz.kernels[plot_id])) {\n        window.PyViz.kernels[plot_id].registerCommTarget(comm_id, function(comm) {\n          comm.onMsg = msg_handler;\n        });\n      } else if (typeof google != 'undefined' && google.colab.kernel != null) {\n        google.colab.kernel.comms.registerTarget(comm_id, (comm) => {\n          var messages = comm.messages[Symbol.asyncIterator]();\n          function processIteratorResult(result) {\n            var message = result.value;\n            console.log(message)\n            var content = {data: message.data, comm_id};\n            var buffers = []\n            for (var buffer of message.buffers || []) {\n              buffers.push(new DataView(buffer))\n            }\n            var metadata = message.metadata || {};\n            var msg = {content, buffers, metadata}\n            msg_handler(msg);\n            return messages.next().then(processIteratorResult);\n          }\n          return messages.next().then(processIteratorResult);\n        })\n      }\n    }\n\n    JupyterCommManager.prototype.get_client_comm = function(plot_id, comm_id, msg_handler) {\n      if (comm_id in window.PyViz.comms) {\n        return window.PyViz.comms[comm_id];\n      } else if (window.comm_manager || ((window.Jupyter !== undefined) && (Jupyter.notebook.kernel != null))) {\n        var comm_manager = window.comm_manager || Jupyter.notebook.kernel.comm_manager;\n        var comm = comm_manager.new_comm(comm_id, {}, {}, {}, comm_id);\n        if (msg_handler) {\n          comm.on_msg(msg_handler);\n        }\n      } else if ((plot_id in window.PyViz.kernels) && (window.PyViz.kernels[plot_id])) {\n        var comm = window.PyViz.kernels[plot_id].connectToComm(comm_id);\n        comm.open();\n        if (msg_handler) {\n          comm.onMsg = msg_handler;\n        }\n      } else if (typeof google != 'undefined' && google.colab.kernel != null) {\n        var comm_promise = google.colab.kernel.comms.open(comm_id)\n        comm_promise.then((comm) => {\n          window.PyViz.comms[comm_id] = comm;\n          if (msg_handler) {\n            var messages = comm.messages[Symbol.asyncIterator]();\n            function processIteratorResult(result) {\n              var message = result.value;\n              var content = {data: message.data};\n              var metadata = message.metadata || {comm_id};\n              var msg = {content, metadata}\n              msg_handler(msg);\n              return messages.next().then(processIteratorResult);\n            }\n            return messages.next().then(processIteratorResult);\n          }\n        }) \n        var sendClosure = (data, metadata, buffers, disposeOnDone) => {\n          return comm_promise.then((comm) => {\n            comm.send(data, metadata, buffers, disposeOnDone);\n          });\n        };\n        var comm = {\n          send: sendClosure\n        };\n      }\n      window.PyViz.comms[comm_id] = comm;\n      return comm;\n    }\n    window.PyViz.comm_manager = new JupyterCommManager();\n    \n\n\nvar JS_MIME_TYPE = 'application/javascript';\nvar HTML_MIME_TYPE = 'text/html';\nvar EXEC_MIME_TYPE = 'application/vnd.holoviews_exec.v0+json';\nvar CLASS_NAME = 'output';\n\n/**\n * Render data to the DOM node\n */\nfunction render(props, node) {\n  var div = document.createElement(\"div\");\n  var script = document.createElement(\"script\");\n  node.appendChild(div);\n  node.appendChild(script);\n}\n\n/**\n * Handle when a new output is added\n */\nfunction handle_add_output(event, handle) {\n  var output_area = handle.output_area;\n  var output = handle.output;\n  if ((output.data == undefined) || (!output.data.hasOwnProperty(EXEC_MIME_TYPE))) {\n    return\n  }\n  var id = output.metadata[EXEC_MIME_TYPE][\"id\"];\n  var toinsert = output_area.element.find(\".\" + CLASS_NAME.split(' ')[0]);\n  if (id !== undefined) {\n    var nchildren = toinsert.length;\n    var html_node = toinsert[nchildren-1].children[0];\n    html_node.innerHTML = output.data[HTML_MIME_TYPE];\n    var scripts = [];\n    var nodelist = html_node.querySelectorAll(\"script\");\n    for (var i in nodelist) {\n      if (nodelist.hasOwnProperty(i)) {\n        scripts.push(nodelist[i])\n      }\n    }\n\n    scripts.forEach( function (oldScript) {\n      var newScript = document.createElement(\"script\");\n      var attrs = [];\n      var nodemap = oldScript.attributes;\n      for (var j in nodemap) {\n        if (nodemap.hasOwnProperty(j)) {\n          attrs.push(nodemap[j])\n        }\n      }\n      attrs.forEach(function(attr) { newScript.setAttribute(attr.name, attr.value) });\n      newScript.appendChild(document.createTextNode(oldScript.innerHTML));\n      oldScript.parentNode.replaceChild(newScript, oldScript);\n    });\n    if (JS_MIME_TYPE in output.data) {\n      toinsert[nchildren-1].children[1].textContent = output.data[JS_MIME_TYPE];\n    }\n    output_area._hv_plot_id = id;\n    if ((window.Bokeh !== undefined) && (id in Bokeh.index)) {\n      window.PyViz.plot_index[id] = Bokeh.index[id];\n    } else {\n      window.PyViz.plot_index[id] = null;\n    }\n  } else if (output.metadata[EXEC_MIME_TYPE][\"server_id\"] !== undefined) {\n    var bk_div = document.createElement(\"div\");\n    bk_div.innerHTML = output.data[HTML_MIME_TYPE];\n    var script_attrs = bk_div.children[0].attributes;\n    for (var i = 0; i < script_attrs.length; i++) {\n      toinsert[toinsert.length - 1].childNodes[1].setAttribute(script_attrs[i].name, script_attrs[i].value);\n    }\n    // store reference to server id on output_area\n    output_area._bokeh_server_id = output.metadata[EXEC_MIME_TYPE][\"server_id\"];\n  }\n}\n\n/**\n * Handle when an output is cleared or removed\n */\nfunction handle_clear_output(event, handle) {\n  var id = handle.cell.output_area._hv_plot_id;\n  var server_id = handle.cell.output_area._bokeh_server_id;\n  if (((id === undefined) || !(id in PyViz.plot_index)) && (server_id !== undefined)) { return; }\n  var comm = window.PyViz.comm_manager.get_client_comm(\"hv-extension-comm\", \"hv-extension-comm\", function () {});\n  if (server_id !== null) {\n    comm.send({event_type: 'server_delete', 'id': server_id});\n    return;\n  } else if (comm !== null) {\n    comm.send({event_type: 'delete', 'id': id});\n  }\n  delete PyViz.plot_index[id];\n  if ((window.Bokeh !== undefined) & (id in window.Bokeh.index)) {\n    var doc = window.Bokeh.index[id].model.document\n    doc.clear();\n    const i = window.Bokeh.documents.indexOf(doc);\n    if (i > -1) {\n      window.Bokeh.documents.splice(i, 1);\n    }\n  }\n}\n\n/**\n * Handle kernel restart event\n */\nfunction handle_kernel_cleanup(event, handle) {\n  delete PyViz.comms[\"hv-extension-comm\"];\n  window.PyViz.plot_index = {}\n}\n\n/**\n * Handle update_display_data messages\n */\nfunction handle_update_output(event, handle) {\n  handle_clear_output(event, {cell: {output_area: handle.output_area}})\n  handle_add_output(event, handle)\n}\n\nfunction register_renderer(events, OutputArea) {\n  function append_mime(data, metadata, element) {\n    // create a DOM node to render to\n    var toinsert = this.create_output_subarea(\n    metadata,\n    CLASS_NAME,\n    EXEC_MIME_TYPE\n    );\n    this.keyboard_manager.register_events(toinsert);\n    // Render to node\n    var props = {data: data, metadata: metadata[EXEC_MIME_TYPE]};\n    render(props, toinsert[0]);\n    element.append(toinsert);\n    return toinsert\n  }\n\n  events.on('output_added.OutputArea', handle_add_output);\n  events.on('output_updated.OutputArea', handle_update_output);\n  events.on('clear_output.CodeCell', handle_clear_output);\n  events.on('delete.Cell', handle_clear_output);\n  events.on('kernel_ready.Kernel', handle_kernel_cleanup);\n\n  OutputArea.prototype.register_mime_type(EXEC_MIME_TYPE, append_mime, {\n    safe: true,\n    index: 0\n  });\n}\n\nif (window.Jupyter !== undefined) {\n  try {\n    var events = require('base/js/events');\n    var OutputArea = require('notebook/js/outputarea').OutputArea;\n    if (OutputArea.prototype.mime_types().indexOf(EXEC_MIME_TYPE) == -1) {\n      register_renderer(events, OutputArea);\n    }\n  } catch(err) {\n  }\n}\n",
      "application/vnd.holoviews_load.v0+json": ""
     },
     "metadata": {},
     "output_type": "display_data"
    },
    {
     "data": {
      "application/vnd.holoviews_exec.v0+json": "",
      "text/html": [
       "<div id='p1002'>\n",
       "  <div id=\"a2007ee7-f85c-4a0c-b8e5-dc1f4d4e6938\" data-root-id=\"p1002\" style=\"display: contents;\"></div>\n",
       "</div>\n",
       "<script type=\"application/javascript\">(function(root) {\n",
       "  var docs_json = {\"f07df8a1-b668-4a33-a5be-dee8ad063963\":{\"version\":\"3.6.0\",\"title\":\"Bokeh Application\",\"roots\":[{\"type\":\"object\",\"name\":\"panel.models.browser.BrowserInfo\",\"id\":\"p1002\"},{\"type\":\"object\",\"name\":\"panel.models.comm_manager.CommManager\",\"id\":\"p1003\",\"attributes\":{\"plot_id\":\"p1002\",\"comm_id\":\"30fb1f7231a2430183a62534215ae9d6\",\"client_comm_id\":\"7aa815a2f4e94f89b2210fb929093624\"}}],\"defs\":[{\"type\":\"model\",\"name\":\"ReactiveHTML1\"},{\"type\":\"model\",\"name\":\"FlexBox1\",\"properties\":[{\"name\":\"align_content\",\"kind\":\"Any\",\"default\":\"flex-start\"},{\"name\":\"align_items\",\"kind\":\"Any\",\"default\":\"flex-start\"},{\"name\":\"flex_direction\",\"kind\":\"Any\",\"default\":\"row\"},{\"name\":\"flex_wrap\",\"kind\":\"Any\",\"default\":\"wrap\"},{\"name\":\"gap\",\"kind\":\"Any\",\"default\":\"\"},{\"name\":\"justify_content\",\"kind\":\"Any\",\"default\":\"flex-start\"}]},{\"type\":\"model\",\"name\":\"FloatPanel1\",\"properties\":[{\"name\":\"config\",\"kind\":\"Any\",\"default\":{\"type\":\"map\"}},{\"name\":\"contained\",\"kind\":\"Any\",\"default\":true},{\"name\":\"position\",\"kind\":\"Any\",\"default\":\"right-top\"},{\"name\":\"offsetx\",\"kind\":\"Any\",\"default\":null},{\"name\":\"offsety\",\"kind\":\"Any\",\"default\":null},{\"name\":\"theme\",\"kind\":\"Any\",\"default\":\"primary\"},{\"name\":\"status\",\"kind\":\"Any\",\"default\":\"normalized\"}]},{\"type\":\"model\",\"name\":\"GridStack1\",\"properties\":[{\"name\":\"mode\",\"kind\":\"Any\",\"default\":\"warn\"},{\"name\":\"ncols\",\"kind\":\"Any\",\"default\":null},{\"name\":\"nrows\",\"kind\":\"Any\",\"default\":null},{\"name\":\"allow_resize\",\"kind\":\"Any\",\"default\":true},{\"name\":\"allow_drag\",\"kind\":\"Any\",\"default\":true},{\"name\":\"state\",\"kind\":\"Any\",\"default\":[]}]},{\"type\":\"model\",\"name\":\"drag1\",\"properties\":[{\"name\":\"slider_width\",\"kind\":\"Any\",\"default\":5},{\"name\":\"slider_color\",\"kind\":\"Any\",\"default\":\"black\"},{\"name\":\"value\",\"kind\":\"Any\",\"default\":50}]},{\"type\":\"model\",\"name\":\"click1\",\"properties\":[{\"name\":\"terminal_output\",\"kind\":\"Any\",\"default\":\"\"},{\"name\":\"debug_name\",\"kind\":\"Any\",\"default\":\"\"},{\"name\":\"clears\",\"kind\":\"Any\",\"default\":0}]},{\"type\":\"model\",\"name\":\"FastWrapper1\",\"properties\":[{\"name\":\"object\",\"kind\":\"Any\",\"default\":null},{\"name\":\"style\",\"kind\":\"Any\",\"default\":null}]},{\"type\":\"model\",\"name\":\"NotificationAreaBase1\",\"properties\":[{\"name\":\"js_events\",\"kind\":\"Any\",\"default\":{\"type\":\"map\"}},{\"name\":\"position\",\"kind\":\"Any\",\"default\":\"bottom-right\"},{\"name\":\"_clear\",\"kind\":\"Any\",\"default\":0}]},{\"type\":\"model\",\"name\":\"NotificationArea1\",\"properties\":[{\"name\":\"js_events\",\"kind\":\"Any\",\"default\":{\"type\":\"map\"}},{\"name\":\"notifications\",\"kind\":\"Any\",\"default\":[]},{\"name\":\"position\",\"kind\":\"Any\",\"default\":\"bottom-right\"},{\"name\":\"_clear\",\"kind\":\"Any\",\"default\":0},{\"name\":\"types\",\"kind\":\"Any\",\"default\":[{\"type\":\"map\",\"entries\":[[\"type\",\"warning\"],[\"background\",\"#ffc107\"],[\"icon\",{\"type\":\"map\",\"entries\":[[\"className\",\"fas fa-exclamation-triangle\"],[\"tagName\",\"i\"],[\"color\",\"white\"]]}]]},{\"type\":\"map\",\"entries\":[[\"type\",\"info\"],[\"background\",\"#007bff\"],[\"icon\",{\"type\":\"map\",\"entries\":[[\"className\",\"fas fa-info-circle\"],[\"tagName\",\"i\"],[\"color\",\"white\"]]}]]}]}]},{\"type\":\"model\",\"name\":\"Notification\",\"properties\":[{\"name\":\"background\",\"kind\":\"Any\",\"default\":null},{\"name\":\"duration\",\"kind\":\"Any\",\"default\":3000},{\"name\":\"icon\",\"kind\":\"Any\",\"default\":null},{\"name\":\"message\",\"kind\":\"Any\",\"default\":\"\"},{\"name\":\"notification_type\",\"kind\":\"Any\",\"default\":null},{\"name\":\"_destroyed\",\"kind\":\"Any\",\"default\":false}]},{\"type\":\"model\",\"name\":\"TemplateActions1\",\"properties\":[{\"name\":\"open_modal\",\"kind\":\"Any\",\"default\":0},{\"name\":\"close_modal\",\"kind\":\"Any\",\"default\":0}]},{\"type\":\"model\",\"name\":\"BootstrapTemplateActions1\",\"properties\":[{\"name\":\"open_modal\",\"kind\":\"Any\",\"default\":0},{\"name\":\"close_modal\",\"kind\":\"Any\",\"default\":0}]},{\"type\":\"model\",\"name\":\"TemplateEditor1\",\"properties\":[{\"name\":\"layout\",\"kind\":\"Any\",\"default\":[]}]},{\"type\":\"model\",\"name\":\"MaterialTemplateActions1\",\"properties\":[{\"name\":\"open_modal\",\"kind\":\"Any\",\"default\":0},{\"name\":\"close_modal\",\"kind\":\"Any\",\"default\":0}]},{\"type\":\"model\",\"name\":\"ReactiveESM1\"},{\"type\":\"model\",\"name\":\"JSComponent1\"},{\"type\":\"model\",\"name\":\"ReactComponent1\"},{\"type\":\"model\",\"name\":\"AnyWidgetComponent1\"},{\"type\":\"model\",\"name\":\"request_value1\",\"properties\":[{\"name\":\"fill\",\"kind\":\"Any\",\"default\":\"none\"},{\"name\":\"_synced\",\"kind\":\"Any\",\"default\":null},{\"name\":\"_request_sync\",\"kind\":\"Any\",\"default\":0}]}]}};\n",
       "  var render_items = [{\"docid\":\"f07df8a1-b668-4a33-a5be-dee8ad063963\",\"roots\":{\"p1002\":\"a2007ee7-f85c-4a0c-b8e5-dc1f4d4e6938\"},\"root_ids\":[\"p1002\"]}];\n",
       "  var docs = Object.values(docs_json)\n",
       "  if (!docs) {\n",
       "    return\n",
       "  }\n",
       "  const py_version = docs[0].version.replace('rc', '-rc.').replace('.dev', '-dev.')\n",
       "  async function embed_document(root) {\n",
       "    var Bokeh = get_bokeh(root)\n",
       "    await Bokeh.embed.embed_items_notebook(docs_json, render_items);\n",
       "    for (const render_item of render_items) {\n",
       "      for (const root_id of render_item.root_ids) {\n",
       "\tconst id_el = document.getElementById(root_id)\n",
       "\tif (id_el.children.length && id_el.children[0].hasAttribute('data-root-id')) {\n",
       "\t  const root_el = id_el.children[0]\n",
       "\t  root_el.id = root_el.id + '-rendered'\n",
       "\t  for (const child of root_el.children) {\n",
       "            // Ensure JupyterLab does not capture keyboard shortcuts\n",
       "            // see: https://jupyterlab.readthedocs.io/en/4.1.x/extension/notebook.html#keyboard-interaction-model\n",
       "\t    child.setAttribute('data-lm-suppress-shortcuts', 'true')\n",
       "\t  }\n",
       "\t}\n",
       "      }\n",
       "    }\n",
       "  }\n",
       "  function get_bokeh(root) {\n",
       "    if (root.Bokeh === undefined) {\n",
       "      return null\n",
       "    } else if (root.Bokeh.version !== py_version) {\n",
       "      if (root.Bokeh.versions === undefined || !root.Bokeh.versions.has(py_version)) {\n",
       "\treturn null\n",
       "      }\n",
       "      return root.Bokeh.versions.get(py_version);\n",
       "    } else if (root.Bokeh.version === py_version) {\n",
       "      return root.Bokeh\n",
       "    }\n",
       "    return null\n",
       "  }\n",
       "  function is_loaded(root) {\n",
       "    var Bokeh = get_bokeh(root)\n",
       "    return (Bokeh != null && Bokeh.Panel !== undefined)\n",
       "  }\n",
       "  if (is_loaded(root)) {\n",
       "    embed_document(root);\n",
       "  } else {\n",
       "    var attempts = 0;\n",
       "    var timer = setInterval(function(root) {\n",
       "      if (is_loaded(root)) {\n",
       "        clearInterval(timer);\n",
       "        embed_document(root);\n",
       "      } else if (document.readyState == \"complete\") {\n",
       "        attempts++;\n",
       "        if (attempts > 200) {\n",
       "          clearInterval(timer);\n",
       "\t  var Bokeh = get_bokeh(root)\n",
       "\t  if (Bokeh == null || Bokeh.Panel == null) {\n",
       "            console.warn(\"Panel: ERROR: Unable to run Panel code because Bokeh or Panel library is missing\");\n",
       "\t  } else {\n",
       "\t    console.warn(\"Panel: WARNING: Attempting to render but not all required libraries could be resolved.\")\n",
       "\t    embed_document(root)\n",
       "\t  }\n",
       "        }\n",
       "      }\n",
       "    }, 25, root)\n",
       "  }\n",
       "})(window);</script>"
      ]
     },
     "metadata": {
      "application/vnd.holoviews_exec.v0+json": {
       "id": "p1002"
      }
     },
     "output_type": "display_data"
    }
   ],
   "source": [
    "\n",
    "import pandas as pd\n",
    "from pathlib import Path\n",
    "import pyarrow.parquet as pq\n",
    "from dataclasses import dataclass\n",
    "import hvplot.pandas \n",
    "from tqdm import tqdm\n",
    "import matplotlib.pyplot as plt\n",
    "from sklearn.model_selection import train_test_split\n",
    "import torch\n",
    "from torch import nn\n",
    "from torch.utils.data import Dataset, DataLoader\n",
    "import numpy as np\n",
    "from sklearn.preprocessing import MinMaxScaler\n",
    "\n",
    "# hv.renderer('bokeh').theme = 'dark_minimal'"
   ]
  },
  {
   "cell_type": "code",
   "execution_count": 2,
   "metadata": {},
   "outputs": [],
   "source": [
    "# dataset_root = Path(r\"C:\\Users\\Raffael\\Documents\\Datasets\\alpiq_2023\") # Raw string works without escaping \\\n",
    "# dataset_root = Path(r\"C:/Users/jadbh\\Documents/Swisse/EPFL/courses/Fall 2024/Machine Learning for Predictive Maintenance/project/Dataset\")\n",
    "# dataset_root = Path(r\"C:\\Users\\jadbh\\Documents\\Swisse\\EPFL\\courses\\Fall 2024\\Machine Learning for Predictive Maintenance\\project\\team repo\\Machine-Learning-for-Predictive-Maintenance-project\\Dataset\")\n",
    "dataset_root = Path(r'Dataset')\n",
    "\n",
    "@dataclass\n",
    "class Case():\n",
    "    info: pd.DataFrame\n",
    "    measurements: pd.DataFrame\n",
    "\n",
    "\n",
    "class RawDataset():\n",
    "\n",
    "    def __init__(self, root, unit = \"VG4\", load_training=False, load_synthetic=False) -> None:\n",
    "        \n",
    "        \n",
    "        read_pq_file = lambda f: pq.read_table(root / f).to_pandas()\n",
    "        \n",
    "        \n",
    "        cases = {\n",
    "            \"test\": [f\"{unit}_generator_data_testing_real_measurements.parquet\", root / f\"{unit}_generator_data_testing_real_info.csv\" ], \n",
    "        }\n",
    "        \n",
    "        if load_training:\n",
    "            cases = {\n",
    "                **cases,\n",
    "                \"train\": [f\"{unit}_generator_data_training_measurements.parquet\", root / f\"{unit}_generator_data_training_info.csv\" ], \n",
    "            }\n",
    "        \n",
    "        if load_synthetic:\n",
    "            cases = {\n",
    "                **cases,\n",
    "                \"test_s01\": [f\"{unit}_generator_data_testing_synthetic_01_measurements.parquet\", root / f\"{unit}_generator_data_testing_synthetic_01_info.csv\"], \n",
    "                \"test_s02\": [f\"{unit}_generator_data_testing_synthetic_02_measurements.parquet\", root / f\"{unit}_generator_data_testing_synthetic_02_info.csv\"]\n",
    "            }\n",
    "        \n",
    "        \n",
    "        self.data_dict = dict()\n",
    "        \n",
    "        for id_c, c in cases.items():\n",
    "            # if you need to verify the parquet header:\n",
    "            # pq_rows = RawDataset.read_parquet_schema_df(root / c[0])\n",
    "            info = pd.read_csv(c[1])\n",
    "            measurements = read_pq_file(c[0])\n",
    "            self.data_dict[id_c] = Case(info, measurements)\n",
    "            \n",
    "        \n",
    "        \n",
    "    @staticmethod\n",
    "    def read_parquet_schema_df(uri: str) -> pd.DataFrame:\n",
    "        \"\"\"Return a Pandas dataframe corresponding to the schema of a local URI of a parquet file.\n",
    "\n",
    "        The returned dataframe has the columns: column, pa_dtype\n",
    "        \"\"\"\n",
    "        # Ref: https://stackoverflow.com/a/64288036/\n",
    "        schema = pq.read_schema(uri, memory_map=True)\n",
    "        schema = pd.DataFrame(({\"column\": name, \"pa_dtype\": str(pa_dtype)} for name, pa_dtype in zip(schema.names, schema.types)))\n",
    "        schema = schema.reindex(columns=[\"column\", \"pa_dtype\"], fill_value=pd.NA)  # Ensures columns in case the parquet file has an empty dataframe.\n",
    "        return schema\n",
    "    \n",
    "\n",
    "rds_u4 = RawDataset(dataset_root, \"VG4\", load_synthetic=False, load_training=True)\n",
    "rds_u5 = RawDataset(dataset_root, \"VG5\", load_synthetic=True, load_training=True)\n",
    "rds_u6 = RawDataset(dataset_root, \"VG6\", load_synthetic=True)"
   ]
  },
  {
   "cell_type": "code",
   "execution_count": 3,
   "metadata": {},
   "outputs": [],
   "source": [
    "# Training vg5 turbine anomalies\n",
    "\n",
    "vg5_train_meas = rds_u5.data_dict[\"train\"].measurements\n",
    "vg5_train_info = rds_u5.data_dict[\"train\"].info\n",
    "vg5_test_meas = rds_u5.data_dict[\"test\"].measurements\n",
    "vg5_test_info = rds_u5.data_dict[\"test\"].info"
   ]
  },
  {
   "cell_type": "code",
   "execution_count": 4,
   "metadata": {},
   "outputs": [],
   "source": [
    "vg5_train_filt_pump = vg5_train_meas [ (vg5_train_meas['equilibrium_short_circuit_mode'] == True)]\n",
    "    # (vg5_train_meas['equilibrium_pump_mode'] == True) & (vg5_train_meas['dyn_only_on'] == False) ]\n",
    "                                        #    (vg5_train_meas['equilibrium_turbine_mode'] == True)] \n",
    "                                        #    ((vg5_train_meas['equilibrium_pump_mode'] == True) & (vg5_train_meas['short_circuit_mode'] == False)) |\n",
    "                                        #    ((vg5_train_meas['equilibrium_pump_mode'] == True) & (vg5_train_meas['short_circuit_mode'] == True) & (vg5_train_meas['equilibrium_short_circuit_mode'] == True)) ]"
   ]
  },
  {
   "cell_type": "code",
   "execution_count": 12,
   "metadata": {},
   "outputs": [],
   "source": [
    "vg5_s1 = rds_u5.data_dict[\"test_s01\"].measurements          # synthetic testing\n",
    "vg5_s1.reset_index(inplace=True)\n",
    "vg5_s1_filt_pump = vg5_s1 [ (vg5_s1['equilibrium_short_circuit_mode'] == True)]\n",
    "    #  (vg5_s1['equilibrium_pump_mode'] == True) & (vg5_s1['dyn_only_on'] == False)  ]        # filtered synthetic testing\n",
    "                    # ((vg5_s1['equilibrium_pump_mode'] == True) & (vg5_s1['short_circuit_mode'] == False)) |\n",
    "                    # ((vg5_s1['equilibrium_pump_mode'] == True) & (vg5_s1['short_circuit_mode'] == True) & (vg5_s1['equilibrium_short_circuit_mode'] == True)) ]"
   ]
  },
  {
   "cell_type": "code",
   "execution_count": 5,
   "metadata": {},
   "outputs": [],
   "source": [
    "vg5_train_meas.reset_index(inplace=True)\n",
    "vg5_train_filt_pump = vg5_train_meas[ (vg5_train_meas['equilibrium_short_circuit_mode'] == True)]\n",
    "    # (vg5_train_meas['equilibrium_pump_mode'] == True) & (vg5_train_meas['dyn_only_on'] == False) ]\n",
    "# [ (vg5_train_meas['equilibrium_turbine_mode'] == True) ]\n",
    "                                        #    ((vg5_train_meas['equilibrium_pump_mode'] == True) & (vg5_train_meas['short_circuit_mode'] == False)) |\n",
    "                                        #    ((vg5_train_meas['equilibrium_pump_mode'] == True) & (vg5_train_meas['short_circuit_mode'] == True) & (vg5_train_meas['equilibrium_short_circuit_mode'] == True)) ]"
   ]
  },
  {
   "cell_type": "code",
   "execution_count": 7,
   "metadata": {},
   "outputs": [
    {
     "name": "stdout",
     "output_type": "stream",
     "text": [
      "\n"
     ]
    }
   ],
   "source": [
    "# # summary of VG5 useful variables\n",
    "\n",
    "vg5_train_info\n",
    "vg5_train_filt_pump     # equilibirum\n",
    "vg5_train_meas\n",
    "\n",
    "vg5_test_info\n",
    "vg5_test_meas\n",
    "\n",
    "vg5_s1\n",
    "vg5_s1_filt_pump         # equilibrium\n",
    "\n",
    "print()"
   ]
  },
  {
   "cell_type": "code",
   "execution_count": 6,
   "metadata": {},
   "outputs": [
    {
     "name": "stdout",
     "output_type": "stream",
     "text": [
      "Index(['index', 'tot_activepower', 'ext_tmp', 'plant_tmp', 'charge',\n",
      "       'coupler_position', 'injector_01_opening', 'injector_02_opening',\n",
      "       'injector_03_opening', 'injector_04_opening', 'injector_05_opening',\n",
      "       'pump_calculated_flow', 'pump_pressure_diff', 'pump_rotspeed',\n",
      "       'tot_current', 'tot_effectivepower', 'tot_reactivepower',\n",
      "       'turbine_pressure', 'turbine_rotspeed', 'water_primary_pump_01_opening',\n",
      "       'water_primary_pump_02_opening', 'air_circ_cold_01_tmp',\n",
      "       'air_circ_cold_02_tmp', 'air_circ_cold_03_tmp', 'air_circ_cold_04_tmp',\n",
      "       'air_circ_cold_05_tmp', 'air_circ_cold_06_tmp', 'air_circ_hot_01_tmp',\n",
      "       'air_circ_hot_02_tmp', 'air_circ_hot_03_tmp', 'air_circ_hot_04_tmp',\n",
      "       'air_circ_hot_05_tmp', 'air_circ_hot_06_tmp', 'elec_freq',\n",
      "       'exc_current', 'exc_voltage', 'mid_voltage', 'neutral_current',\n",
      "       'ph01_current', 'ph01_voltage', 'ph12_voltage', 'ph02_current',\n",
      "       'ph02_voltage', 'ph23_voltage', 'ph03_current', 'ph03_voltage',\n",
      "       'ph31_voltage', 'stat_coil_ph01_01_tmp', 'stat_coil_ph01_02_tmp',\n",
      "       'stat_coil_ph01_03_tmp', 'stat_coil_ph01_04_tmp',\n",
      "       'stat_coil_ph01_05_tmp', 'stat_coil_ph01_06_tmp',\n",
      "       'stat_coil_ph02_01_tmp', 'stat_coil_ph02_02_tmp',\n",
      "       'stat_coil_ph02_03_tmp', 'stat_coil_ph02_04_tmp',\n",
      "       'stat_coil_ph02_05_tmp', 'stat_coil_ph02_06_tmp',\n",
      "       'stat_coil_ph03_01_tmp', 'stat_coil_ph03_02_tmp',\n",
      "       'stat_coil_ph03_03_tmp', 'stat_coil_ph03_04_tmp',\n",
      "       'stat_coil_ph03_05_tmp', 'stat_coil_ph03_06_tmp', 'stat_magn_01_tmp',\n",
      "       'stat_magn_02_tmp', 'stat_magn_03_tmp', 'stat_magn_04_tmp',\n",
      "       'stat_magn_05_tmp', 'stat_magn_06_tmp', 'stat_magn_07_tmp',\n",
      "       'stat_magn_08_tmp', 'stat_magn_09_tmp', 'stat_magn_10_tmp',\n",
      "       'stat_magn_11_tmp', 'stat_magn_12_tmp', 'water_circ_cold_tmp',\n",
      "       'water_circ_flow', 'water_circ_hot_01_tmp', 'water_circ_hot_02_tmp',\n",
      "       'water_circ_hot_03_tmp', 'water_circ_hot_04_tmp',\n",
      "       'water_circ_hot_05_tmp', 'water_circ_hot_06_tmp', 'water_circ_hot_tmp',\n",
      "       'air_gap_negative_x_position', 'air_gap_positive_x_position',\n",
      "       'air_gap_negative_y_position', 'air_gap_positive_y_position',\n",
      "       'machine_on', 'machine_off', 'turbine_mode', 'all',\n",
      "       'equilibrium_turbine_mode', 'dyn_only_on', 'pump_mode',\n",
      "       'short_circuit_mode', 'equilibrium_pump_mode',\n",
      "       'equilibrium_short_circuit_mode'],\n",
      "      dtype='object')\n"
     ]
    },
    {
     "data": {
      "text/html": [
       "<div>\n",
       "<style scoped>\n",
       "    .dataframe tbody tr th:only-of-type {\n",
       "        vertical-align: middle;\n",
       "    }\n",
       "\n",
       "    .dataframe tbody tr th {\n",
       "        vertical-align: top;\n",
       "    }\n",
       "\n",
       "    .dataframe thead th {\n",
       "        text-align: right;\n",
       "    }\n",
       "</style>\n",
       "<table border=\"1\" class=\"dataframe\">\n",
       "  <thead>\n",
       "    <tr style=\"text-align: right;\">\n",
       "      <th></th>\n",
       "      <th>index</th>\n",
       "      <th>tot_activepower</th>\n",
       "      <th>ext_tmp</th>\n",
       "      <th>plant_tmp</th>\n",
       "      <th>charge</th>\n",
       "      <th>coupler_position</th>\n",
       "      <th>injector_01_opening</th>\n",
       "      <th>injector_02_opening</th>\n",
       "      <th>injector_03_opening</th>\n",
       "      <th>injector_04_opening</th>\n",
       "      <th>...</th>\n",
       "      <th>machine_on</th>\n",
       "      <th>machine_off</th>\n",
       "      <th>turbine_mode</th>\n",
       "      <th>all</th>\n",
       "      <th>equilibrium_turbine_mode</th>\n",
       "      <th>dyn_only_on</th>\n",
       "      <th>pump_mode</th>\n",
       "      <th>short_circuit_mode</th>\n",
       "      <th>equilibrium_pump_mode</th>\n",
       "      <th>equilibrium_short_circuit_mode</th>\n",
       "    </tr>\n",
       "  </thead>\n",
       "  <tbody>\n",
       "    <tr>\n",
       "      <th>1225</th>\n",
       "      <td>2020-01-02 10:12:30+01:00</td>\n",
       "      <td>-116.959740</td>\n",
       "      <td>6.187751</td>\n",
       "      <td>17.120198</td>\n",
       "      <td>-1.482010</td>\n",
       "      <td>185.033916</td>\n",
       "      <td>0.0</td>\n",
       "      <td>0.0</td>\n",
       "      <td>0.0</td>\n",
       "      <td>0.0</td>\n",
       "      <td>...</td>\n",
       "      <td>True</td>\n",
       "      <td>False</td>\n",
       "      <td>False</td>\n",
       "      <td>True</td>\n",
       "      <td>False</td>\n",
       "      <td>False</td>\n",
       "      <td>False</td>\n",
       "      <td>True</td>\n",
       "      <td>False</td>\n",
       "      <td>True</td>\n",
       "    </tr>\n",
       "    <tr>\n",
       "      <th>1259</th>\n",
       "      <td>2020-01-02 10:29:30+01:00</td>\n",
       "      <td>-116.942245</td>\n",
       "      <td>6.143241</td>\n",
       "      <td>17.201589</td>\n",
       "      <td>-1.525336</td>\n",
       "      <td>185.023748</td>\n",
       "      <td>0.0</td>\n",
       "      <td>0.0</td>\n",
       "      <td>0.0</td>\n",
       "      <td>0.0</td>\n",
       "      <td>...</td>\n",
       "      <td>True</td>\n",
       "      <td>False</td>\n",
       "      <td>False</td>\n",
       "      <td>True</td>\n",
       "      <td>False</td>\n",
       "      <td>False</td>\n",
       "      <td>False</td>\n",
       "      <td>True</td>\n",
       "      <td>False</td>\n",
       "      <td>True</td>\n",
       "    </tr>\n",
       "    <tr>\n",
       "      <th>1323</th>\n",
       "      <td>2020-01-02 11:01:30+01:00</td>\n",
       "      <td>-116.976814</td>\n",
       "      <td>6.754509</td>\n",
       "      <td>17.099826</td>\n",
       "      <td>-1.568675</td>\n",
       "      <td>185.053349</td>\n",
       "      <td>0.0</td>\n",
       "      <td>0.0</td>\n",
       "      <td>0.0</td>\n",
       "      <td>0.0</td>\n",
       "      <td>...</td>\n",
       "      <td>True</td>\n",
       "      <td>False</td>\n",
       "      <td>False</td>\n",
       "      <td>True</td>\n",
       "      <td>False</td>\n",
       "      <td>False</td>\n",
       "      <td>False</td>\n",
       "      <td>True</td>\n",
       "      <td>False</td>\n",
       "      <td>True</td>\n",
       "    </tr>\n",
       "  </tbody>\n",
       "</table>\n",
       "<p>3 rows × 100 columns</p>\n",
       "</div>"
      ],
      "text/plain": [
       "                         index  tot_activepower   ext_tmp  plant_tmp  \\\n",
       "1225 2020-01-02 10:12:30+01:00      -116.959740  6.187751  17.120198   \n",
       "1259 2020-01-02 10:29:30+01:00      -116.942245  6.143241  17.201589   \n",
       "1323 2020-01-02 11:01:30+01:00      -116.976814  6.754509  17.099826   \n",
       "\n",
       "        charge  coupler_position  injector_01_opening  injector_02_opening  \\\n",
       "1225 -1.482010        185.033916                  0.0                  0.0   \n",
       "1259 -1.525336        185.023748                  0.0                  0.0   \n",
       "1323 -1.568675        185.053349                  0.0                  0.0   \n",
       "\n",
       "      injector_03_opening  injector_04_opening  ...  machine_on  machine_off  \\\n",
       "1225                  0.0                  0.0  ...        True        False   \n",
       "1259                  0.0                  0.0  ...        True        False   \n",
       "1323                  0.0                  0.0  ...        True        False   \n",
       "\n",
       "      turbine_mode   all  equilibrium_turbine_mode  dyn_only_on  pump_mode  \\\n",
       "1225         False  True                     False        False      False   \n",
       "1259         False  True                     False        False      False   \n",
       "1323         False  True                     False        False      False   \n",
       "\n",
       "      short_circuit_mode  equilibrium_pump_mode  \\\n",
       "1225                True                  False   \n",
       "1259                True                  False   \n",
       "1323                True                  False   \n",
       "\n",
       "      equilibrium_short_circuit_mode  \n",
       "1225                            True  \n",
       "1259                            True  \n",
       "1323                            True  \n",
       "\n",
       "[3 rows x 100 columns]"
      ]
     },
     "execution_count": 6,
     "metadata": {},
     "output_type": "execute_result"
    }
   ],
   "source": [
    "df = vg5_train_filt_pump\n",
    "print(df.columns)\n",
    "df.head(3)"
   ]
  },
  {
   "cell_type": "code",
   "execution_count": 7,
   "metadata": {},
   "outputs": [
    {
     "name": "stdout",
     "output_type": "stream",
     "text": [
      "OG columns:  ['index', 'tot_activepower', 'ext_tmp', 'plant_tmp', 'charge', 'coupler_position', 'injector_01_opening', 'injector_02_opening', 'injector_03_opening', 'injector_04_opening', 'injector_05_opening', 'pump_calculated_flow', 'pump_pressure_diff', 'pump_rotspeed', 'tot_current', 'tot_effectivepower', 'tot_reactivepower', 'turbine_pressure', 'turbine_rotspeed', 'water_primary_pump_01_opening', 'water_primary_pump_02_opening', 'air_circ_cold_01_tmp', 'air_circ_cold_02_tmp', 'air_circ_cold_03_tmp', 'air_circ_cold_04_tmp', 'air_circ_cold_05_tmp', 'air_circ_cold_06_tmp', 'air_circ_hot_01_tmp', 'air_circ_hot_02_tmp', 'air_circ_hot_03_tmp', 'air_circ_hot_04_tmp', 'air_circ_hot_05_tmp', 'air_circ_hot_06_tmp', 'elec_freq', 'exc_current', 'exc_voltage', 'mid_voltage', 'neutral_current', 'ph01_current', 'ph01_voltage', 'ph12_voltage', 'ph02_current', 'ph02_voltage', 'ph23_voltage', 'ph03_current', 'ph03_voltage', 'ph31_voltage', 'stat_coil_ph01_01_tmp', 'stat_coil_ph01_02_tmp', 'stat_coil_ph01_03_tmp', 'stat_coil_ph01_04_tmp', 'stat_coil_ph01_05_tmp', 'stat_coil_ph01_06_tmp', 'stat_coil_ph02_01_tmp', 'stat_coil_ph02_02_tmp', 'stat_coil_ph02_03_tmp', 'stat_coil_ph02_04_tmp', 'stat_coil_ph02_05_tmp', 'stat_coil_ph02_06_tmp', 'stat_coil_ph03_01_tmp', 'stat_coil_ph03_02_tmp', 'stat_coil_ph03_03_tmp', 'stat_coil_ph03_04_tmp', 'stat_coil_ph03_05_tmp', 'stat_coil_ph03_06_tmp', 'stat_magn_01_tmp', 'stat_magn_02_tmp', 'stat_magn_03_tmp', 'stat_magn_04_tmp', 'stat_magn_05_tmp', 'stat_magn_06_tmp', 'stat_magn_07_tmp', 'stat_magn_08_tmp', 'stat_magn_09_tmp', 'stat_magn_10_tmp', 'stat_magn_11_tmp', 'stat_magn_12_tmp', 'water_circ_cold_tmp', 'water_circ_flow', 'water_circ_hot_01_tmp', 'water_circ_hot_02_tmp', 'water_circ_hot_03_tmp', 'water_circ_hot_04_tmp', 'water_circ_hot_05_tmp', 'water_circ_hot_06_tmp', 'water_circ_hot_tmp', 'air_gap_negative_x_position', 'air_gap_positive_x_position', 'air_gap_negative_y_position', 'air_gap_positive_y_position', 'machine_on', 'machine_off', 'turbine_mode', 'all', 'equilibrium_turbine_mode', 'dyn_only_on', 'pump_mode', 'short_circuit_mode', 'equilibrium_pump_mode', 'equilibrium_short_circuit_mode']\n",
      "OG columns length:  100\n",
      "final columns:        ['tot_activepower', 'ext_tmp', 'plant_tmp', 'charge', 'coupler_position', 'pump_calculated_flow', 'pump_pressure_diff', 'pump_rotspeed', 'tot_current', 'tot_effectivepower', 'tot_reactivepower', 'turbine_pressure', 'turbine_rotspeed', 'water_primary_pump_01_opening', 'water_primary_pump_02_opening', 'air_circ_cold_01_tmp', 'air_circ_cold_02_tmp', 'air_circ_cold_03_tmp', 'air_circ_cold_04_tmp', 'air_circ_cold_05_tmp', 'air_circ_cold_06_tmp', 'air_circ_hot_01_tmp', 'air_circ_hot_02_tmp', 'air_circ_hot_03_tmp', 'air_circ_hot_04_tmp', 'air_circ_hot_05_tmp', 'air_circ_hot_06_tmp', 'elec_freq', 'exc_current', 'exc_voltage', 'mid_voltage', 'neutral_current', 'ph01_current', 'ph01_voltage', 'ph12_voltage', 'ph02_current', 'ph02_voltage', 'ph23_voltage', 'ph03_current', 'ph03_voltage', 'ph31_voltage', 'stat_coil_ph01_01_tmp', 'stat_coil_ph01_02_tmp', 'stat_coil_ph01_03_tmp', 'stat_coil_ph01_04_tmp', 'stat_coil_ph01_05_tmp', 'stat_coil_ph01_06_tmp', 'stat_coil_ph02_01_tmp', 'stat_coil_ph02_02_tmp', 'stat_coil_ph02_03_tmp', 'stat_coil_ph02_04_tmp', 'stat_coil_ph02_05_tmp', 'stat_coil_ph02_06_tmp', 'stat_coil_ph03_01_tmp', 'stat_coil_ph03_02_tmp', 'stat_coil_ph03_03_tmp', 'stat_coil_ph03_04_tmp', 'stat_coil_ph03_05_tmp', 'stat_coil_ph03_06_tmp', 'stat_magn_01_tmp', 'stat_magn_02_tmp', 'stat_magn_03_tmp', 'stat_magn_04_tmp', 'stat_magn_05_tmp', 'stat_magn_06_tmp', 'stat_magn_07_tmp', 'stat_magn_08_tmp', 'stat_magn_09_tmp', 'stat_magn_10_tmp', 'stat_magn_11_tmp', 'stat_magn_12_tmp', 'water_circ_cold_tmp', 'water_circ_flow', 'water_circ_hot_01_tmp', 'water_circ_hot_02_tmp', 'water_circ_hot_03_tmp', 'water_circ_hot_04_tmp', 'water_circ_hot_05_tmp', 'water_circ_hot_06_tmp', 'water_circ_hot_tmp', 'air_gap_negative_x_position', 'air_gap_positive_x_position', 'air_gap_negative_y_position', 'air_gap_positive_y_position']\n",
      "final columns lengthL 84\n"
     ]
    },
    {
     "name": "stderr",
     "output_type": "stream",
     "text": [
      "C:\\Users\\user\\AppData\\Local\\Temp\\ipykernel_18224\\1347542864.py:3: SettingWithCopyWarning: \n",
      "A value is trying to be set on a copy of a slice from a DataFrame\n",
      "\n",
      "See the caveats in the documentation: https://pandas.pydata.org/pandas-docs/stable/user_guide/indexing.html#returning-a-view-versus-a-copy\n",
      "  df.drop(columns=df.loc[:, 'machine_on':'equilibrium_short_circuit_mode'].columns, inplace=True)\n",
      "C:\\Users\\user\\AppData\\Local\\Temp\\ipykernel_18224\\1347542864.py:4: SettingWithCopyWarning: \n",
      "A value is trying to be set on a copy of a slice from a DataFrame\n",
      "\n",
      "See the caveats in the documentation: https://pandas.pydata.org/pandas-docs/stable/user_guide/indexing.html#returning-a-view-versus-a-copy\n",
      "  df.drop(['index'], axis = 1, inplace=True)\n",
      "C:\\Users\\user\\AppData\\Local\\Temp\\ipykernel_18224\\1347542864.py:5: SettingWithCopyWarning: \n",
      "A value is trying to be set on a copy of a slice from a DataFrame\n",
      "\n",
      "See the caveats in the documentation: https://pandas.pydata.org/pandas-docs/stable/user_guide/indexing.html#returning-a-view-versus-a-copy\n",
      "  df.drop(columns= df.loc[:, 'injector_01_opening':'injector_05_opening'].columns, inplace= True)\n"
     ]
    },
    {
     "data": {
      "text/html": [
       "<div>\n",
       "<style scoped>\n",
       "    .dataframe tbody tr th:only-of-type {\n",
       "        vertical-align: middle;\n",
       "    }\n",
       "\n",
       "    .dataframe tbody tr th {\n",
       "        vertical-align: top;\n",
       "    }\n",
       "\n",
       "    .dataframe thead th {\n",
       "        text-align: right;\n",
       "    }\n",
       "</style>\n",
       "<table border=\"1\" class=\"dataframe\">\n",
       "  <thead>\n",
       "    <tr style=\"text-align: right;\">\n",
       "      <th></th>\n",
       "      <th>tot_activepower</th>\n",
       "      <th>ext_tmp</th>\n",
       "      <th>plant_tmp</th>\n",
       "      <th>charge</th>\n",
       "      <th>coupler_position</th>\n",
       "      <th>pump_calculated_flow</th>\n",
       "      <th>pump_pressure_diff</th>\n",
       "      <th>pump_rotspeed</th>\n",
       "      <th>tot_current</th>\n",
       "      <th>tot_effectivepower</th>\n",
       "      <th>...</th>\n",
       "      <th>water_circ_hot_02_tmp</th>\n",
       "      <th>water_circ_hot_03_tmp</th>\n",
       "      <th>water_circ_hot_04_tmp</th>\n",
       "      <th>water_circ_hot_05_tmp</th>\n",
       "      <th>water_circ_hot_06_tmp</th>\n",
       "      <th>water_circ_hot_tmp</th>\n",
       "      <th>air_gap_negative_x_position</th>\n",
       "      <th>air_gap_positive_x_position</th>\n",
       "      <th>air_gap_negative_y_position</th>\n",
       "      <th>air_gap_positive_y_position</th>\n",
       "    </tr>\n",
       "  </thead>\n",
       "  <tbody>\n",
       "    <tr>\n",
       "      <th>782923</th>\n",
       "      <td>-113.453869</td>\n",
       "      <td>14.613169</td>\n",
       "      <td>19.207285</td>\n",
       "      <td>-115.327720</td>\n",
       "      <td>185.057420</td>\n",
       "      <td>12.968561</td>\n",
       "      <td>338.283356</td>\n",
       "      <td>498.000031</td>\n",
       "      <td>4531.334603</td>\n",
       "      <td>117.239944</td>\n",
       "      <td>...</td>\n",
       "      <td>29.574875</td>\n",
       "      <td>29.299999</td>\n",
       "      <td>29.474958</td>\n",
       "      <td>29.416006</td>\n",
       "      <td>29.400000</td>\n",
       "      <td>29.500000</td>\n",
       "      <td>37.139254</td>\n",
       "      <td>35.539963</td>\n",
       "      <td>35.241971</td>\n",
       "      <td>34.013158</td>\n",
       "    </tr>\n",
       "    <tr>\n",
       "      <th>330343</th>\n",
       "      <td>-68.078399</td>\n",
       "      <td>21.509328</td>\n",
       "      <td>15.225973</td>\n",
       "      <td>-68.651560</td>\n",
       "      <td>185.054325</td>\n",
       "      <td>13.709089</td>\n",
       "      <td>378.550018</td>\n",
       "      <td>499.146729</td>\n",
       "      <td>2694.279480</td>\n",
       "      <td>71.289795</td>\n",
       "      <td>...</td>\n",
       "      <td>20.299999</td>\n",
       "      <td>19.966667</td>\n",
       "      <td>19.915000</td>\n",
       "      <td>19.900000</td>\n",
       "      <td>19.929268</td>\n",
       "      <td>20.125000</td>\n",
       "      <td>36.450539</td>\n",
       "      <td>33.659000</td>\n",
       "      <td>37.656735</td>\n",
       "      <td>34.431182</td>\n",
       "    </tr>\n",
       "    <tr>\n",
       "      <th>87520</th>\n",
       "      <td>-112.448963</td>\n",
       "      <td>8.151069</td>\n",
       "      <td>15.510315</td>\n",
       "      <td>-113.303669</td>\n",
       "      <td>185.047996</td>\n",
       "      <td>13.109105</td>\n",
       "      <td>347.566681</td>\n",
       "      <td>499.022257</td>\n",
       "      <td>4146.322798</td>\n",
       "      <td>112.652996</td>\n",
       "      <td>...</td>\n",
       "      <td>16.900000</td>\n",
       "      <td>16.400000</td>\n",
       "      <td>16.893023</td>\n",
       "      <td>16.739999</td>\n",
       "      <td>16.720000</td>\n",
       "      <td>17.299999</td>\n",
       "      <td>36.805335</td>\n",
       "      <td>33.375364</td>\n",
       "      <td>36.671572</td>\n",
       "      <td>34.580636</td>\n",
       "    </tr>\n",
       "  </tbody>\n",
       "</table>\n",
       "<p>3 rows × 84 columns</p>\n",
       "</div>"
      ],
      "text/plain": [
       "        tot_activepower    ext_tmp  plant_tmp      charge  coupler_position  \\\n",
       "782923      -113.453869  14.613169  19.207285 -115.327720        185.057420   \n",
       "330343       -68.078399  21.509328  15.225973  -68.651560        185.054325   \n",
       "87520       -112.448963   8.151069  15.510315 -113.303669        185.047996   \n",
       "\n",
       "        pump_calculated_flow  pump_pressure_diff  pump_rotspeed  tot_current  \\\n",
       "782923             12.968561          338.283356     498.000031  4531.334603   \n",
       "330343             13.709089          378.550018     499.146729  2694.279480   \n",
       "87520              13.109105          347.566681     499.022257  4146.322798   \n",
       "\n",
       "        tot_effectivepower  ...  water_circ_hot_02_tmp  water_circ_hot_03_tmp  \\\n",
       "782923          117.239944  ...              29.574875              29.299999   \n",
       "330343           71.289795  ...              20.299999              19.966667   \n",
       "87520           112.652996  ...              16.900000              16.400000   \n",
       "\n",
       "        water_circ_hot_04_tmp  water_circ_hot_05_tmp  water_circ_hot_06_tmp  \\\n",
       "782923              29.474958              29.416006              29.400000   \n",
       "330343              19.915000              19.900000              19.929268   \n",
       "87520               16.893023              16.739999              16.720000   \n",
       "\n",
       "        water_circ_hot_tmp  air_gap_negative_x_position  \\\n",
       "782923           29.500000                    37.139254   \n",
       "330343           20.125000                    36.450539   \n",
       "87520            17.299999                    36.805335   \n",
       "\n",
       "        air_gap_positive_x_position  air_gap_negative_y_position  \\\n",
       "782923                    35.539963                    35.241971   \n",
       "330343                    33.659000                    37.656735   \n",
       "87520                     33.375364                    36.671572   \n",
       "\n",
       "        air_gap_positive_y_position  \n",
       "782923                    34.013158  \n",
       "330343                    34.431182  \n",
       "87520                     34.580636  \n",
       "\n",
       "[3 rows x 84 columns]"
      ]
     },
     "execution_count": 7,
     "metadata": {},
     "output_type": "execute_result"
    }
   ],
   "source": [
    "print(\"OG columns: \", df.columns.to_list())\n",
    "print(\"OG columns length: \", len(df.columns.to_list()))\n",
    "df.drop(columns=df.loc[:, 'machine_on':'equilibrium_short_circuit_mode'].columns, inplace=True)\n",
    "df.drop(['index'], axis = 1, inplace=True)\n",
    "df.drop(columns= df.loc[:, 'injector_01_opening':'injector_05_opening'].columns, inplace= True)\n",
    "print(\"final columns:       \", df.columns.to_list())\n",
    "print(\"final columns lengthL\", len(df.columns.to_list()))\n",
    "df.sample(3)\n"
   ]
  },
  {
   "cell_type": "code",
   "execution_count": 13,
   "metadata": {},
   "outputs": [
    {
     "name": "stdout",
     "output_type": "stream",
     "text": [
      "OG columns:  ['index', 'tot_activepower', 'ext_tmp', 'plant_tmp', 'charge', 'coupler_position', 'injector_01_opening', 'injector_02_opening', 'injector_03_opening', 'injector_04_opening', 'injector_05_opening', 'pump_calculated_flow', 'pump_pressure_diff', 'pump_rotspeed', 'tot_current', 'tot_effectivepower', 'tot_reactivepower', 'turbine_pressure', 'turbine_rotspeed', 'water_primary_pump_01_opening', 'water_primary_pump_02_opening', 'air_circ_cold_01_tmp', 'air_circ_cold_02_tmp', 'air_circ_cold_03_tmp', 'air_circ_cold_04_tmp', 'air_circ_cold_05_tmp', 'air_circ_cold_06_tmp', 'air_circ_hot_01_tmp', 'air_circ_hot_02_tmp', 'air_circ_hot_03_tmp', 'air_circ_hot_04_tmp', 'air_circ_hot_05_tmp', 'air_circ_hot_06_tmp', 'elec_freq', 'exc_current', 'exc_voltage', 'mid_voltage', 'neutral_current', 'ph01_current', 'ph01_voltage', 'ph12_voltage', 'ph02_current', 'ph02_voltage', 'ph23_voltage', 'ph03_current', 'ph03_voltage', 'ph31_voltage', 'stat_coil_ph01_01_tmp', 'stat_coil_ph01_02_tmp', 'stat_coil_ph01_03_tmp', 'stat_coil_ph01_04_tmp', 'stat_coil_ph01_05_tmp', 'stat_coil_ph01_06_tmp', 'stat_coil_ph02_01_tmp', 'stat_coil_ph02_02_tmp', 'stat_coil_ph02_03_tmp', 'stat_coil_ph02_04_tmp', 'stat_coil_ph02_05_tmp', 'stat_coil_ph02_06_tmp', 'stat_coil_ph03_01_tmp', 'stat_coil_ph03_02_tmp', 'stat_coil_ph03_03_tmp', 'stat_coil_ph03_04_tmp', 'stat_coil_ph03_05_tmp', 'stat_coil_ph03_06_tmp', 'stat_magn_01_tmp', 'stat_magn_02_tmp', 'stat_magn_03_tmp', 'stat_magn_04_tmp', 'stat_magn_05_tmp', 'stat_magn_06_tmp', 'stat_magn_07_tmp', 'stat_magn_08_tmp', 'stat_magn_09_tmp', 'stat_magn_10_tmp', 'stat_magn_11_tmp', 'stat_magn_12_tmp', 'water_circ_cold_tmp', 'water_circ_flow', 'water_circ_hot_01_tmp', 'water_circ_hot_02_tmp', 'water_circ_hot_03_tmp', 'water_circ_hot_04_tmp', 'water_circ_hot_05_tmp', 'water_circ_hot_06_tmp', 'water_circ_hot_tmp', 'air_gap_negative_x_position', 'air_gap_positive_x_position', 'air_gap_negative_y_position', 'air_gap_positive_y_position', 'machine_on', 'machine_off', 'turbine_mode', 'all', 'equilibrium_turbine_mode', 'dyn_only_on', 'pump_mode', 'short_circuit_mode', 'equilibrium_pump_mode', 'equilibrium_short_circuit_mode']\n",
      "OG columns length:  100\n",
      "final columns:        ['tot_activepower', 'ext_tmp', 'plant_tmp', 'charge', 'coupler_position', 'pump_calculated_flow', 'pump_pressure_diff', 'pump_rotspeed', 'tot_current', 'tot_effectivepower', 'tot_reactivepower', 'turbine_pressure', 'turbine_rotspeed', 'water_primary_pump_01_opening', 'water_primary_pump_02_opening', 'air_circ_cold_01_tmp', 'air_circ_cold_02_tmp', 'air_circ_cold_03_tmp', 'air_circ_cold_04_tmp', 'air_circ_cold_05_tmp', 'air_circ_cold_06_tmp', 'air_circ_hot_01_tmp', 'air_circ_hot_02_tmp', 'air_circ_hot_03_tmp', 'air_circ_hot_04_tmp', 'air_circ_hot_05_tmp', 'air_circ_hot_06_tmp', 'elec_freq', 'exc_current', 'exc_voltage', 'mid_voltage', 'neutral_current', 'ph01_current', 'ph01_voltage', 'ph12_voltage', 'ph02_current', 'ph02_voltage', 'ph23_voltage', 'ph03_current', 'ph03_voltage', 'ph31_voltage', 'stat_coil_ph01_01_tmp', 'stat_coil_ph01_02_tmp', 'stat_coil_ph01_03_tmp', 'stat_coil_ph01_04_tmp', 'stat_coil_ph01_05_tmp', 'stat_coil_ph01_06_tmp', 'stat_coil_ph02_01_tmp', 'stat_coil_ph02_02_tmp', 'stat_coil_ph02_03_tmp', 'stat_coil_ph02_04_tmp', 'stat_coil_ph02_05_tmp', 'stat_coil_ph02_06_tmp', 'stat_coil_ph03_01_tmp', 'stat_coil_ph03_02_tmp', 'stat_coil_ph03_03_tmp', 'stat_coil_ph03_04_tmp', 'stat_coil_ph03_05_tmp', 'stat_coil_ph03_06_tmp', 'stat_magn_01_tmp', 'stat_magn_02_tmp', 'stat_magn_03_tmp', 'stat_magn_04_tmp', 'stat_magn_05_tmp', 'stat_magn_06_tmp', 'stat_magn_07_tmp', 'stat_magn_08_tmp', 'stat_magn_09_tmp', 'stat_magn_10_tmp', 'stat_magn_11_tmp', 'stat_magn_12_tmp', 'water_circ_cold_tmp', 'water_circ_flow', 'water_circ_hot_01_tmp', 'water_circ_hot_02_tmp', 'water_circ_hot_03_tmp', 'water_circ_hot_04_tmp', 'water_circ_hot_05_tmp', 'water_circ_hot_06_tmp', 'water_circ_hot_tmp', 'air_gap_negative_x_position', 'air_gap_positive_x_position', 'air_gap_negative_y_position', 'air_gap_positive_y_position']\n",
      "final columns lengthL 84\n"
     ]
    },
    {
     "name": "stderr",
     "output_type": "stream",
     "text": [
      "C:\\Users\\user\\AppData\\Local\\Temp\\ipykernel_18224\\127258494.py:5: SettingWithCopyWarning: \n",
      "A value is trying to be set on a copy of a slice from a DataFrame\n",
      "\n",
      "See the caveats in the documentation: https://pandas.pydata.org/pandas-docs/stable/user_guide/indexing.html#returning-a-view-versus-a-copy\n",
      "  df_test.drop(columns=df_test.loc[:, 'machine_on':'equilibrium_short_circuit_mode'].columns, inplace=True)\n",
      "C:\\Users\\user\\AppData\\Local\\Temp\\ipykernel_18224\\127258494.py:6: SettingWithCopyWarning: \n",
      "A value is trying to be set on a copy of a slice from a DataFrame\n",
      "\n",
      "See the caveats in the documentation: https://pandas.pydata.org/pandas-docs/stable/user_guide/indexing.html#returning-a-view-versus-a-copy\n",
      "  df_test.drop(['index'], axis = 1, inplace=True)\n",
      "C:\\Users\\user\\AppData\\Local\\Temp\\ipykernel_18224\\127258494.py:7: SettingWithCopyWarning: \n",
      "A value is trying to be set on a copy of a slice from a DataFrame\n",
      "\n",
      "See the caveats in the documentation: https://pandas.pydata.org/pandas-docs/stable/user_guide/indexing.html#returning-a-view-versus-a-copy\n",
      "  df_test.drop(columns= df_test.loc[:, 'injector_01_opening':'injector_05_opening'].columns, inplace= True)\n"
     ]
    },
    {
     "data": {
      "text/html": [
       "<div>\n",
       "<style scoped>\n",
       "    .dataframe tbody tr th:only-of-type {\n",
       "        vertical-align: middle;\n",
       "    }\n",
       "\n",
       "    .dataframe tbody tr th {\n",
       "        vertical-align: top;\n",
       "    }\n",
       "\n",
       "    .dataframe thead th {\n",
       "        text-align: right;\n",
       "    }\n",
       "</style>\n",
       "<table border=\"1\" class=\"dataframe\">\n",
       "  <thead>\n",
       "    <tr style=\"text-align: right;\">\n",
       "      <th></th>\n",
       "      <th>tot_activepower</th>\n",
       "      <th>ext_tmp</th>\n",
       "      <th>plant_tmp</th>\n",
       "      <th>charge</th>\n",
       "      <th>coupler_position</th>\n",
       "      <th>pump_calculated_flow</th>\n",
       "      <th>pump_pressure_diff</th>\n",
       "      <th>pump_rotspeed</th>\n",
       "      <th>tot_current</th>\n",
       "      <th>tot_effectivepower</th>\n",
       "      <th>...</th>\n",
       "      <th>water_circ_hot_02_tmp</th>\n",
       "      <th>water_circ_hot_03_tmp</th>\n",
       "      <th>water_circ_hot_04_tmp</th>\n",
       "      <th>water_circ_hot_05_tmp</th>\n",
       "      <th>water_circ_hot_06_tmp</th>\n",
       "      <th>water_circ_hot_tmp</th>\n",
       "      <th>air_gap_negative_x_position</th>\n",
       "      <th>air_gap_positive_x_position</th>\n",
       "      <th>air_gap_negative_y_position</th>\n",
       "      <th>air_gap_positive_y_position</th>\n",
       "    </tr>\n",
       "  </thead>\n",
       "  <tbody>\n",
       "    <tr>\n",
       "      <th>70540</th>\n",
       "      <td>-113.014336</td>\n",
       "      <td>26.668502</td>\n",
       "      <td>18.121704</td>\n",
       "      <td>-115.350442</td>\n",
       "      <td>185.065577</td>\n",
       "      <td>13.111234</td>\n",
       "      <td>347.830571</td>\n",
       "      <td>497.013306</td>\n",
       "      <td>4476.932699</td>\n",
       "      <td>117.065517</td>\n",
       "      <td>...</td>\n",
       "      <td>31.320000</td>\n",
       "      <td>30.700000</td>\n",
       "      <td>30.830769</td>\n",
       "      <td>30.772727</td>\n",
       "      <td>30.45</td>\n",
       "      <td>31.900000</td>\n",
       "      <td>38.453003</td>\n",
       "      <td>38.605733</td>\n",
       "      <td>41.244539</td>\n",
       "      <td>37.688744</td>\n",
       "    </tr>\n",
       "    <tr>\n",
       "      <th>171028</th>\n",
       "      <td>-113.438328</td>\n",
       "      <td>21.731621</td>\n",
       "      <td>19.414681</td>\n",
       "      <td>-114.690334</td>\n",
       "      <td>185.062818</td>\n",
       "      <td>12.744677</td>\n",
       "      <td>329.542873</td>\n",
       "      <td>498.613403</td>\n",
       "      <td>4273.101759</td>\n",
       "      <td>113.889542</td>\n",
       "      <td>...</td>\n",
       "      <td>31.522222</td>\n",
       "      <td>31.488311</td>\n",
       "      <td>31.563279</td>\n",
       "      <td>31.570625</td>\n",
       "      <td>31.45</td>\n",
       "      <td>31.338888</td>\n",
       "      <td>41.836800</td>\n",
       "      <td>36.561335</td>\n",
       "      <td>36.654873</td>\n",
       "      <td>37.496243</td>\n",
       "    </tr>\n",
       "    <tr>\n",
       "      <th>33030</th>\n",
       "      <td>-112.655403</td>\n",
       "      <td>28.506465</td>\n",
       "      <td>17.739843</td>\n",
       "      <td>-115.491999</td>\n",
       "      <td>185.072036</td>\n",
       "      <td>12.896081</td>\n",
       "      <td>336.133354</td>\n",
       "      <td>498.864001</td>\n",
       "      <td>4250.273307</td>\n",
       "      <td>113.269012</td>\n",
       "      <td>...</td>\n",
       "      <td>29.300001</td>\n",
       "      <td>29.100000</td>\n",
       "      <td>29.471428</td>\n",
       "      <td>29.457143</td>\n",
       "      <td>29.60</td>\n",
       "      <td>29.466666</td>\n",
       "      <td>38.220573</td>\n",
       "      <td>35.586259</td>\n",
       "      <td>36.066002</td>\n",
       "      <td>36.671735</td>\n",
       "    </tr>\n",
       "  </tbody>\n",
       "</table>\n",
       "<p>3 rows × 84 columns</p>\n",
       "</div>"
      ],
      "text/plain": [
       "        tot_activepower    ext_tmp  plant_tmp      charge  coupler_position  \\\n",
       "70540       -113.014336  26.668502  18.121704 -115.350442        185.065577   \n",
       "171028      -113.438328  21.731621  19.414681 -114.690334        185.062818   \n",
       "33030       -112.655403  28.506465  17.739843 -115.491999        185.072036   \n",
       "\n",
       "        pump_calculated_flow  pump_pressure_diff  pump_rotspeed  tot_current  \\\n",
       "70540              13.111234          347.830571     497.013306  4476.932699   \n",
       "171028             12.744677          329.542873     498.613403  4273.101759   \n",
       "33030              12.896081          336.133354     498.864001  4250.273307   \n",
       "\n",
       "        tot_effectivepower  ...  water_circ_hot_02_tmp  water_circ_hot_03_tmp  \\\n",
       "70540           117.065517  ...              31.320000              30.700000   \n",
       "171028          113.889542  ...              31.522222              31.488311   \n",
       "33030           113.269012  ...              29.300001              29.100000   \n",
       "\n",
       "        water_circ_hot_04_tmp  water_circ_hot_05_tmp  water_circ_hot_06_tmp  \\\n",
       "70540               30.830769              30.772727                  30.45   \n",
       "171028              31.563279              31.570625                  31.45   \n",
       "33030               29.471428              29.457143                  29.60   \n",
       "\n",
       "        water_circ_hot_tmp  air_gap_negative_x_position  \\\n",
       "70540            31.900000                    38.453003   \n",
       "171028           31.338888                    41.836800   \n",
       "33030            29.466666                    38.220573   \n",
       "\n",
       "        air_gap_positive_x_position  air_gap_negative_y_position  \\\n",
       "70540                     38.605733                    41.244539   \n",
       "171028                    36.561335                    36.654873   \n",
       "33030                     35.586259                    36.066002   \n",
       "\n",
       "        air_gap_positive_y_position  \n",
       "70540                     37.688744  \n",
       "171028                    37.496243  \n",
       "33030                     36.671735  \n",
       "\n",
       "[3 rows x 84 columns]"
      ]
     },
     "execution_count": 13,
     "metadata": {},
     "output_type": "execute_result"
    }
   ],
   "source": [
    "df_test = vg5_s1_filt_pump\n",
    "\n",
    "print(\"OG columns: \", df_test.columns.to_list())\n",
    "print(\"OG columns length: \", len(df_test.columns.to_list()))\n",
    "df_test.drop(columns=df_test.loc[:, 'machine_on':'equilibrium_short_circuit_mode'].columns, inplace=True)\n",
    "df_test.drop(['index'], axis = 1, inplace=True)\n",
    "df_test.drop(columns= df_test.loc[:, 'injector_01_opening':'injector_05_opening'].columns, inplace= True)\n",
    "print(\"final columns:       \", df_test.columns.to_list())\n",
    "print(\"final columns lengthL\", len(df_test.columns.to_list()))\n",
    "df_test.sample(3)"
   ]
  },
  {
   "cell_type": "code",
   "execution_count": 9,
   "metadata": {},
   "outputs": [],
   "source": [
    "from sklearn.preprocessing import MinMaxScaler, RobustScaler\n",
    "# Updated scaling function\n",
    "def scale_data(train_df, test_df, feature_columns, scaler='minmax'):\n",
    "    \"\"\"\n",
    "    Scales data per column using the specified scaler and avoids data leakage.\n",
    "    Args:\n",
    "        train_df (pd.DataFrame): Training data\n",
    "        test_df (pd.DataFrame): Testing data\n",
    "        feature_columns (list): Columns to be scaled\n",
    "        scaler (str): Type of scaler ('minmax' or 'robust')\n",
    "    Returns:\n",
    "        scaled_train_df, scaled_test_df: Scaled versions of train and test data\n",
    "        feature_ranges: Ranges of each feature after scaling\n",
    "    \"\"\"\n",
    "    # Initialize the scaler\n",
    "    if scaler == 'minmax':\n",
    "        scaler_instance = MinMaxScaler()\n",
    "    elif scaler == 'robust':\n",
    "        scaler_instance = RobustScaler()\n",
    "    else:\n",
    "        raise ValueError(\"Unsupported scaler. Choose 'minmax' or 'robust'.\")\n",
    "\n",
    "    # Fit the scaler on training data\n",
    "    scaler_instance.fit(train_df[feature_columns])\n",
    "\n",
    "    # Transform both train and test data\n",
    "    scaled_train_df = train_df.copy()\n",
    "    scaled_test_df = test_df.copy()\n",
    "    scaled_train_df[feature_columns] = scaler_instance.transform(train_df[feature_columns])\n",
    "    scaled_test_df[feature_columns] = scaler_instance.transform(test_df[feature_columns])\n",
    "\n",
    "    # Compute the range of each feature in the scaled training set\n",
    "    feature_ranges = pd.DataFrame({\n",
    "        \"Feature\": feature_columns,\n",
    "        \"Min\": scaled_train_df[feature_columns].min().values,\n",
    "        \"Max\": scaled_train_df[feature_columns].max().values\n",
    "    })\n",
    "\n",
    "    return scaled_train_df, scaled_test_df, feature_ranges"
   ]
  },
  {
   "cell_type": "code",
   "execution_count": 14,
   "metadata": {},
   "outputs": [
    {
     "name": "stdout",
     "output_type": "stream",
     "text": [
      "Total df shape: (105952, 84)\n",
      "Training set shape: (84761, 84)\n",
      "Testing set shape: (21191, 84)\n"
     ]
    }
   ],
   "source": [
    "class SlidingWindowDataset(Dataset):\n",
    "    def __init__(self, dataframe, feature_columns, window_size, step_size=1, max_gap=10, stride = 2):\n",
    "        \"\"\"\n",
    "        Args:\n",
    "            dataframe (pd.DataFrame): The dataframe containing sensor data.\n",
    "            feature_columns (list): List of column names for features.\n",
    "            window_size (int): The number of timesteps in each sliding window.\n",
    "            step_size (int): The step size to slide the window.\n",
    "            max_gap (int): Maximum allowed gap between consecutive indices for grouping.\n",
    "        \"\"\"\n",
    "        self.features = dataframe[feature_columns].values\n",
    "        self.indices = dataframe.index.values\n",
    "        self.window_size = window_size\n",
    "        self.step_size = step_size\n",
    "        self.max_gap = max_gap\n",
    "        self.stride = stride\n",
    "\n",
    "        # Identify groups based on index gaps\n",
    "        self.groups = self._identify_groups()\n",
    "        # print(self.groups[0:50])\n",
    "        # print(len(self.groups[500]))\n",
    "        self.valid_windows = self._generate_valid_windows()\n",
    "\n",
    "    def _identify_groups(self):\n",
    "        \"\"\"\n",
    "        Identify groups of rows based on the max_gap condition.\n",
    "        \"\"\"\n",
    "        groups = []\n",
    "        current_group = [0]  # Start with the first row\n",
    "        for i in range(1, len(self.indices)):\n",
    "            if self.indices[i] - self.indices[i - 1] > self.max_gap:\n",
    "                groups.append(current_group)\n",
    "                current_group = [i]\n",
    "            else:\n",
    "                current_group.append(i)\n",
    "        groups.append(current_group)  # Add the last group\n",
    "        return groups\n",
    "\n",
    "    def _generate_valid_windows(self):\n",
    "        \"\"\"\n",
    "        Generate valid sliding windows based on groups.\n",
    "        \"\"\"\n",
    "        valid_windows = []\n",
    "        for group in self.groups:\n",
    "            \n",
    "            for start in range(0, len(group) - self.window_size + 1, self.stride):\n",
    "                valid_windows.append(group[start : start + self.window_size])\n",
    "\n",
    "            if (len(group) - self.window_size)%self.stride != 0 and len(group)> self.window_size:\n",
    "                # print(len(group[len(group) - self.window_size : len(group)]))\n",
    "                valid_windows.append(group[len(group) - self.window_size : len(group)])\n",
    "\n",
    "        # print(valid_windows[-1])\n",
    "        return valid_windows\n",
    "\n",
    "    def __len__(self):\n",
    "        return len(self.valid_windows)\n",
    "\n",
    "    def __getitem__(self, idx):\n",
    "        \"\"\"\n",
    "        Retrieve a sliding window by index.\n",
    "        \"\"\"\n",
    "        window_indices = self.valid_windows[idx]\n",
    "        x = torch.tensor(self.features[window_indices], dtype=torch.float32)\n",
    "        return x\n",
    "    \n",
    "\n",
    "feature_columns = df.columns\n",
    "\n",
    "feature_columns_test = df_test.columns\n",
    "# feature_columns = [\"charge\"]\n",
    "# feature_columns = df.columns.to_string()\n",
    "window_size = 1000\n",
    "stride = 100\n",
    "max_gap = 1000\n",
    "batch_size = 32\n",
    "step_size = stride  # Step size for sliding window\n",
    "\n",
    "train_df, test_df = train_test_split(df, test_size=0.2, random_state=42, shuffle = False)\n",
    "print(\"Total df shape:\", df.shape)\n",
    "print(\"Training set shape:\", train_df.shape)\n",
    "print(\"Testing set shape:\", test_df.shape)\n"
   ]
  },
  {
   "cell_type": "code",
   "execution_count": 15,
   "metadata": {},
   "outputs": [
    {
     "name": "stdout",
     "output_type": "stream",
     "text": [
      "Feature Ranges After Scaling:\n",
      "                        Feature  Min  Max\n",
      "0               tot_activepower  0.0  1.0\n",
      "1                       ext_tmp  0.0  1.0\n",
      "2                     plant_tmp  0.0  1.0\n",
      "3                        charge  0.0  1.0\n",
      "4              coupler_position  0.0  1.0\n",
      "..                          ...  ...  ...\n",
      "79           water_circ_hot_tmp  0.0  1.0\n",
      "80  air_gap_negative_x_position  0.0  1.0\n",
      "81  air_gap_positive_x_position  0.0  1.0\n",
      "82  air_gap_negative_y_position  0.0  1.0\n",
      "83  air_gap_positive_y_position  0.0  1.0\n",
      "\n",
      "[84 rows x 3 columns]\n"
     ]
    },
    {
     "name": "stderr",
     "output_type": "stream",
     "text": [
      "C:\\Users\\user\\AppData\\Local\\Temp\\ipykernel_18224\\434491581.py:34: SettingWithCopyWarning: \n",
      "A value is trying to be set on a copy of a slice from a DataFrame.\n",
      "Try using .loc[row_indexer,col_indexer] = value instead\n",
      "\n",
      "See the caveats in the documentation: https://pandas.pydata.org/pandas-docs/stable/user_guide/indexing.html#returning-a-view-versus-a-copy\n",
      "  df_test[feature_columns_test] = scaler.transform(df_test[feature_columns_test])  #synthetic anomalies\n"
     ]
    },
    {
     "name": "stdout",
     "output_type": "stream",
     "text": [
      "train dataloader length:  12\n",
      "train dataloader dataset length:  367\n",
      "test dataloader length:  4\n",
      "test dataloader dataset length:  123\n",
      "Total windows: 367\n",
      "Total number of groups: 183\n",
      "Average points per group: 463.1748633879781\n",
      "Minimum group size: 1\n"
     ]
    },
    {
     "data": {
      "image/png": "[encoded data removed]",
      "text/plain": [
       "<Figure size 640x480 with 1 Axes>"
      ]
     },
     "metadata": {},
     "output_type": "display_data"
    }
   ],
   "source": [
    "import pandas as pd\n",
    "from sklearn.model_selection import train_test_split\n",
    "\n",
    "# Example dataset setup\n",
    "# Assuming `df` is already defined\n",
    "window_size = 1000\n",
    "stride = 100\n",
    "max_gap = 1000\n",
    "batch_size = 32\n",
    "step_size = stride  # Step size for sliding window\n",
    "\n",
    "\n",
    "train_df, test_df = train_test_split(df, test_size=0.2, random_state=42, shuffle=False)\n",
    "\n",
    "# Scale the data and get feature ranges\n",
    "scaled_train_df, scaled_test_df, feature_ranges = scale_data(train_df, test_df, feature_columns, scaler='minmax')\n",
    "\n",
    "\n",
    "# Display results\n",
    "print(\"Feature Ranges After Scaling:\")\n",
    "print(feature_ranges)\n",
    "\n",
    "# Here I am using the old scaling again, we can use the prints in a presentation or something\n",
    "\n",
    "# Initialize a scaler\n",
    "scaler = MinMaxScaler()\n",
    "\n",
    "# Fit the scaler on the training data\n",
    "scaler.fit(train_df[feature_columns])\n",
    "\n",
    "# Transform the training and testing data\n",
    "train_df[feature_columns] = scaler.transform(train_df[feature_columns])\n",
    "test_df[feature_columns] = scaler.transform(test_df[feature_columns])\n",
    "df_test[feature_columns_test] = scaler.transform(df_test[feature_columns_test])  #synthetic anomalies\n",
    "\n",
    "\n",
    "# Create Dataset and DataLoader\n",
    "train_dataset = SlidingWindowDataset(train_df, feature_columns, window_size, step_size, max_gap, stride = stride)\n",
    "test_dataset = SlidingWindowDataset(test_df, feature_columns, window_size, step_size, max_gap, stride = stride)\n",
    "synth_test =  SlidingWindowDataset(df_test, feature_columns, window_size, step_size, max_gap, stride = stride)\n",
    "\n",
    "train_dataloader = DataLoader(train_dataset, batch_size=batch_size, shuffle=True)\n",
    "test_dataloader = DataLoader(test_dataset, batch_size=batch_size, shuffle=True)\n",
    "synth_test_loader = DataLoader(synth_test, batch_size=batch_size, shuffle=True)\n",
    "\n",
    "print(\"train dataloader length: \", len(train_dataloader))\n",
    "print(\"train dataloader dataset length: \", len(train_dataloader.dataset))\n",
    "\n",
    "print(\"test dataloader length: \", len(test_dataloader))\n",
    "print(\"test dataloader dataset length: \", len(test_dataloader.dataset))\n",
    "\n",
    "print(f\"Total windows: {len(train_dataset)}\")\n",
    "print(f\"Total number of groups: {len(train_dataset.groups)}\")\n",
    "print(f\"Average points per group: {np.mean([len(group) for group in train_dataset.groups])}\")\n",
    "group_sizes = [len(group) for group in train_dataset.groups]\n",
    "print(f\"Minimum group size: {min(group_sizes)}\")\n",
    "plt.hist(group_sizes, bins=50)\n",
    "plt.xlabel('Group Size')\n",
    "plt.ylabel('Frequency')\n",
    "plt.title('Distribution of Group Sizes')\n",
    "plt.show()"
   ]
  },
  {
   "cell_type": "code",
   "execution_count": 16,
   "metadata": {},
   "outputs": [],
   "source": [
    "def add_noise(x, noise_factor=0.1):\n",
    "    \"\"\"\n",
    "    Adds Gaussian noise to the input tensor.\n",
    "    Args:\n",
    "        x (torch.Tensor): Input tensor.\n",
    "        noise_factor (float): Scale of noise to add.\n",
    "    Returns:\n",
    "        torch.Tensor: Noisy input tensor.\n",
    "    \"\"\"\n",
    "    noisy_x = x + noise_factor * torch.randn_like(x)\n",
    "    noisy_x = torch.clamp(noisy_x, 0, 1)  # Ensure values remain in the valid range\n",
    "    return noisy_x\n",
    "\n",
    "def custom_loss(x, x_reconstructed, encoded, sparsity_weight=1e-3):\n",
    "    \"\"\"\n",
    "    Combines reconstruction loss with a sparsity constraint on the latent space.\n",
    "    Args:\n",
    "        x (torch.Tensor): Original input tensor.\n",
    "        x_reconstructed (torch.Tensor): Reconstructed tensor.\n",
    "        encoded (torch.Tensor): Latent representation.\n",
    "        sparsity_weight (float): Weight for the sparsity penalty.\n",
    "    Returns:\n",
    "        torch.Tensor: Combined loss.\n",
    "    \"\"\"\n",
    "    reconstruction_loss = nn.MSELoss()(x_reconstructed, x)\n",
    "    sparsity_loss = torch.mean(torch.abs(encoded))  # L1 penalty for sparsity\n",
    "    return reconstruction_loss + sparsity_weight * sparsity_loss\n"
   ]
  },
  {
   "cell_type": "markdown",
   "metadata": {},
   "source": [
    "## Training loop with noise injection to improve robustness and residual connections "
   ]
  },
  {
   "cell_type": "code",
   "execution_count": 17,
   "metadata": {},
   "outputs": [],
   "source": [
    "import torch\n",
    "import torch.nn as nn\n",
    "import torch.nn.functional as F\n",
    "\n",
    "class ResidualConvAutoencoder(nn.Module):\n",
    "    def __init__(self, input_dim, seq_len):\n",
    "        super(ResidualConvAutoencoder, self).__init__()\n",
    "\n",
    "        # Encoder\n",
    "        self.encoder_conv1 = nn.Sequential(\n",
    "            nn.Conv1d(input_dim, 256, kernel_size=3, stride=1, padding=1),\n",
    "            nn.ReLU(),\n",
    "            nn.LayerNorm([256, seq_len]),\n",
    "        )\n",
    "        self.encoder_conv2 = nn.Sequential(\n",
    "            nn.Conv1d(256, 128, kernel_size=3, stride=1, padding=1),\n",
    "            nn.ReLU(),\n",
    "            nn.LayerNorm([128, seq_len//2]),\n",
    "            nn.Dropout(p=0.2)\n",
    "        )\n",
    "        self.encoder_conv3 = nn.Sequential(\n",
    "            nn.Conv1d(128, 64, kernel_size=3, stride=1, padding=1),\n",
    "            nn.ReLU(),\n",
    "            nn.LayerNorm([64, seq_len//4])\n",
    "        )\n",
    "        self.encoder_pool = nn.MaxPool1d(2)  # Down-sampling at each stage\n",
    "\n",
    "        # Latent space (larger latent space)\n",
    "        self.latent = nn.Sequential(\n",
    "            nn.Conv1d(64, 64, kernel_size=3, stride=1, padding=1),  # Additional latent layer\n",
    "            nn.ReLU(),\n",
    "            nn.LayerNorm([64, seq_len//8])\n",
    "        )\n",
    "\n",
    "        # Decoder\n",
    "        self.decoder_conv1 = nn.Sequential(\n",
    "            nn.ConvTranspose1d(64, 64, kernel_size=2, stride=2),\n",
    "            nn.ReLU(),\n",
    "            nn.LayerNorm([64, seq_len//4])\n",
    "        )\n",
    "        self.decoder_conv2 = nn.Sequential(\n",
    "            nn.ConvTranspose1d(64+64, 128, kernel_size=2, stride=2),\n",
    "            nn.ReLU(),\n",
    "            nn.LayerNorm([128, seq_len//2]),\n",
    "            nn.Dropout(p=0.2)\n",
    "        )\n",
    "        self.decoder_conv3 = nn.Sequential(\n",
    "            nn.ConvTranspose1d(128+128, 256, kernel_size=2, stride=2),\n",
    "            nn.ReLU(),\n",
    "            nn.LayerNorm([256, seq_len])\n",
    "        )\n",
    "        self.output_layer = nn.Sequential(\n",
    "            nn.Conv1d(256+256, input_dim, kernel_size=3, stride=1, padding=1),\n",
    "            nn.Sigmoid()  # Ensures output is in the range [0, 1]\n",
    "        )\n",
    "\n",
    "    def forward(self, x):\n",
    "        \"\"\"\n",
    "        Forward pass with residual connections and latent space.\n",
    "        \"\"\"\n",
    "        # Encoder\n",
    "        x = x.permute(0, 2, 1)  # (batch_size, seq_len, features) -> (batch_size, features, seq_len)\n",
    "        skip1 = self.encoder_conv1(x)  # First layer output for skip connection\n",
    "        # print(\"ENCODER LAYER: 1\",skip1.shape)\n",
    "        skip2 = self.encoder_conv2(self.encoder_pool(skip1))  # Second layer output for skip\n",
    "        # print(\"ENCODER LAYER: 2\",skip2.shape)\n",
    "        encoded = self.encoder_conv3(self.encoder_pool(skip2))  # Latent input\n",
    "        # print(\"ENCODER LAYER: 3\",encoded.shape)\n",
    "        latent = self.latent(self.encoder_pool(encoded))  # Latent representation\n",
    "        # print(\"ENCODER LAYER: 4\",latent.shape)\n",
    "\n",
    "        # Decoder\n",
    "        decoded = self.decoder_conv1(latent)\n",
    "        # print(\"RECONSTRUCTED: \",decoded.shape)\n",
    "        decoded = torch.cat((decoded, encoded), dim=1)  # Align dimensions for skip connection\n",
    "        # print(\"RECONSTRUCTED: \",decoded.shape)\n",
    "        decoded = self.decoder_conv2(decoded)\n",
    "        # print(\"FULLY RECONSTRUCTED: \",decoded.shape)\n",
    "        decoded = torch.cat((decoded,skip2), dim=1)  # Align dimensions for skip connection\n",
    "        decoded = self.decoder_conv3(decoded)\n",
    "        # print(\"FULLY RECONSTRUCTED: \",decoded.shape)\n",
    "        decoded = torch.cat((decoded,skip1), dim=1)  # Align dimensions for skip connection\n",
    "        decoded = self.output_layer(decoded)  # Final reconstruction\n",
    "        # print(\"FULLY RECONSTRUCTED: \",decoded.shape)\n",
    "        # Revert to (batch_size, seq_len, features)\n",
    "        return decoded.permute(0, 2, 1), latent\n"
   ]
  },
  {
   "cell_type": "code",
   "execution_count": 18,
   "metadata": {},
   "outputs": [],
   "source": [
    "import torch\n",
    "import numpy as np\n",
    "import random\n",
    "from tqdm import tqdm\n",
    "\n",
    "def train_loop(dataloader, model, optimizer, noise_factor=0.1, sparsity_weight=1e-3):\n",
    "    model.train()\n",
    "    total_loss = 0\n",
    "\n",
    "    for x in tqdm(dataloader):\n",
    "        optimizer.zero_grad()\n",
    "\n",
    "        # Add noise to input\n",
    "        # noisy_x = add_noise(x, noise_factor)\n",
    "\n",
    "        # Forward pass\n",
    "        reconstructed, encoded = model(x)\n",
    "\n",
    "        # Compute loss\n",
    "        loss = custom_loss(x, reconstructed, encoded, sparsity_weight)\n",
    "        loss.backward()\n",
    "        optimizer.step()\n",
    "\n",
    "        total_loss += loss.item()\n",
    "\n",
    "    return total_loss / len(dataloader)\n",
    "\n",
    "\n",
    "def test_loop(dataloader, model, sparsity_weight=1e-3):\n",
    "    model.eval()\n",
    "    total_loss = 0\n",
    "\n",
    "    with torch.no_grad():\n",
    "        for x in dataloader:\n",
    "            reconstructed, encoded = model(x)\n",
    "            loss = custom_loss(x, reconstructed, encoded, sparsity_weight)\n",
    "            total_loss += loss.item()\n",
    "\n",
    "    return total_loss / len(dataloader)\n",
    "\n",
    "\n",
    "\n",
    "def set_seed(seed=42):\n",
    "    \"\"\"\n",
    "    Set a constant seed for reproducibility across all libraries.\n",
    "    Args:\n",
    "        seed (int): The seed value to use.\n",
    "    \"\"\"\n",
    "    random.seed(seed)  # Python's random module\n",
    "    np.random.seed(seed)  # Numpy\n",
    "    torch.manual_seed(seed)  # PyTorch (CPU)\n",
    "    torch.cuda.manual_seed(seed)  # PyTorch (GPU)\n",
    "    torch.cuda.manual_seed_all(seed)  # For multi-GPU\n",
    "    torch.backends.cudnn.deterministic = True  # Ensures deterministic behavior\n",
    "    torch.backends.cudnn.benchmark = False  # Avoids nondeterministic algorithms\n",
    "\n"
   ]
  },
  {
   "cell_type": "markdown",
   "metadata": {},
   "source": [
    "## Training loop with noise injection for robustness, introducing sparcity loss, batchnorm and dropout for overfitting and stability, and early stopping to get the best model"
   ]
  },
  {
   "cell_type": "code",
   "execution_count": 21,
   "metadata": {},
   "outputs": [],
   "source": [
    "set_seed(42)\n",
    "# Hyperparameters\n",
    "epochs = 200\n",
    "learning_rate = 0.001\n",
    "noise_factor = 0.1\n",
    "sparsity_weight = 1e-3\n",
    "\n",
    "# Model, optimizer, and dataloaders\n",
    "input_dim = 84  # for pump, and 85 for turbine\n",
    "seq_len = 1000\n",
    "model = ResidualConvAutoencoder(input_dim, seq_len)\n",
    "optimizer = torch.optim.AdamW(model.parameters(), lr=learning_rate, weight_decay=1e-5)\n",
    "\n",
    "train_loss_evol, test_loss_evol = [], []\n",
    "\n",
    "best_test_loss = float('inf')\n",
    "patience = 10\n",
    "patience_counter = 0"
   ]
  },
  {
   "cell_type": "code",
   "execution_count": 18,
   "metadata": {},
   "outputs": [
    {
     "name": "stdout",
     "output_type": "stream",
     "text": [
      "torch.Size([32, 1000, 84])\n"
     ]
    }
   ],
   "source": [
    "for x in train_dataloader:\n",
    "    print(x.shape)  # Verify shape\n",
    "    break\n"
   ]
  },
  {
   "cell_type": "code",
   "execution_count": 22,
   "metadata": {},
   "outputs": [
    {
     "name": "stderr",
     "output_type": "stream",
     "text": [
      "100%|██████████| 12/12 [00:08<00:00,  1.49it/s]\n"
     ]
    },
    {
     "name": "stdout",
     "output_type": "stream",
     "text": [
      "Epoch: 0, Training Loss: 0.024706089325870078, Validation Loss: 0.008163316524587572\n",
      "New best model at epoch 0\n"
     ]
    },
    {
     "name": "stderr",
     "output_type": "stream",
     "text": [
      "100%|██████████| 12/12 [00:08<00:00,  1.49it/s]\n"
     ]
    },
    {
     "name": "stdout",
     "output_type": "stream",
     "text": [
      "Epoch: 1, Training Loss: 0.005891747268227239, Validation Loss: 0.00448510458227247\n",
      "New best model at epoch 1\n"
     ]
    },
    {
     "name": "stderr",
     "output_type": "stream",
     "text": [
      "100%|██████████| 12/12 [00:08<00:00,  1.43it/s]\n"
     ]
    },
    {
     "name": "stdout",
     "output_type": "stream",
     "text": [
      "Epoch: 2, Training Loss: 0.0038203230942599475, Validation Loss: 0.0036798708606511354\n",
      "New best model at epoch 2\n"
     ]
    },
    {
     "name": "stderr",
     "output_type": "stream",
     "text": [
      "100%|██████████| 12/12 [00:08<00:00,  1.48it/s]\n"
     ]
    },
    {
     "name": "stdout",
     "output_type": "stream",
     "text": [
      "Epoch: 3, Training Loss: 0.0029577239571760097, Validation Loss: 0.003266602521762252\n",
      "New best model at epoch 3\n"
     ]
    },
    {
     "name": "stderr",
     "output_type": "stream",
     "text": [
      "100%|██████████| 12/12 [00:08<00:00,  1.50it/s]\n"
     ]
    },
    {
     "name": "stdout",
     "output_type": "stream",
     "text": [
      "Epoch: 4, Training Loss: 0.0024721402442082763, Validation Loss: 0.002816485648509115\n",
      "New best model at epoch 4\n"
     ]
    },
    {
     "name": "stderr",
     "output_type": "stream",
     "text": [
      "100%|██████████| 12/12 [00:07<00:00,  1.54it/s]\n"
     ]
    },
    {
     "name": "stdout",
     "output_type": "stream",
     "text": [
      "Epoch: 5, Training Loss: 0.0021165715200671307, Validation Loss: 0.0024516204139217734\n",
      "New best model at epoch 5\n"
     ]
    },
    {
     "name": "stderr",
     "output_type": "stream",
     "text": [
      "100%|██████████| 12/12 [00:07<00:00,  1.56it/s]\n"
     ]
    },
    {
     "name": "stdout",
     "output_type": "stream",
     "text": [
      "Epoch: 6, Training Loss: 0.001860801091728111, Validation Loss: 0.0022141128429211676\n",
      "New best model at epoch 6\n"
     ]
    },
    {
     "name": "stderr",
     "output_type": "stream",
     "text": [
      "100%|██████████| 12/12 [00:07<00:00,  1.54it/s]\n"
     ]
    },
    {
     "name": "stdout",
     "output_type": "stream",
     "text": [
      "Epoch: 7, Training Loss: 0.0016589609149377793, Validation Loss: 0.0021150725660845637\n",
      "New best model at epoch 7\n"
     ]
    },
    {
     "name": "stderr",
     "output_type": "stream",
     "text": [
      "100%|██████████| 12/12 [00:07<00:00,  1.55it/s]\n"
     ]
    },
    {
     "name": "stdout",
     "output_type": "stream",
     "text": [
      "Epoch: 8, Training Loss: 0.0015137003307851653, Validation Loss: 0.00212310126516968\n"
     ]
    },
    {
     "name": "stderr",
     "output_type": "stream",
     "text": [
      "100%|██████████| 12/12 [00:07<00:00,  1.54it/s]\n"
     ]
    },
    {
     "name": "stdout",
     "output_type": "stream",
     "text": [
      "Epoch: 9, Training Loss: 0.0013927000206119071, Validation Loss: 0.0016849026433192194\n",
      "New best model at epoch 9\n"
     ]
    },
    {
     "name": "stderr",
     "output_type": "stream",
     "text": [
      "100%|██████████| 12/12 [00:07<00:00,  1.57it/s]\n"
     ]
    },
    {
     "name": "stdout",
     "output_type": "stream",
     "text": [
      "Epoch: 10, Training Loss: 0.0012934829186027248, Validation Loss: 0.0016526857216376811\n",
      "New best model at epoch 10\n"
     ]
    },
    {
     "name": "stderr",
     "output_type": "stream",
     "text": [
      "100%|██████████| 12/12 [00:07<00:00,  1.55it/s]\n"
     ]
    },
    {
     "name": "stdout",
     "output_type": "stream",
     "text": [
      "Epoch: 11, Training Loss: 0.0011743547996350874, Validation Loss: 0.0016405558562837541\n",
      "New best model at epoch 11\n"
     ]
    },
    {
     "name": "stderr",
     "output_type": "stream",
     "text": [
      "100%|██████████| 12/12 [00:07<00:00,  1.52it/s]\n"
     ]
    },
    {
     "name": "stdout",
     "output_type": "stream",
     "text": [
      "Epoch: 12, Training Loss: 0.0010942238489709173, Validation Loss: 0.0016967862902674824\n"
     ]
    },
    {
     "name": "stderr",
     "output_type": "stream",
     "text": [
      "100%|██████████| 12/12 [00:07<00:00,  1.56it/s]\n"
     ]
    },
    {
     "name": "stdout",
     "output_type": "stream",
     "text": [
      "Epoch: 13, Training Loss: 0.001045848912326619, Validation Loss: 0.0013812871475238353\n",
      "New best model at epoch 13\n"
     ]
    },
    {
     "name": "stderr",
     "output_type": "stream",
     "text": [
      "100%|██████████| 12/12 [00:07<00:00,  1.54it/s]\n"
     ]
    },
    {
     "name": "stdout",
     "output_type": "stream",
     "text": [
      "Epoch: 14, Training Loss: 0.0009243474438941727, Validation Loss: 0.00124792629503645\n",
      "New best model at epoch 14\n"
     ]
    },
    {
     "name": "stderr",
     "output_type": "stream",
     "text": [
      "100%|██████████| 12/12 [00:07<00:00,  1.56it/s]\n"
     ]
    },
    {
     "name": "stdout",
     "output_type": "stream",
     "text": [
      "Epoch: 15, Training Loss: 0.000838975072838366, Validation Loss: 0.0012104827328585088\n",
      "New best model at epoch 15\n"
     ]
    },
    {
     "name": "stderr",
     "output_type": "stream",
     "text": [
      "100%|██████████| 12/12 [00:07<00:00,  1.54it/s]\n"
     ]
    },
    {
     "name": "stdout",
     "output_type": "stream",
     "text": [
      "Epoch: 16, Training Loss: 0.0007780197677978625, Validation Loss: 0.0010648854949977249\n",
      "New best model at epoch 16\n"
     ]
    },
    {
     "name": "stderr",
     "output_type": "stream",
     "text": [
      "100%|██████████| 12/12 [00:07<00:00,  1.61it/s]\n"
     ]
    },
    {
     "name": "stdout",
     "output_type": "stream",
     "text": [
      "Epoch: 17, Training Loss: 0.0007701188393790895, Validation Loss: 0.001144120004028082\n"
     ]
    },
    {
     "name": "stderr",
     "output_type": "stream",
     "text": [
      "100%|██████████| 12/12 [00:07<00:00,  1.61it/s]\n"
     ]
    },
    {
     "name": "stdout",
     "output_type": "stream",
     "text": [
      "Epoch: 18, Training Loss: 0.0007315747692094495, Validation Loss: 0.0009715349151520059\n",
      "New best model at epoch 18\n"
     ]
    },
    {
     "name": "stderr",
     "output_type": "stream",
     "text": [
      "100%|██████████| 12/12 [00:07<00:00,  1.65it/s]\n"
     ]
    },
    {
     "name": "stdout",
     "output_type": "stream",
     "text": [
      "Epoch: 19, Training Loss: 0.0006617842785393199, Validation Loss: 0.0009508290968369693\n",
      "New best model at epoch 19\n"
     ]
    },
    {
     "name": "stderr",
     "output_type": "stream",
     "text": [
      "100%|██████████| 12/12 [00:07<00:00,  1.65it/s]\n"
     ]
    },
    {
     "name": "stdout",
     "output_type": "stream",
     "text": [
      "Epoch: 20, Training Loss: 0.0006628363432052234, Validation Loss: 0.0009646196849644184\n"
     ]
    },
    {
     "name": "stderr",
     "output_type": "stream",
     "text": [
      "100%|██████████| 12/12 [00:07<00:00,  1.58it/s]\n"
     ]
    },
    {
     "name": "stdout",
     "output_type": "stream",
     "text": [
      "Epoch: 21, Training Loss: 0.0006290202242477486, Validation Loss: 0.000787937970017083\n",
      "New best model at epoch 21\n"
     ]
    },
    {
     "name": "stderr",
     "output_type": "stream",
     "text": [
      "100%|██████████| 12/12 [00:07<00:00,  1.64it/s]\n"
     ]
    },
    {
     "name": "stdout",
     "output_type": "stream",
     "text": [
      "Epoch: 22, Training Loss: 0.0005743170744002176, Validation Loss: 0.000802994254627265\n"
     ]
    },
    {
     "name": "stderr",
     "output_type": "stream",
     "text": [
      "100%|██████████| 12/12 [00:07<00:00,  1.65it/s]\n"
     ]
    },
    {
     "name": "stdout",
     "output_type": "stream",
     "text": [
      "Epoch: 23, Training Loss: 0.0005350067294784822, Validation Loss: 0.0008240486640715972\n"
     ]
    },
    {
     "name": "stderr",
     "output_type": "stream",
     "text": [
      "100%|██████████| 12/12 [00:07<00:00,  1.64it/s]\n"
     ]
    },
    {
     "name": "stdout",
     "output_type": "stream",
     "text": [
      "Epoch: 24, Training Loss: 0.000679528903371344, Validation Loss: 0.0007458363397745416\n",
      "New best model at epoch 24\n"
     ]
    },
    {
     "name": "stderr",
     "output_type": "stream",
     "text": [
      "100%|██████████| 12/12 [00:07<00:00,  1.58it/s]\n"
     ]
    },
    {
     "name": "stdout",
     "output_type": "stream",
     "text": [
      "Epoch: 25, Training Loss: 0.0005699478109211972, Validation Loss: 0.0009244730463251472\n"
     ]
    },
    {
     "name": "stderr",
     "output_type": "stream",
     "text": [
      "100%|██████████| 12/12 [00:07<00:00,  1.61it/s]\n"
     ]
    },
    {
     "name": "stdout",
     "output_type": "stream",
     "text": [
      "Epoch: 26, Training Loss: 0.0006008844890554125, Validation Loss: 0.0007834791322238743\n"
     ]
    },
    {
     "name": "stderr",
     "output_type": "stream",
     "text": [
      "100%|██████████| 12/12 [00:07<00:00,  1.56it/s]\n"
     ]
    },
    {
     "name": "stdout",
     "output_type": "stream",
     "text": [
      "Epoch: 27, Training Loss: 0.0005174461378677128, Validation Loss: 0.0007811144314473495\n"
     ]
    },
    {
     "name": "stderr",
     "output_type": "stream",
     "text": [
      "100%|██████████| 12/12 [00:07<00:00,  1.56it/s]\n"
     ]
    },
    {
     "name": "stdout",
     "output_type": "stream",
     "text": [
      "Epoch: 28, Training Loss: 0.0004949148933519609, Validation Loss: 0.0008921493572415784\n"
     ]
    },
    {
     "name": "stderr",
     "output_type": "stream",
     "text": [
      "100%|██████████| 12/12 [00:07<00:00,  1.54it/s]\n"
     ]
    },
    {
     "name": "stdout",
     "output_type": "stream",
     "text": [
      "Epoch: 29, Training Loss: 0.0004877158329084826, Validation Loss: 0.0006546986987814307\n",
      "New best model at epoch 29\n"
     ]
    },
    {
     "name": "stderr",
     "output_type": "stream",
     "text": [
      "100%|██████████| 12/12 [00:07<00:00,  1.53it/s]\n"
     ]
    },
    {
     "name": "stdout",
     "output_type": "stream",
     "text": [
      "Epoch: 30, Training Loss: 0.00044051255584539223, Validation Loss: 0.0006043310422683135\n",
      "New best model at epoch 30\n"
     ]
    },
    {
     "name": "stderr",
     "output_type": "stream",
     "text": [
      "100%|██████████| 12/12 [00:07<00:00,  1.57it/s]\n"
     ]
    },
    {
     "name": "stdout",
     "output_type": "stream",
     "text": [
      "Epoch: 31, Training Loss: 0.0004409565663081594, Validation Loss: 0.0005721102497773245\n",
      "New best model at epoch 31\n"
     ]
    },
    {
     "name": "stderr",
     "output_type": "stream",
     "text": [
      "100%|██████████| 12/12 [00:07<00:00,  1.53it/s]\n"
     ]
    },
    {
     "name": "stdout",
     "output_type": "stream",
     "text": [
      "Epoch: 32, Training Loss: 0.00048496859380975366, Validation Loss: 0.0005690434481948614\n",
      "New best model at epoch 32\n"
     ]
    },
    {
     "name": "stderr",
     "output_type": "stream",
     "text": [
      "100%|██████████| 12/12 [00:08<00:00,  1.48it/s]\n"
     ]
    },
    {
     "name": "stdout",
     "output_type": "stream",
     "text": [
      "Epoch: 33, Training Loss: 0.0004438456865803649, Validation Loss: 0.0005147299307282083\n",
      "New best model at epoch 33\n"
     ]
    },
    {
     "name": "stderr",
     "output_type": "stream",
     "text": [
      "100%|██████████| 12/12 [00:07<00:00,  1.57it/s]\n"
     ]
    },
    {
     "name": "stdout",
     "output_type": "stream",
     "text": [
      "Epoch: 34, Training Loss: 0.00038864637948184583, Validation Loss: 0.0005857352225575596\n"
     ]
    },
    {
     "name": "stderr",
     "output_type": "stream",
     "text": [
      "100%|██████████| 12/12 [00:08<00:00,  1.49it/s]\n"
     ]
    },
    {
     "name": "stdout",
     "output_type": "stream",
     "text": [
      "Epoch: 35, Training Loss: 0.0003731058313860558, Validation Loss: 0.0005583694000961259\n"
     ]
    },
    {
     "name": "stderr",
     "output_type": "stream",
     "text": [
      "100%|██████████| 12/12 [00:07<00:00,  1.57it/s]\n"
     ]
    },
    {
     "name": "stdout",
     "output_type": "stream",
     "text": [
      "Epoch: 36, Training Loss: 0.000430382516545554, Validation Loss: 0.0005520376143977046\n"
     ]
    },
    {
     "name": "stderr",
     "output_type": "stream",
     "text": [
      "100%|██████████| 12/12 [00:07<00:00,  1.56it/s]\n"
     ]
    },
    {
     "name": "stdout",
     "output_type": "stream",
     "text": [
      "Epoch: 37, Training Loss: 0.00039049503053926554, Validation Loss: 0.0005278553871903569\n"
     ]
    },
    {
     "name": "stderr",
     "output_type": "stream",
     "text": [
      "100%|██████████| 12/12 [00:07<00:00,  1.55it/s]\n"
     ]
    },
    {
     "name": "stdout",
     "output_type": "stream",
     "text": [
      "Epoch: 38, Training Loss: 0.0004749724854870389, Validation Loss: 0.0007603925332659855\n"
     ]
    },
    {
     "name": "stderr",
     "output_type": "stream",
     "text": [
      "100%|██████████| 12/12 [00:07<00:00,  1.55it/s]\n"
     ]
    },
    {
     "name": "stdout",
     "output_type": "stream",
     "text": [
      "Epoch: 39, Training Loss: 0.0005530161191321289, Validation Loss: 0.0011446706776041538\n"
     ]
    },
    {
     "name": "stderr",
     "output_type": "stream",
     "text": [
      "100%|██████████| 12/12 [00:07<00:00,  1.54it/s]\n"
     ]
    },
    {
     "name": "stdout",
     "output_type": "stream",
     "text": [
      "Epoch: 40, Training Loss: 0.0005341021023923531, Validation Loss: 0.0007560480153188109\n"
     ]
    },
    {
     "name": "stderr",
     "output_type": "stream",
     "text": [
      "100%|██████████| 12/12 [00:07<00:00,  1.57it/s]\n"
     ]
    },
    {
     "name": "stdout",
     "output_type": "stream",
     "text": [
      "Epoch: 41, Training Loss: 0.00046398951720523957, Validation Loss: 0.00061265510157682\n"
     ]
    },
    {
     "name": "stderr",
     "output_type": "stream",
     "text": [
      "100%|██████████| 12/12 [00:07<00:00,  1.57it/s]\n"
     ]
    },
    {
     "name": "stdout",
     "output_type": "stream",
     "text": [
      "Epoch: 42, Training Loss: 0.0004439910699147731, Validation Loss: 0.0005288220854708925\n"
     ]
    },
    {
     "name": "stderr",
     "output_type": "stream",
     "text": [
      "100%|██████████| 12/12 [00:07<00:00,  1.57it/s]\n"
     ]
    },
    {
     "name": "stdout",
     "output_type": "stream",
     "text": [
      "Epoch: 43, Training Loss: 0.0003906891991694768, Validation Loss: 0.0006139567558420822\n"
     ]
    },
    {
     "name": "stderr",
     "output_type": "stream",
     "text": [
      "100%|██████████| 12/12 [00:07<00:00,  1.54it/s]\n"
     ]
    },
    {
     "name": "stdout",
     "output_type": "stream",
     "text": [
      "Epoch: 44, Training Loss: 0.0003568017224703605, Validation Loss: 0.00044852901191916317\n",
      "New best model at epoch 44\n"
     ]
    },
    {
     "name": "stderr",
     "output_type": "stream",
     "text": [
      "100%|██████████| 12/12 [00:07<00:00,  1.53it/s]\n"
     ]
    },
    {
     "name": "stdout",
     "output_type": "stream",
     "text": [
      "Epoch: 45, Training Loss: 0.0003019351728047089, Validation Loss: 0.00043920150346821174\n",
      "New best model at epoch 45\n"
     ]
    },
    {
     "name": "stderr",
     "output_type": "stream",
     "text": [
      "100%|██████████| 12/12 [00:07<00:00,  1.56it/s]\n"
     ]
    },
    {
     "name": "stdout",
     "output_type": "stream",
     "text": [
      "Epoch: 46, Training Loss: 0.0002950687849079259, Validation Loss: 0.00047355271090054885\n"
     ]
    },
    {
     "name": "stderr",
     "output_type": "stream",
     "text": [
      "100%|██████████| 12/12 [00:07<00:00,  1.52it/s]\n"
     ]
    },
    {
     "name": "stdout",
     "output_type": "stream",
     "text": [
      "Epoch: 47, Training Loss: 0.0003085306379944086, Validation Loss: 0.00048117627011379227\n"
     ]
    },
    {
     "name": "stderr",
     "output_type": "stream",
     "text": [
      "100%|██████████| 12/12 [00:07<00:00,  1.51it/s]\n"
     ]
    },
    {
     "name": "stdout",
     "output_type": "stream",
     "text": [
      "Epoch: 48, Training Loss: 0.00029931001336080953, Validation Loss: 0.00045030086766928434\n"
     ]
    },
    {
     "name": "stderr",
     "output_type": "stream",
     "text": [
      "100%|██████████| 12/12 [00:07<00:00,  1.50it/s]\n"
     ]
    },
    {
     "name": "stdout",
     "output_type": "stream",
     "text": [
      "Epoch: 49, Training Loss: 0.00032041060452077846, Validation Loss: 0.00044457241165218875\n"
     ]
    },
    {
     "name": "stderr",
     "output_type": "stream",
     "text": [
      "100%|██████████| 12/12 [00:07<00:00,  1.53it/s]\n"
     ]
    },
    {
     "name": "stdout",
     "output_type": "stream",
     "text": [
      "Epoch: 50, Training Loss: 0.00028251497011903365, Validation Loss: 0.0004838628592551686\n"
     ]
    },
    {
     "name": "stderr",
     "output_type": "stream",
     "text": [
      "100%|██████████| 12/12 [00:07<00:00,  1.53it/s]\n"
     ]
    },
    {
     "name": "stdout",
     "output_type": "stream",
     "text": [
      "Epoch: 51, Training Loss: 0.0003227976618897325, Validation Loss: 0.0009083847544388846\n"
     ]
    },
    {
     "name": "stderr",
     "output_type": "stream",
     "text": [
      "100%|██████████| 12/12 [00:07<00:00,  1.53it/s]\n"
     ]
    },
    {
     "name": "stdout",
     "output_type": "stream",
     "text": [
      "Epoch: 52, Training Loss: 0.00042459539205689606, Validation Loss: 0.0004012658100691624\n",
      "New best model at epoch 52\n"
     ]
    },
    {
     "name": "stderr",
     "output_type": "stream",
     "text": [
      "100%|██████████| 12/12 [00:07<00:00,  1.52it/s]\n"
     ]
    },
    {
     "name": "stdout",
     "output_type": "stream",
     "text": [
      "Epoch: 53, Training Loss: 0.00030340183487472433, Validation Loss: 0.0004915841855108738\n"
     ]
    },
    {
     "name": "stderr",
     "output_type": "stream",
     "text": [
      "100%|██████████| 12/12 [00:07<00:00,  1.51it/s]\n"
     ]
    },
    {
     "name": "stdout",
     "output_type": "stream",
     "text": [
      "Epoch: 54, Training Loss: 0.0002702568126551341, Validation Loss: 0.000417988580011297\n"
     ]
    },
    {
     "name": "stderr",
     "output_type": "stream",
     "text": [
      "100%|██████████| 12/12 [00:07<00:00,  1.55it/s]\n"
     ]
    },
    {
     "name": "stdout",
     "output_type": "stream",
     "text": [
      "Epoch: 55, Training Loss: 0.00024135069058199102, Validation Loss: 0.00036574881960405037\n",
      "New best model at epoch 55\n"
     ]
    },
    {
     "name": "stderr",
     "output_type": "stream",
     "text": [
      "100%|██████████| 12/12 [00:07<00:00,  1.55it/s]\n"
     ]
    },
    {
     "name": "stdout",
     "output_type": "stream",
     "text": [
      "Epoch: 56, Training Loss: 0.000216993278930507, Validation Loss: 0.00040697022632230073\n"
     ]
    },
    {
     "name": "stderr",
     "output_type": "stream",
     "text": [
      "100%|██████████| 12/12 [00:07<00:00,  1.55it/s]\n"
     ]
    },
    {
     "name": "stdout",
     "output_type": "stream",
     "text": [
      "Epoch: 57, Training Loss: 0.00020722392703949785, Validation Loss: 0.0003561868143151514\n",
      "New best model at epoch 57\n"
     ]
    },
    {
     "name": "stderr",
     "output_type": "stream",
     "text": [
      "100%|██████████| 12/12 [00:07<00:00,  1.54it/s]\n"
     ]
    },
    {
     "name": "stdout",
     "output_type": "stream",
     "text": [
      "Epoch: 58, Training Loss: 0.0002303576135697464, Validation Loss: 0.00035197348188376054\n",
      "New best model at epoch 58\n"
     ]
    },
    {
     "name": "stderr",
     "output_type": "stream",
     "text": [
      "100%|██████████| 12/12 [00:07<00:00,  1.61it/s]\n"
     ]
    },
    {
     "name": "stdout",
     "output_type": "stream",
     "text": [
      "Epoch: 59, Training Loss: 0.0002659316754337245, Validation Loss: 0.0003636881447164342\n"
     ]
    },
    {
     "name": "stderr",
     "output_type": "stream",
     "text": [
      "100%|██████████| 12/12 [00:07<00:00,  1.61it/s]\n"
     ]
    },
    {
     "name": "stdout",
     "output_type": "stream",
     "text": [
      "Epoch: 60, Training Loss: 0.00023899709898008345, Validation Loss: 0.0003302762415842153\n",
      "New best model at epoch 60\n"
     ]
    },
    {
     "name": "stderr",
     "output_type": "stream",
     "text": [
      "100%|██████████| 12/12 [00:08<00:00,  1.43it/s]\n"
     ]
    },
    {
     "name": "stdout",
     "output_type": "stream",
     "text": [
      "Epoch: 61, Training Loss: 0.00024686792433688726, Validation Loss: 0.0004954695905325934\n"
     ]
    },
    {
     "name": "stderr",
     "output_type": "stream",
     "text": [
      "100%|██████████| 12/12 [00:07<00:00,  1.57it/s]\n"
     ]
    },
    {
     "name": "stdout",
     "output_type": "stream",
     "text": [
      "Epoch: 62, Training Loss: 0.0005144214131481325, Validation Loss: 0.000485202792333439\n"
     ]
    },
    {
     "name": "stderr",
     "output_type": "stream",
     "text": [
      "100%|██████████| 12/12 [00:07<00:00,  1.54it/s]\n"
     ]
    },
    {
     "name": "stdout",
     "output_type": "stream",
     "text": [
      "Epoch: 63, Training Loss: 0.000413982537187015, Validation Loss: 0.00039826397551223636\n"
     ]
    },
    {
     "name": "stderr",
     "output_type": "stream",
     "text": [
      "100%|██████████| 12/12 [00:07<00:00,  1.58it/s]\n"
     ]
    },
    {
     "name": "stdout",
     "output_type": "stream",
     "text": [
      "Epoch: 64, Training Loss: 0.000305082513174663, Validation Loss: 0.0004136919305892661\n"
     ]
    },
    {
     "name": "stderr",
     "output_type": "stream",
     "text": [
      "100%|██████████| 12/12 [00:07<00:00,  1.61it/s]\n"
     ]
    },
    {
     "name": "stdout",
     "output_type": "stream",
     "text": [
      "Epoch: 65, Training Loss: 0.00023825558916238757, Validation Loss: 0.0004517277411650866\n"
     ]
    },
    {
     "name": "stderr",
     "output_type": "stream",
     "text": [
      "100%|██████████| 12/12 [00:07<00:00,  1.54it/s]\n"
     ]
    },
    {
     "name": "stdout",
     "output_type": "stream",
     "text": [
      "Epoch: 66, Training Loss: 0.00020026117393475337, Validation Loss: 0.00038558932283194736\n"
     ]
    },
    {
     "name": "stderr",
     "output_type": "stream",
     "text": [
      "100%|██████████| 12/12 [00:07<00:00,  1.56it/s]\n"
     ]
    },
    {
     "name": "stdout",
     "output_type": "stream",
     "text": [
      "Epoch: 67, Training Loss: 0.000180227081727935, Validation Loss: 0.0003072109757340513\n",
      "New best model at epoch 67\n"
     ]
    },
    {
     "name": "stderr",
     "output_type": "stream",
     "text": [
      "100%|██████████| 12/12 [00:08<00:00,  1.47it/s]\n"
     ]
    },
    {
     "name": "stdout",
     "output_type": "stream",
     "text": [
      "Epoch: 68, Training Loss: 0.00019248485962937897, Validation Loss: 0.0003563257705536671\n"
     ]
    },
    {
     "name": "stderr",
     "output_type": "stream",
     "text": [
      "100%|██████████| 12/12 [00:08<00:00,  1.50it/s]\n"
     ]
    },
    {
     "name": "stdout",
     "output_type": "stream",
     "text": [
      "Epoch: 69, Training Loss: 0.00017105663694868176, Validation Loss: 0.00032170680060517043\n"
     ]
    },
    {
     "name": "stderr",
     "output_type": "stream",
     "text": [
      "100%|██████████| 12/12 [00:08<00:00,  1.48it/s]\n"
     ]
    },
    {
     "name": "stdout",
     "output_type": "stream",
     "text": [
      "Epoch: 70, Training Loss: 0.00016043385160931697, Validation Loss: 0.0003226636763429269\n"
     ]
    },
    {
     "name": "stderr",
     "output_type": "stream",
     "text": [
      "100%|██████████| 12/12 [00:08<00:00,  1.45it/s]\n"
     ]
    },
    {
     "name": "stdout",
     "output_type": "stream",
     "text": [
      "Epoch: 71, Training Loss: 0.00015264942703652196, Validation Loss: 0.00028975449822610244\n",
      "New best model at epoch 71\n"
     ]
    },
    {
     "name": "stderr",
     "output_type": "stream",
     "text": [
      "100%|██████████| 12/12 [00:08<00:00,  1.45it/s]\n"
     ]
    },
    {
     "name": "stdout",
     "output_type": "stream",
     "text": [
      "Epoch: 72, Training Loss: 0.0001588194900250528, Validation Loss: 0.00028249394381418824\n",
      "New best model at epoch 72\n"
     ]
    },
    {
     "name": "stderr",
     "output_type": "stream",
     "text": [
      "100%|██████████| 12/12 [00:08<00:00,  1.45it/s]\n"
     ]
    },
    {
     "name": "stdout",
     "output_type": "stream",
     "text": [
      "Epoch: 73, Training Loss: 0.0001533693321107421, Validation Loss: 0.0002818915163516067\n",
      "New best model at epoch 73\n"
     ]
    },
    {
     "name": "stderr",
     "output_type": "stream",
     "text": [
      "100%|██████████| 12/12 [00:08<00:00,  1.43it/s]\n"
     ]
    },
    {
     "name": "stdout",
     "output_type": "stream",
     "text": [
      "Epoch: 74, Training Loss: 0.0001429787601712936, Validation Loss: 0.00027483335725264624\n",
      "New best model at epoch 74\n"
     ]
    },
    {
     "name": "stderr",
     "output_type": "stream",
     "text": [
      "100%|██████████| 12/12 [00:08<00:00,  1.44it/s]\n"
     ]
    },
    {
     "name": "stdout",
     "output_type": "stream",
     "text": [
      "Epoch: 75, Training Loss: 0.00013798880415076079, Validation Loss: 0.00025868781813187525\n",
      "New best model at epoch 75\n"
     ]
    },
    {
     "name": "stderr",
     "output_type": "stream",
     "text": [
      "100%|██████████| 12/12 [00:08<00:00,  1.44it/s]\n"
     ]
    },
    {
     "name": "stdout",
     "output_type": "stream",
     "text": [
      "Epoch: 76, Training Loss: 0.00013802642691492414, Validation Loss: 0.00028132904117228463\n"
     ]
    },
    {
     "name": "stderr",
     "output_type": "stream",
     "text": [
      "100%|██████████| 12/12 [00:08<00:00,  1.42it/s]\n"
     ]
    },
    {
     "name": "stdout",
     "output_type": "stream",
     "text": [
      "Epoch: 77, Training Loss: 0.00018627037934493273, Validation Loss: 0.00032460418151458725\n"
     ]
    },
    {
     "name": "stderr",
     "output_type": "stream",
     "text": [
      "100%|██████████| 12/12 [00:08<00:00,  1.42it/s]\n"
     ]
    },
    {
     "name": "stdout",
     "output_type": "stream",
     "text": [
      "Epoch: 78, Training Loss: 0.0006400169222615659, Validation Loss: 0.0007551474991487339\n"
     ]
    },
    {
     "name": "stderr",
     "output_type": "stream",
     "text": [
      "100%|██████████| 12/12 [00:08<00:00,  1.40it/s]\n"
     ]
    },
    {
     "name": "stdout",
     "output_type": "stream",
     "text": [
      "Epoch: 79, Training Loss: 0.0004907641947890321, Validation Loss: 0.00048697756574256346\n"
     ]
    },
    {
     "name": "stderr",
     "output_type": "stream",
     "text": [
      "100%|██████████| 12/12 [00:08<00:00,  1.39it/s]\n"
     ]
    },
    {
     "name": "stdout",
     "output_type": "stream",
     "text": [
      "Epoch: 80, Training Loss: 0.00032871873312008876, Validation Loss: 0.0004255008898326196\n"
     ]
    },
    {
     "name": "stderr",
     "output_type": "stream",
     "text": [
      "100%|██████████| 12/12 [00:08<00:00,  1.40it/s]\n"
     ]
    },
    {
     "name": "stdout",
     "output_type": "stream",
     "text": [
      "Epoch: 81, Training Loss: 0.00024105194218767187, Validation Loss: 0.0002737472750595771\n"
     ]
    },
    {
     "name": "stderr",
     "output_type": "stream",
     "text": [
      "100%|██████████| 12/12 [00:08<00:00,  1.38it/s]\n"
     ]
    },
    {
     "name": "stdout",
     "output_type": "stream",
     "text": [
      "Epoch: 82, Training Loss: 0.00017623974054004066, Validation Loss: 0.0002600669613457285\n"
     ]
    },
    {
     "name": "stderr",
     "output_type": "stream",
     "text": [
      "100%|██████████| 12/12 [00:08<00:00,  1.39it/s]\n"
     ]
    },
    {
     "name": "stdout",
     "output_type": "stream",
     "text": [
      "Epoch: 83, Training Loss: 0.00016042825275993286, Validation Loss: 0.00032325013307854533\n"
     ]
    },
    {
     "name": "stderr",
     "output_type": "stream",
     "text": [
      "100%|██████████| 12/12 [00:08<00:00,  1.40it/s]\n"
     ]
    },
    {
     "name": "stdout",
     "output_type": "stream",
     "text": [
      "Epoch: 84, Training Loss: 0.00015642268772353418, Validation Loss: 0.00030492481164401397\n"
     ]
    },
    {
     "name": "stderr",
     "output_type": "stream",
     "text": [
      "100%|██████████| 12/12 [00:08<00:00,  1.39it/s]\n"
     ]
    },
    {
     "name": "stdout",
     "output_type": "stream",
     "text": [
      "Epoch: 85, Training Loss: 0.00015023908417788334, Validation Loss: 0.0002665251558937598\n"
     ]
    },
    {
     "name": "stderr",
     "output_type": "stream",
     "text": [
      "100%|██████████| 12/12 [00:08<00:00,  1.37it/s]\n"
     ]
    },
    {
     "name": "stdout",
     "output_type": "stream",
     "text": [
      "Epoch: 86, Training Loss: 0.00014672791439807042, Validation Loss: 0.00029977170197525993\n"
     ]
    },
    {
     "name": "stderr",
     "output_type": "stream",
     "text": [
      "100%|██████████| 12/12 [00:08<00:00,  1.37it/s]\n"
     ]
    },
    {
     "name": "stdout",
     "output_type": "stream",
     "text": [
      "Epoch: 87, Training Loss: 0.00014809995203298362, Validation Loss: 0.00031318784022005275\n"
     ]
    },
    {
     "name": "stderr",
     "output_type": "stream",
     "text": [
      "100%|██████████| 12/12 [00:08<00:00,  1.42it/s]\n"
     ]
    },
    {
     "name": "stdout",
     "output_type": "stream",
     "text": [
      "Epoch: 88, Training Loss: 0.00017429385601038425, Validation Loss: 0.0003146995877614245\n"
     ]
    },
    {
     "name": "stderr",
     "output_type": "stream",
     "text": [
      "100%|██████████| 12/12 [00:08<00:00,  1.40it/s]\n"
     ]
    },
    {
     "name": "stdout",
     "output_type": "stream",
     "text": [
      "Epoch: 89, Training Loss: 0.00015930153919422688, Validation Loss: 0.0002638221521920059\n"
     ]
    },
    {
     "name": "stderr",
     "output_type": "stream",
     "text": [
      "100%|██████████| 12/12 [00:08<00:00,  1.42it/s]\n"
     ]
    },
    {
     "name": "stdout",
     "output_type": "stream",
     "text": [
      "Epoch: 90, Training Loss: 0.00014946140436222777, Validation Loss: 0.0002489825383236166\n",
      "New best model at epoch 90\n"
     ]
    },
    {
     "name": "stderr",
     "output_type": "stream",
     "text": [
      "100%|██████████| 12/12 [00:08<00:00,  1.40it/s]\n"
     ]
    },
    {
     "name": "stdout",
     "output_type": "stream",
     "text": [
      "Epoch: 91, Training Loss: 0.00014952003160336366, Validation Loss: 0.00028130514692747965\n"
     ]
    },
    {
     "name": "stderr",
     "output_type": "stream",
     "text": [
      "100%|██████████| 12/12 [00:08<00:00,  1.45it/s]\n"
     ]
    },
    {
     "name": "stdout",
     "output_type": "stream",
     "text": [
      "Epoch: 92, Training Loss: 0.00014477779162310375, Validation Loss: 0.0003078221925534308\n"
     ]
    },
    {
     "name": "stderr",
     "output_type": "stream",
     "text": [
      "100%|██████████| 12/12 [00:08<00:00,  1.44it/s]\n"
     ]
    },
    {
     "name": "stdout",
     "output_type": "stream",
     "text": [
      "Epoch: 93, Training Loss: 0.00014322164255039146, Validation Loss: 0.00027025913004763424\n"
     ]
    },
    {
     "name": "stderr",
     "output_type": "stream",
     "text": [
      "100%|██████████| 12/12 [00:08<00:00,  1.45it/s]\n"
     ]
    },
    {
     "name": "stdout",
     "output_type": "stream",
     "text": [
      "Epoch: 94, Training Loss: 0.00012981431609659921, Validation Loss: 0.00025469285174040124\n"
     ]
    },
    {
     "name": "stderr",
     "output_type": "stream",
     "text": [
      "100%|██████████| 12/12 [00:08<00:00,  1.45it/s]\n"
     ]
    },
    {
     "name": "stdout",
     "output_type": "stream",
     "text": [
      "Epoch: 95, Training Loss: 0.00012629644819147265, Validation Loss: 0.000291812903014943\n"
     ]
    },
    {
     "name": "stderr",
     "output_type": "stream",
     "text": [
      "100%|██████████| 12/12 [00:08<00:00,  1.46it/s]\n"
     ]
    },
    {
     "name": "stdout",
     "output_type": "stream",
     "text": [
      "Epoch: 96, Training Loss: 0.00011948465241099863, Validation Loss: 0.00024032236251514405\n",
      "New best model at epoch 96\n"
     ]
    },
    {
     "name": "stderr",
     "output_type": "stream",
     "text": [
      "100%|██████████| 12/12 [00:08<00:00,  1.43it/s]\n"
     ]
    },
    {
     "name": "stdout",
     "output_type": "stream",
     "text": [
      "Epoch: 97, Training Loss: 0.00011634106037187546, Validation Loss: 0.0003572439818526618\n"
     ]
    },
    {
     "name": "stderr",
     "output_type": "stream",
     "text": [
      "100%|██████████| 12/12 [00:07<00:00,  1.53it/s]\n"
     ]
    },
    {
     "name": "stdout",
     "output_type": "stream",
     "text": [
      "Epoch: 98, Training Loss: 0.00015727722408579817, Validation Loss: 0.00031906870572129264\n"
     ]
    },
    {
     "name": "stderr",
     "output_type": "stream",
     "text": [
      "100%|██████████| 12/12 [00:07<00:00,  1.54it/s]\n"
     ]
    },
    {
     "name": "stdout",
     "output_type": "stream",
     "text": [
      "Epoch: 99, Training Loss: 0.00018513390872006616, Validation Loss: 0.00040046418143901974\n"
     ]
    },
    {
     "name": "stderr",
     "output_type": "stream",
     "text": [
      "100%|██████████| 12/12 [00:07<00:00,  1.55it/s]\n"
     ]
    },
    {
     "name": "stdout",
     "output_type": "stream",
     "text": [
      "Epoch: 100, Training Loss: 0.00018657078544492833, Validation Loss: 0.00027979895094176754\n"
     ]
    },
    {
     "name": "stderr",
     "output_type": "stream",
     "text": [
      "100%|██████████| 12/12 [00:07<00:00,  1.55it/s]\n"
     ]
    },
    {
     "name": "stdout",
     "output_type": "stream",
     "text": [
      "Epoch: 101, Training Loss: 0.00018722219586682817, Validation Loss: 0.0003944256459362805\n"
     ]
    },
    {
     "name": "stderr",
     "output_type": "stream",
     "text": [
      "100%|██████████| 12/12 [00:07<00:00,  1.55it/s]\n"
     ]
    },
    {
     "name": "stdout",
     "output_type": "stream",
     "text": [
      "Epoch: 102, Training Loss: 0.00026925574032550986, Validation Loss: 0.00028884065250167623\n"
     ]
    },
    {
     "name": "stderr",
     "output_type": "stream",
     "text": [
      "100%|██████████| 12/12 [00:07<00:00,  1.53it/s]\n"
     ]
    },
    {
     "name": "stdout",
     "output_type": "stream",
     "text": [
      "Epoch: 103, Training Loss: 0.0002072011775453575, Validation Loss: 0.00031415878765983507\n"
     ]
    },
    {
     "name": "stderr",
     "output_type": "stream",
     "text": [
      "100%|██████████| 12/12 [00:07<00:00,  1.52it/s]\n"
     ]
    },
    {
     "name": "stdout",
     "output_type": "stream",
     "text": [
      "Epoch: 104, Training Loss: 0.00012392883642557231, Validation Loss: 0.0002290381380589679\n",
      "New best model at epoch 104\n"
     ]
    },
    {
     "name": "stderr",
     "output_type": "stream",
     "text": [
      "100%|██████████| 12/12 [00:08<00:00,  1.50it/s]\n"
     ]
    },
    {
     "name": "stdout",
     "output_type": "stream",
     "text": [
      "Epoch: 105, Training Loss: 0.00011220481064810883, Validation Loss: 0.00023721524485154077\n"
     ]
    },
    {
     "name": "stderr",
     "output_type": "stream",
     "text": [
      "100%|██████████| 12/12 [00:08<00:00,  1.45it/s]\n"
     ]
    },
    {
     "name": "stdout",
     "output_type": "stream",
     "text": [
      "Epoch: 106, Training Loss: 0.00010610875748776986, Validation Loss: 0.0002332898511667736\n"
     ]
    },
    {
     "name": "stderr",
     "output_type": "stream",
     "text": [
      "100%|██████████| 12/12 [00:08<00:00,  1.41it/s]\n"
     ]
    },
    {
     "name": "stdout",
     "output_type": "stream",
     "text": [
      "Epoch: 107, Training Loss: 0.00011043261110899039, Validation Loss: 0.0002404081533313729\n"
     ]
    },
    {
     "name": "stderr",
     "output_type": "stream",
     "text": [
      "100%|██████████| 12/12 [00:08<00:00,  1.44it/s]\n"
     ]
    },
    {
     "name": "stdout",
     "output_type": "stream",
     "text": [
      "Epoch: 108, Training Loss: 0.00015754697718269503, Validation Loss: 0.00022843496117275208\n",
      "New best model at epoch 108\n"
     ]
    },
    {
     "name": "stderr",
     "output_type": "stream",
     "text": [
      "100%|██████████| 12/12 [00:08<00:00,  1.37it/s]\n"
     ]
    },
    {
     "name": "stdout",
     "output_type": "stream",
     "text": [
      "Epoch: 109, Training Loss: 0.0001600988337789507, Validation Loss: 0.0002591932498035021\n"
     ]
    },
    {
     "name": "stderr",
     "output_type": "stream",
     "text": [
      "100%|██████████| 12/12 [00:08<00:00,  1.40it/s]\n"
     ]
    },
    {
     "name": "stdout",
     "output_type": "stream",
     "text": [
      "Epoch: 110, Training Loss: 0.00016097551633720286, Validation Loss: 0.0003158898325636983\n"
     ]
    },
    {
     "name": "stderr",
     "output_type": "stream",
     "text": [
      "100%|██████████| 12/12 [00:08<00:00,  1.36it/s]\n"
     ]
    },
    {
     "name": "stdout",
     "output_type": "stream",
     "text": [
      "Epoch: 111, Training Loss: 0.00012337653121600548, Validation Loss: 0.0002378718818363268\n"
     ]
    },
    {
     "name": "stderr",
     "output_type": "stream",
     "text": [
      "100%|██████████| 12/12 [00:08<00:00,  1.37it/s]\n"
     ]
    },
    {
     "name": "stdout",
     "output_type": "stream",
     "text": [
      "Epoch: 112, Training Loss: 0.00012142483683419414, Validation Loss: 0.0002358166930207517\n"
     ]
    },
    {
     "name": "stderr",
     "output_type": "stream",
     "text": [
      "100%|██████████| 12/12 [00:08<00:00,  1.37it/s]\n"
     ]
    },
    {
     "name": "stdout",
     "output_type": "stream",
     "text": [
      "Epoch: 113, Training Loss: 0.0001300448402616894, Validation Loss: 0.00029695487319258973\n"
     ]
    },
    {
     "name": "stderr",
     "output_type": "stream",
     "text": [
      "100%|██████████| 12/12 [00:08<00:00,  1.36it/s]\n"
     ]
    },
    {
     "name": "stdout",
     "output_type": "stream",
     "text": [
      "Epoch: 114, Training Loss: 0.00011473461442316572, Validation Loss: 0.00021183213175390847\n",
      "New best model at epoch 114\n"
     ]
    },
    {
     "name": "stderr",
     "output_type": "stream",
     "text": [
      "100%|██████████| 12/12 [00:08<00:00,  1.35it/s]\n"
     ]
    },
    {
     "name": "stdout",
     "output_type": "stream",
     "text": [
      "Epoch: 115, Training Loss: 0.00010523837894046058, Validation Loss: 0.00020896066780551337\n",
      "New best model at epoch 115\n"
     ]
    },
    {
     "name": "stderr",
     "output_type": "stream",
     "text": [
      "100%|██████████| 12/12 [00:08<00:00,  1.34it/s]\n"
     ]
    },
    {
     "name": "stdout",
     "output_type": "stream",
     "text": [
      "Epoch: 116, Training Loss: 0.00010325006708929625, Validation Loss: 0.00021728316278313287\n"
     ]
    },
    {
     "name": "stderr",
     "output_type": "stream",
     "text": [
      "100%|██████████| 12/12 [00:08<00:00,  1.35it/s]\n"
     ]
    },
    {
     "name": "stdout",
     "output_type": "stream",
     "text": [
      "Epoch: 117, Training Loss: 0.00010976838893839158, Validation Loss: 0.00021738277791882865\n"
     ]
    },
    {
     "name": "stderr",
     "output_type": "stream",
     "text": [
      "100%|██████████| 12/12 [00:08<00:00,  1.34it/s]\n"
     ]
    },
    {
     "name": "stdout",
     "output_type": "stream",
     "text": [
      "Epoch: 118, Training Loss: 0.00010157099616966055, Validation Loss: 0.00022459008323494345\n"
     ]
    },
    {
     "name": "stderr",
     "output_type": "stream",
     "text": [
      "100%|██████████| 12/12 [00:08<00:00,  1.38it/s]\n"
     ]
    },
    {
     "name": "stdout",
     "output_type": "stream",
     "text": [
      "Epoch: 119, Training Loss: 0.00010921141317036624, Validation Loss: 0.00031447580840904266\n"
     ]
    },
    {
     "name": "stderr",
     "output_type": "stream",
     "text": [
      "100%|██████████| 12/12 [00:08<00:00,  1.39it/s]\n"
     ]
    },
    {
     "name": "stdout",
     "output_type": "stream",
     "text": [
      "Epoch: 120, Training Loss: 0.00014575724344467744, Validation Loss: 0.000210961759876227\n"
     ]
    },
    {
     "name": "stderr",
     "output_type": "stream",
     "text": [
      "100%|██████████| 12/12 [00:08<00:00,  1.39it/s]\n"
     ]
    },
    {
     "name": "stdout",
     "output_type": "stream",
     "text": [
      "Epoch: 121, Training Loss: 0.0001103341273847036, Validation Loss: 0.0001991813514905516\n",
      "New best model at epoch 121\n"
     ]
    },
    {
     "name": "stderr",
     "output_type": "stream",
     "text": [
      "100%|██████████| 12/12 [00:08<00:00,  1.38it/s]\n"
     ]
    },
    {
     "name": "stdout",
     "output_type": "stream",
     "text": [
      "Epoch: 122, Training Loss: 9.897281779558398e-05, Validation Loss: 0.0002139560237992555\n"
     ]
    },
    {
     "name": "stderr",
     "output_type": "stream",
     "text": [
      "100%|██████████| 12/12 [00:08<00:00,  1.42it/s]\n"
     ]
    },
    {
     "name": "stdout",
     "output_type": "stream",
     "text": [
      "Epoch: 123, Training Loss: 0.00010464330625836737, Validation Loss: 0.00019779389185714535\n",
      "New best model at epoch 123\n"
     ]
    },
    {
     "name": "stderr",
     "output_type": "stream",
     "text": [
      "100%|██████████| 12/12 [00:08<00:00,  1.40it/s]\n"
     ]
    },
    {
     "name": "stdout",
     "output_type": "stream",
     "text": [
      "Epoch: 124, Training Loss: 0.00012582718287982667, Validation Loss: 0.0002065285516437143\n"
     ]
    },
    {
     "name": "stderr",
     "output_type": "stream",
     "text": [
      "100%|██████████| 12/12 [00:08<00:00,  1.39it/s]\n"
     ]
    },
    {
     "name": "stdout",
     "output_type": "stream",
     "text": [
      "Epoch: 125, Training Loss: 0.00012727401614635406, Validation Loss: 0.00042276489693904296\n"
     ]
    },
    {
     "name": "stderr",
     "output_type": "stream",
     "text": [
      "100%|██████████| 12/12 [00:08<00:00,  1.39it/s]\n"
     ]
    },
    {
     "name": "stdout",
     "output_type": "stream",
     "text": [
      "Epoch: 126, Training Loss: 0.00021030510045723835, Validation Loss: 0.00035499694058671594\n"
     ]
    },
    {
     "name": "stderr",
     "output_type": "stream",
     "text": [
      "100%|██████████| 12/12 [00:08<00:00,  1.39it/s]\n"
     ]
    },
    {
     "name": "stdout",
     "output_type": "stream",
     "text": [
      "Epoch: 127, Training Loss: 0.00019737627007998526, Validation Loss: 0.0002793390885926783\n"
     ]
    },
    {
     "name": "stderr",
     "output_type": "stream",
     "text": [
      "100%|██████████| 12/12 [00:08<00:00,  1.42it/s]\n"
     ]
    },
    {
     "name": "stdout",
     "output_type": "stream",
     "text": [
      "Epoch: 128, Training Loss: 0.0001926402716586987, Validation Loss: 0.0002773214873741381\n"
     ]
    },
    {
     "name": "stderr",
     "output_type": "stream",
     "text": [
      "100%|██████████| 12/12 [00:08<00:00,  1.42it/s]\n"
     ]
    },
    {
     "name": "stdout",
     "output_type": "stream",
     "text": [
      "Epoch: 129, Training Loss: 0.00016730385808235346, Validation Loss: 0.0002634264383232221\n"
     ]
    },
    {
     "name": "stderr",
     "output_type": "stream",
     "text": [
      "100%|██████████| 12/12 [00:08<00:00,  1.39it/s]\n"
     ]
    },
    {
     "name": "stdout",
     "output_type": "stream",
     "text": [
      "Epoch: 130, Training Loss: 0.00016221724460289502, Validation Loss: 0.00023023083485895768\n"
     ]
    },
    {
     "name": "stderr",
     "output_type": "stream",
     "text": [
      "100%|██████████| 12/12 [00:09<00:00,  1.33it/s]\n"
     ]
    },
    {
     "name": "stdout",
     "output_type": "stream",
     "text": [
      "Epoch: 131, Training Loss: 0.00012121354969470606, Validation Loss: 0.00022812746465206146\n"
     ]
    },
    {
     "name": "stderr",
     "output_type": "stream",
     "text": [
      "100%|██████████| 12/12 [00:08<00:00,  1.38it/s]\n"
     ]
    },
    {
     "name": "stdout",
     "output_type": "stream",
     "text": [
      "Epoch: 132, Training Loss: 0.00010889364542284359, Validation Loss: 0.0001895183013402857\n",
      "New best model at epoch 132\n"
     ]
    },
    {
     "name": "stderr",
     "output_type": "stream",
     "text": [
      "100%|██████████| 12/12 [00:08<00:00,  1.37it/s]\n"
     ]
    },
    {
     "name": "stdout",
     "output_type": "stream",
     "text": [
      "Epoch: 133, Training Loss: 9.538608355796896e-05, Validation Loss: 0.0001865991835074965\n",
      "New best model at epoch 133\n"
     ]
    },
    {
     "name": "stderr",
     "output_type": "stream",
     "text": [
      "100%|██████████| 12/12 [00:08<00:00,  1.37it/s]\n"
     ]
    },
    {
     "name": "stdout",
     "output_type": "stream",
     "text": [
      "Epoch: 134, Training Loss: 9.25182387921571e-05, Validation Loss: 0.00017098957687267102\n",
      "New best model at epoch 134\n"
     ]
    },
    {
     "name": "stderr",
     "output_type": "stream",
     "text": [
      "100%|██████████| 12/12 [00:08<00:00,  1.35it/s]\n"
     ]
    },
    {
     "name": "stdout",
     "output_type": "stream",
     "text": [
      "Epoch: 135, Training Loss: 0.00016894672080525197, Validation Loss: 0.0002611817908473313\n"
     ]
    },
    {
     "name": "stderr",
     "output_type": "stream",
     "text": [
      "100%|██████████| 12/12 [00:08<00:00,  1.41it/s]\n"
     ]
    },
    {
     "name": "stdout",
     "output_type": "stream",
     "text": [
      "Epoch: 136, Training Loss: 0.0001822427693696227, Validation Loss: 0.00017622737868805416\n"
     ]
    },
    {
     "name": "stderr",
     "output_type": "stream",
     "text": [
      "100%|██████████| 12/12 [00:08<00:00,  1.45it/s]\n"
     ]
    },
    {
     "name": "stdout",
     "output_type": "stream",
     "text": [
      "Epoch: 137, Training Loss: 0.00031043949942007504, Validation Loss: 0.00043123230716446415\n"
     ]
    },
    {
     "name": "stderr",
     "output_type": "stream",
     "text": [
      "100%|██████████| 12/12 [00:08<00:00,  1.47it/s]\n"
     ]
    },
    {
     "name": "stdout",
     "output_type": "stream",
     "text": [
      "Epoch: 138, Training Loss: 0.00016281382280188458, Validation Loss: 0.00025001008543767966\n"
     ]
    },
    {
     "name": "stderr",
     "output_type": "stream",
     "text": [
      "100%|██████████| 12/12 [00:08<00:00,  1.46it/s]\n"
     ]
    },
    {
     "name": "stdout",
     "output_type": "stream",
     "text": [
      "Epoch: 139, Training Loss: 0.0001203474863965918, Validation Loss: 0.0002372263370489236\n"
     ]
    },
    {
     "name": "stderr",
     "output_type": "stream",
     "text": [
      "100%|██████████| 12/12 [00:08<00:00,  1.45it/s]\n"
     ]
    },
    {
     "name": "stdout",
     "output_type": "stream",
     "text": [
      "Epoch: 140, Training Loss: 0.00012942988905706443, Validation Loss: 0.0002665334177436307\n"
     ]
    },
    {
     "name": "stderr",
     "output_type": "stream",
     "text": [
      "100%|██████████| 12/12 [00:08<00:00,  1.47it/s]\n"
     ]
    },
    {
     "name": "stdout",
     "output_type": "stream",
     "text": [
      "Epoch: 141, Training Loss: 0.0001281951529866395, Validation Loss: 0.0001975186423806008\n"
     ]
    },
    {
     "name": "stderr",
     "output_type": "stream",
     "text": [
      "100%|██████████| 12/12 [00:08<00:00,  1.47it/s]\n"
     ]
    },
    {
     "name": "stdout",
     "output_type": "stream",
     "text": [
      "Epoch: 142, Training Loss: 9.590727556011795e-05, Validation Loss: 0.0001915082939376589\n"
     ]
    },
    {
     "name": "stderr",
     "output_type": "stream",
     "text": [
      "100%|██████████| 12/12 [00:08<00:00,  1.47it/s]\n"
     ]
    },
    {
     "name": "stdout",
     "output_type": "stream",
     "text": [
      "Epoch: 143, Training Loss: 8.608154954951412e-05, Validation Loss: 0.00020032831162097864\n"
     ]
    },
    {
     "name": "stderr",
     "output_type": "stream",
     "text": [
      "100%|██████████| 12/12 [00:08<00:00,  1.47it/s]\n"
     ]
    },
    {
     "name": "stdout",
     "output_type": "stream",
     "text": [
      "Epoch: 144, Training Loss: 8.469090668465166e-05, Validation Loss: 0.00016153098476934247\n",
      "New best model at epoch 144\n"
     ]
    },
    {
     "name": "stderr",
     "output_type": "stream",
     "text": [
      "100%|██████████| 12/12 [00:08<00:00,  1.39it/s]\n"
     ]
    },
    {
     "name": "stdout",
     "output_type": "stream",
     "text": [
      "Epoch: 145, Training Loss: 0.00010899073822656646, Validation Loss: 0.0002132349145540502\n"
     ]
    },
    {
     "name": "stderr",
     "output_type": "stream",
     "text": [
      "100%|██████████| 12/12 [00:08<00:00,  1.42it/s]\n"
     ]
    },
    {
     "name": "stdout",
     "output_type": "stream",
     "text": [
      "Epoch: 146, Training Loss: 0.00022976148466113955, Validation Loss: 0.00029741569596808404\n"
     ]
    },
    {
     "name": "stderr",
     "output_type": "stream",
     "text": [
      "100%|██████████| 12/12 [00:08<00:00,  1.39it/s]\n"
     ]
    },
    {
     "name": "stdout",
     "output_type": "stream",
     "text": [
      "Epoch: 147, Training Loss: 0.00015910751729582748, Validation Loss: 0.0002590274380054325\n"
     ]
    },
    {
     "name": "stderr",
     "output_type": "stream",
     "text": [
      "100%|██████████| 12/12 [00:08<00:00,  1.42it/s]\n"
     ]
    },
    {
     "name": "stdout",
     "output_type": "stream",
     "text": [
      "Epoch: 148, Training Loss: 0.00012013301784463692, Validation Loss: 0.00025861308677121997\n"
     ]
    },
    {
     "name": "stderr",
     "output_type": "stream",
     "text": [
      "100%|██████████| 12/12 [00:08<00:00,  1.42it/s]\n"
     ]
    },
    {
     "name": "stdout",
     "output_type": "stream",
     "text": [
      "Epoch: 149, Training Loss: 9.858718173442564e-05, Validation Loss: 0.00018920172078651376\n"
     ]
    },
    {
     "name": "stderr",
     "output_type": "stream",
     "text": [
      "100%|██████████| 12/12 [00:08<00:00,  1.44it/s]\n"
     ]
    },
    {
     "name": "stdout",
     "output_type": "stream",
     "text": [
      "Epoch: 150, Training Loss: 0.00010084615011389057, Validation Loss: 0.0001952234742930159\n"
     ]
    },
    {
     "name": "stderr",
     "output_type": "stream",
     "text": [
      "100%|██████████| 12/12 [00:08<00:00,  1.44it/s]\n"
     ]
    },
    {
     "name": "stdout",
     "output_type": "stream",
     "text": [
      "Epoch: 151, Training Loss: 0.00010510297336926062, Validation Loss: 0.00020160608619335108\n"
     ]
    },
    {
     "name": "stderr",
     "output_type": "stream",
     "text": [
      "100%|██████████| 12/12 [00:08<00:00,  1.45it/s]\n"
     ]
    },
    {
     "name": "stdout",
     "output_type": "stream",
     "text": [
      "Epoch: 152, Training Loss: 0.00011769848242693115, Validation Loss: 0.00017816185572883114\n"
     ]
    },
    {
     "name": "stderr",
     "output_type": "stream",
     "text": [
      "100%|██████████| 12/12 [00:08<00:00,  1.44it/s]\n"
     ]
    },
    {
     "name": "stdout",
     "output_type": "stream",
     "text": [
      "Epoch: 153, Training Loss: 9.408113449656715e-05, Validation Loss: 0.00016078113549156114\n",
      "New best model at epoch 153\n"
     ]
    },
    {
     "name": "stderr",
     "output_type": "stream",
     "text": [
      "100%|██████████| 12/12 [00:08<00:00,  1.42it/s]\n"
     ]
    },
    {
     "name": "stdout",
     "output_type": "stream",
     "text": [
      "Epoch: 154, Training Loss: 8.897963258884072e-05, Validation Loss: 0.0001419973596057389\n",
      "New best model at epoch 154\n"
     ]
    },
    {
     "name": "stderr",
     "output_type": "stream",
     "text": [
      "100%|██████████| 12/12 [00:08<00:00,  1.42it/s]\n"
     ]
    },
    {
     "name": "stdout",
     "output_type": "stream",
     "text": [
      "Epoch: 155, Training Loss: 9.509706069366075e-05, Validation Loss: 0.00018520413505029865\n"
     ]
    },
    {
     "name": "stderr",
     "output_type": "stream",
     "text": [
      "100%|██████████| 12/12 [00:08<00:00,  1.41it/s]\n"
     ]
    },
    {
     "name": "stdout",
     "output_type": "stream",
     "text": [
      "Epoch: 156, Training Loss: 9.28261318525377e-05, Validation Loss: 0.00016978094936348498\n"
     ]
    },
    {
     "name": "stderr",
     "output_type": "stream",
     "text": [
      "100%|██████████| 12/12 [00:08<00:00,  1.46it/s]\n"
     ]
    },
    {
     "name": "stdout",
     "output_type": "stream",
     "text": [
      "Epoch: 157, Training Loss: 0.0001214033169768906, Validation Loss: 0.0001673979604674969\n"
     ]
    },
    {
     "name": "stderr",
     "output_type": "stream",
     "text": [
      "100%|██████████| 12/12 [00:08<00:00,  1.43it/s]\n"
     ]
    },
    {
     "name": "stdout",
     "output_type": "stream",
     "text": [
      "Epoch: 158, Training Loss: 0.00011012418932902317, Validation Loss: 0.00017502942864666693\n"
     ]
    },
    {
     "name": "stderr",
     "output_type": "stream",
     "text": [
      "100%|██████████| 12/12 [00:08<00:00,  1.43it/s]\n"
     ]
    },
    {
     "name": "stdout",
     "output_type": "stream",
     "text": [
      "Epoch: 159, Training Loss: 0.00011850416922243312, Validation Loss: 0.0002579233405413106\n"
     ]
    },
    {
     "name": "stderr",
     "output_type": "stream",
     "text": [
      "100%|██████████| 12/12 [00:08<00:00,  1.45it/s]\n"
     ]
    },
    {
     "name": "stdout",
     "output_type": "stream",
     "text": [
      "Epoch: 160, Training Loss: 0.00015825773092122594, Validation Loss: 0.00019693875219672918\n"
     ]
    },
    {
     "name": "stderr",
     "output_type": "stream",
     "text": [
      "100%|██████████| 12/12 [00:08<00:00,  1.45it/s]\n"
     ]
    },
    {
     "name": "stdout",
     "output_type": "stream",
     "text": [
      "Epoch: 161, Training Loss: 0.00016908887482713908, Validation Loss: 0.00021225332966423593\n"
     ]
    },
    {
     "name": "stderr",
     "output_type": "stream",
     "text": [
      "100%|██████████| 12/12 [00:08<00:00,  1.45it/s]\n"
     ]
    },
    {
     "name": "stdout",
     "output_type": "stream",
     "text": [
      "Epoch: 162, Training Loss: 0.00015668993304037335, Validation Loss: 0.00018881586220231839\n"
     ]
    },
    {
     "name": "stderr",
     "output_type": "stream",
     "text": [
      "100%|██████████| 12/12 [00:08<00:00,  1.42it/s]\n"
     ]
    },
    {
     "name": "stdout",
     "output_type": "stream",
     "text": [
      "Epoch: 163, Training Loss: 0.0001377517025199874, Validation Loss: 0.00029790375992888585\n"
     ]
    },
    {
     "name": "stderr",
     "output_type": "stream",
     "text": [
      "100%|██████████| 12/12 [00:08<00:00,  1.44it/s]\n"
     ]
    },
    {
     "name": "stdout",
     "output_type": "stream",
     "text": [
      "Epoch: 164, Training Loss: 0.0001432541866961401, Validation Loss: 0.00022313549197860993\n"
     ]
    },
    {
     "name": "stderr",
     "output_type": "stream",
     "text": [
      "100%|██████████| 12/12 [00:08<00:00,  1.43it/s]\n"
     ]
    },
    {
     "name": "stdout",
     "output_type": "stream",
     "text": [
      "Epoch: 165, Training Loss: 0.0001087757070005561, Validation Loss: 0.0001858716132119298\n"
     ]
    },
    {
     "name": "stderr",
     "output_type": "stream",
     "text": [
      "100%|██████████| 12/12 [00:08<00:00,  1.44it/s]\n"
     ]
    },
    {
     "name": "stdout",
     "output_type": "stream",
     "text": [
      "Epoch: 166, Training Loss: 0.00010259184091410134, Validation Loss: 0.0002256196239613928\n"
     ]
    },
    {
     "name": "stderr",
     "output_type": "stream",
     "text": [
      "100%|██████████| 12/12 [00:08<00:00,  1.43it/s]\n"
     ]
    },
    {
     "name": "stdout",
     "output_type": "stream",
     "text": [
      "Epoch: 167, Training Loss: 0.00010339059311566719, Validation Loss: 0.00018099693625117652\n"
     ]
    },
    {
     "name": "stderr",
     "output_type": "stream",
     "text": [
      "100%|██████████| 12/12 [00:08<00:00,  1.43it/s]\n"
     ]
    },
    {
     "name": "stdout",
     "output_type": "stream",
     "text": [
      "Epoch: 168, Training Loss: 0.00011481786956816602, Validation Loss: 0.0003131885969196446\n"
     ]
    },
    {
     "name": "stderr",
     "output_type": "stream",
     "text": [
      "100%|██████████| 12/12 [00:08<00:00,  1.41it/s]\n"
     ]
    },
    {
     "name": "stdout",
     "output_type": "stream",
     "text": [
      "Epoch: 169, Training Loss: 0.00012822575687702434, Validation Loss: 0.00018665276729734614\n"
     ]
    },
    {
     "name": "stderr",
     "output_type": "stream",
     "text": [
      "100%|██████████| 12/12 [00:08<00:00,  1.39it/s]\n"
     ]
    },
    {
     "name": "stdout",
     "output_type": "stream",
     "text": [
      "Epoch: 170, Training Loss: 0.00011093240209447686, Validation Loss: 0.0001974351835087873\n"
     ]
    },
    {
     "name": "stderr",
     "output_type": "stream",
     "text": [
      "100%|██████████| 12/12 [00:08<00:00,  1.39it/s]\n"
     ]
    },
    {
     "name": "stdout",
     "output_type": "stream",
     "text": [
      "Epoch: 171, Training Loss: 8.563349122899429e-05, Validation Loss: 0.00017781431597541086\n"
     ]
    },
    {
     "name": "stderr",
     "output_type": "stream",
     "text": [
      "100%|██████████| 12/12 [00:08<00:00,  1.38it/s]\n"
     ]
    },
    {
     "name": "stdout",
     "output_type": "stream",
     "text": [
      "Epoch: 172, Training Loss: 8.314734319962251e-05, Validation Loss: 0.00016265648810076527\n"
     ]
    },
    {
     "name": "stderr",
     "output_type": "stream",
     "text": [
      "100%|██████████| 12/12 [00:08<00:00,  1.36it/s]\n"
     ]
    },
    {
     "name": "stdout",
     "output_type": "stream",
     "text": [
      "Epoch: 173, Training Loss: 9.032543675857596e-05, Validation Loss: 0.00025049427858903073\n"
     ]
    },
    {
     "name": "stderr",
     "output_type": "stream",
     "text": [
      "100%|██████████| 12/12 [00:08<00:00,  1.36it/s]\n"
     ]
    },
    {
     "name": "stdout",
     "output_type": "stream",
     "text": [
      "Epoch: 174, Training Loss: 9.029622621407422e-05, Validation Loss: 0.00017514433056931011\n"
     ]
    },
    {
     "name": "stderr",
     "output_type": "stream",
     "text": [
      "100%|██████████| 12/12 [00:08<00:00,  1.47it/s]\n"
     ]
    },
    {
     "name": "stdout",
     "output_type": "stream",
     "text": [
      "Epoch: 175, Training Loss: 0.00014620019646827132, Validation Loss: 0.00032090219610836357\n"
     ]
    },
    {
     "name": "stderr",
     "output_type": "stream",
     "text": [
      "100%|██████████| 12/12 [00:08<00:00,  1.43it/s]\n"
     ]
    },
    {
     "name": "stdout",
     "output_type": "stream",
     "text": [
      "Epoch: 176, Training Loss: 0.0001921013681567274, Validation Loss: 0.00018658023691386916\n"
     ]
    },
    {
     "name": "stderr",
     "output_type": "stream",
     "text": [
      "100%|██████████| 12/12 [00:08<00:00,  1.46it/s]\n"
     ]
    },
    {
     "name": "stdout",
     "output_type": "stream",
     "text": [
      "Epoch: 177, Training Loss: 9.612674330128357e-05, Validation Loss: 0.00016120697910082527\n"
     ]
    },
    {
     "name": "stderr",
     "output_type": "stream",
     "text": [
      "100%|██████████| 12/12 [00:08<00:00,  1.44it/s]\n"
     ]
    },
    {
     "name": "stdout",
     "output_type": "stream",
     "text": [
      "Epoch: 178, Training Loss: 8.596897593330748e-05, Validation Loss: 0.00019489139958750457\n"
     ]
    },
    {
     "name": "stderr",
     "output_type": "stream",
     "text": [
      "100%|██████████| 12/12 [00:08<00:00,  1.39it/s]\n"
     ]
    },
    {
     "name": "stdout",
     "output_type": "stream",
     "text": [
      "Epoch: 179, Training Loss: 7.881150850153062e-05, Validation Loss: 0.0001693957528914325\n"
     ]
    },
    {
     "name": "stderr",
     "output_type": "stream",
     "text": [
      "100%|██████████| 12/12 [00:08<00:00,  1.41it/s]\n"
     ]
    },
    {
     "name": "stdout",
     "output_type": "stream",
     "text": [
      "Epoch: 180, Training Loss: 7.29005123503157e-05, Validation Loss: 0.00014714420831296593\n"
     ]
    },
    {
     "name": "stderr",
     "output_type": "stream",
     "text": [
      "100%|██████████| 12/12 [00:08<00:00,  1.45it/s]\n"
     ]
    },
    {
     "name": "stdout",
     "output_type": "stream",
     "text": [
      "Epoch: 181, Training Loss: 6.808300895499997e-05, Validation Loss: 0.00015255262042046525\n"
     ]
    },
    {
     "name": "stderr",
     "output_type": "stream",
     "text": [
      "100%|██████████| 12/12 [00:08<00:00,  1.45it/s]\n"
     ]
    },
    {
     "name": "stdout",
     "output_type": "stream",
     "text": [
      "Epoch: 182, Training Loss: 6.89384311651035e-05, Validation Loss: 0.0001554763875901699\n"
     ]
    },
    {
     "name": "stderr",
     "output_type": "stream",
     "text": [
      "100%|██████████| 12/12 [00:08<00:00,  1.36it/s]\n"
     ]
    },
    {
     "name": "stdout",
     "output_type": "stream",
     "text": [
      "Epoch: 183, Training Loss: 7.231203380797524e-05, Validation Loss: 0.00014094565631239675\n",
      "New best model at epoch 183\n"
     ]
    },
    {
     "name": "stderr",
     "output_type": "stream",
     "text": [
      "100%|██████████| 12/12 [00:08<00:00,  1.38it/s]\n"
     ]
    },
    {
     "name": "stdout",
     "output_type": "stream",
     "text": [
      "Epoch: 184, Training Loss: 7.773566600614383e-05, Validation Loss: 0.00019825984418275766\n"
     ]
    },
    {
     "name": "stderr",
     "output_type": "stream",
     "text": [
      "100%|██████████| 12/12 [00:08<00:00,  1.39it/s]\n"
     ]
    },
    {
     "name": "stdout",
     "output_type": "stream",
     "text": [
      "Epoch: 185, Training Loss: 0.00010776771402258116, Validation Loss: 0.00021202858988544904\n"
     ]
    },
    {
     "name": "stderr",
     "output_type": "stream",
     "text": [
      "100%|██████████| 12/12 [00:08<00:00,  1.40it/s]\n"
     ]
    },
    {
     "name": "stdout",
     "output_type": "stream",
     "text": [
      "Epoch: 186, Training Loss: 0.00011247956657219522, Validation Loss: 0.00021489663413376547\n"
     ]
    },
    {
     "name": "stderr",
     "output_type": "stream",
     "text": [
      "100%|██████████| 12/12 [00:08<00:00,  1.41it/s]\n"
     ]
    },
    {
     "name": "stdout",
     "output_type": "stream",
     "text": [
      "Epoch: 187, Training Loss: 9.204537976377954e-05, Validation Loss: 0.00016584092372795567\n"
     ]
    },
    {
     "name": "stderr",
     "output_type": "stream",
     "text": [
      "100%|██████████| 12/12 [00:08<00:00,  1.41it/s]\n"
     ]
    },
    {
     "name": "stdout",
     "output_type": "stream",
     "text": [
      "Epoch: 188, Training Loss: 9.588725515641272e-05, Validation Loss: 0.00020565280283335596\n"
     ]
    },
    {
     "name": "stderr",
     "output_type": "stream",
     "text": [
      "100%|██████████| 12/12 [00:08<00:00,  1.41it/s]\n"
     ]
    },
    {
     "name": "stdout",
     "output_type": "stream",
     "text": [
      "Epoch: 189, Training Loss: 0.00012657811870061172, Validation Loss: 0.0001627000492590014\n"
     ]
    },
    {
     "name": "stderr",
     "output_type": "stream",
     "text": [
      "100%|██████████| 12/12 [00:08<00:00,  1.39it/s]\n"
     ]
    },
    {
     "name": "stdout",
     "output_type": "stream",
     "text": [
      "Epoch: 190, Training Loss: 0.0002314972643944202, Validation Loss: 0.00028168064454803243\n"
     ]
    },
    {
     "name": "stderr",
     "output_type": "stream",
     "text": [
      "100%|██████████| 12/12 [00:08<00:00,  1.42it/s]\n"
     ]
    },
    {
     "name": "stdout",
     "output_type": "stream",
     "text": [
      "Epoch: 191, Training Loss: 0.00016485203317036698, Validation Loss: 0.0001675709972914774\n"
     ]
    },
    {
     "name": "stderr",
     "output_type": "stream",
     "text": [
      "100%|██████████| 12/12 [00:08<00:00,  1.44it/s]\n"
     ]
    },
    {
     "name": "stdout",
     "output_type": "stream",
     "text": [
      "Epoch: 192, Training Loss: 0.00011747088440946148, Validation Loss: 0.00016090385179268196\n"
     ]
    },
    {
     "name": "stderr",
     "output_type": "stream",
     "text": [
      "100%|██████████| 12/12 [00:08<00:00,  1.42it/s]\n"
     ]
    },
    {
     "name": "stdout",
     "output_type": "stream",
     "text": [
      "Epoch: 193, Training Loss: 0.00010337272639541577, Validation Loss: 0.0001389470780850388\n",
      "New best model at epoch 193\n"
     ]
    },
    {
     "name": "stderr",
     "output_type": "stream",
     "text": [
      "100%|██████████| 12/12 [00:08<00:00,  1.42it/s]\n"
     ]
    },
    {
     "name": "stdout",
     "output_type": "stream",
     "text": [
      "Epoch: 194, Training Loss: 0.00011302302239831381, Validation Loss: 0.00025736506358953193\n"
     ]
    },
    {
     "name": "stderr",
     "output_type": "stream",
     "text": [
      "100%|██████████| 12/12 [00:08<00:00,  1.44it/s]\n"
     ]
    },
    {
     "name": "stdout",
     "output_type": "stream",
     "text": [
      "Epoch: 195, Training Loss: 0.00012498380904920245, Validation Loss: 0.00018758250735118054\n"
     ]
    },
    {
     "name": "stderr",
     "output_type": "stream",
     "text": [
      "100%|██████████| 12/12 [00:08<00:00,  1.44it/s]\n"
     ]
    },
    {
     "name": "stdout",
     "output_type": "stream",
     "text": [
      "Epoch: 196, Training Loss: 0.00010968062391233009, Validation Loss: 0.0002043242784566246\n"
     ]
    },
    {
     "name": "stderr",
     "output_type": "stream",
     "text": [
      "100%|██████████| 12/12 [00:08<00:00,  1.43it/s]\n"
     ]
    },
    {
     "name": "stdout",
     "output_type": "stream",
     "text": [
      "Epoch: 197, Training Loss: 8.523540964233689e-05, Validation Loss: 0.00014888155419612303\n"
     ]
    },
    {
     "name": "stderr",
     "output_type": "stream",
     "text": [
      "100%|██████████| 12/12 [00:08<00:00,  1.41it/s]\n"
     ]
    },
    {
     "name": "stdout",
     "output_type": "stream",
     "text": [
      "Epoch: 198, Training Loss: 7.027463288977742e-05, Validation Loss: 0.00013750995276495814\n",
      "New best model at epoch 198\n"
     ]
    },
    {
     "name": "stderr",
     "output_type": "stream",
     "text": [
      "100%|██████████| 12/12 [00:08<00:00,  1.41it/s]\n"
     ]
    },
    {
     "name": "stdout",
     "output_type": "stream",
     "text": [
      "Epoch: 199, Training Loss: 6.307564459954544e-05, Validation Loss: 0.00013801059321849607\n"
     ]
    }
   ],
   "source": [
    "# TRAINING LOOP:\n",
    "# print(model)\n",
    "for epoch in range(epochs):\n",
    "    train_loss = train_loop(train_dataloader, model, optimizer, noise_factor, sparsity_weight)\n",
    "    test_loss = test_loop(test_dataloader, model, sparsity_weight)\n",
    "\n",
    "    print(f\"Epoch: {epoch}, Training Loss: {train_loss}, Validation Loss: {test_loss}\")\n",
    "    train_loss_evol.append(train_loss)\n",
    "    test_loss_evol.append(test_loss)\n",
    "    if test_loss < best_test_loss:\n",
    "        best_test_loss = test_loss\n",
    "        patience_counter = 0  # Reset patience\n",
    "        torch.save(model.state_dict(), 'best_model.pth')  # Save the best model\n",
    "        print(f\"New best model at epoch {epoch}\")\n",
    "    # else:\n",
    "    #     patience_counter += 1\n",
    "    #     if patience_counter >= patience:\n",
    "    #         print(f\"Early stopping at epoch {epoch}\")\n",
    "    #         break\n",
    "\n",
    "\n"
   ]
  },
  {
   "cell_type": "code",
   "execution_count": 260,
   "metadata": {},
   "outputs": [
    {
     "data": {
      "image/png": "[encoded data removed]",
      "text/plain": [
       "<Figure size 640x480 with 1 Axes>"
      ]
     },
     "metadata": {},
     "output_type": "display_data"
    }
   ],
   "source": [
    "# Plot loss evolution\n",
    "import matplotlib.pyplot as plt\n",
    "\n",
    "plt.plot(np.log10(train_loss_evol), label='Train Loss')\n",
    "plt.plot(np.log10(test_loss_evol), label='Validation Loss')\n",
    "plt.xlabel('Epochs')\n",
    "plt.ylabel('Loss')\n",
    "plt.title('Loss Evolution')\n",
    "plt.legend()\n",
    "plt.grid()\n",
    "plt.show()"
   ]
  },
  {
   "cell_type": "code",
   "execution_count": 244,
   "metadata": {},
   "outputs": [
    {
     "name": "stdout",
     "output_type": "stream",
     "text": [
      "Batch shape: torch.Size([32, 1000, 84])\n",
      "Single sample shape: torch.Size([1, 1000, 84])\n"
     ]
    },
    {
     "data": {
      "image/png": "[encoded data removed]",
      "text/plain": [
       "<Figure size 640x480 with 1 Axes>"
      ]
     },
     "metadata": {},
     "output_type": "display_data"
    }
   ],
   "source": [
    "# Access the first batch of the test dataloader\n",
    "with torch.no_grad():\n",
    "    # Get the first batch from the dataloader\n",
    "    for x in test_dataloader:\n",
    "        # x will have the shape (batch_size, seq_len, num_features)\n",
    "        print(\"Batch shape:\", x.shape)\n",
    "        \n",
    "        # Use only the first element in the batch\n",
    "        x_sample = x[0].unsqueeze(0)  # Shape: (1, seq_len, num_features)\n",
    "        print(\"Single sample shape:\", x_sample.shape)\n",
    "        \n",
    "        # Pass it through the model\n",
    "        reconstructed, _ = model(x_sample)\n",
    "        \n",
    "        # Remove batch dimension for visualization\n",
    "        x_sample = x_sample.squeeze(0)  # Shape: (seq_len, num_features)\n",
    "        reconstructed = reconstructed.squeeze(0)  # Shape: (seq_len, num_features)\n",
    "        \n",
    "        # Plot the original and reconstructed signal for one feature\n",
    "        feature_index = 2\n",
    "          # Adjust to visualize a specific feature\n",
    "        plt.plot(x_sample[:, feature_index].cpu().numpy(), label=\"Original\")\n",
    "        plt.plot(reconstructed[:, feature_index].cpu().numpy(), label=\"Reconstructed\")\n",
    "        plt.legend()\n",
    "        plt.title(f\"Reconstruction for Feature {feature_index}\")\n",
    "        plt.ylim([0, 1])\n",
    "        plt.show()\n",
    "        \n",
    "        # Break after first batch\n",
    "        break\n"
   ]
  },
  {
   "cell_type": "code",
   "execution_count": 57,
   "metadata": {},
   "outputs": [
    {
     "name": "stderr",
     "output_type": "stream",
     "text": [
      "C:\\Users\\user\\AppData\\Local\\Temp\\ipykernel_18224\\3501737622.py:1: FutureWarning: You are using `torch.load` with `weights_only=False` (the current default value), which uses the default pickle module implicitly. It is possible to construct malicious pickle data which will execute arbitrary code during unpickling (See https://github.com/pytorch/pytorch/blob/main/SECURITY.md#untrusted-models for more details). In a future release, the default value for `weights_only` will be flipped to `True`. This limits the functions that could be executed during unpickling. Arbitrary objects will no longer be allowed to be loaded via this mode unless they are explicitly allowlisted by the user via `torch.serialization.add_safe_globals`. We recommend you start setting `weights_only=True` for any use case where you don't have full control of the loaded file. Please open an issue on GitHub for any issues related to this experimental feature.\n",
      "  model.load_state_dict(torch.load(\"best_model.pth\"))  # Load the trained model weights\n"
     ]
    },
    {
     "data": {
      "text/plain": [
       "ResidualConvAutoencoder(\n",
       "  (encoder_conv1): Sequential(\n",
       "    (0): Conv1d(84, 256, kernel_size=(3,), stride=(1,), padding=(1,))\n",
       "    (1): ReLU()\n",
       "    (2): LayerNorm((256, 1000), eps=1e-05, elementwise_affine=True)\n",
       "  )\n",
       "  (encoder_conv2): Sequential(\n",
       "    (0): Conv1d(256, 128, kernel_size=(3,), stride=(1,), padding=(1,))\n",
       "    (1): ReLU()\n",
       "    (2): LayerNorm((128, 500), eps=1e-05, elementwise_affine=True)\n",
       "    (3): Dropout(p=0.2, inplace=False)\n",
       "  )\n",
       "  (encoder_conv3): Sequential(\n",
       "    (0): Conv1d(128, 64, kernel_size=(3,), stride=(1,), padding=(1,))\n",
       "    (1): ReLU()\n",
       "    (2): LayerNorm((64, 250), eps=1e-05, elementwise_affine=True)\n",
       "  )\n",
       "  (encoder_pool): MaxPool1d(kernel_size=2, stride=2, padding=0, dilation=1, ceil_mode=False)\n",
       "  (latent): Sequential(\n",
       "    (0): Conv1d(64, 64, kernel_size=(3,), stride=(1,), padding=(1,))\n",
       "    (1): ReLU()\n",
       "    (2): LayerNorm((64, 125), eps=1e-05, elementwise_affine=True)\n",
       "  )\n",
       "  (decoder_conv1): Sequential(\n",
       "    (0): ConvTranspose1d(64, 64, kernel_size=(2,), stride=(2,))\n",
       "    (1): ReLU()\n",
       "    (2): LayerNorm((64, 250), eps=1e-05, elementwise_affine=True)\n",
       "  )\n",
       "  (decoder_conv2): Sequential(\n",
       "    (0): ConvTranspose1d(128, 128, kernel_size=(2,), stride=(2,))\n",
       "    (1): ReLU()\n",
       "    (2): LayerNorm((128, 500), eps=1e-05, elementwise_affine=True)\n",
       "    (3): Dropout(p=0.2, inplace=False)\n",
       "  )\n",
       "  (decoder_conv3): Sequential(\n",
       "    (0): ConvTranspose1d(256, 256, kernel_size=(2,), stride=(2,))\n",
       "    (1): ReLU()\n",
       "    (2): LayerNorm((256, 1000), eps=1e-05, elementwise_affine=True)\n",
       "  )\n",
       "  (output_layer): Sequential(\n",
       "    (0): Conv1d(512, 84, kernel_size=(3,), stride=(1,), padding=(1,))\n",
       "    (1): Sigmoid()\n",
       "  )\n",
       ")"
      ]
     },
     "execution_count": 57,
     "metadata": {},
     "output_type": "execute_result"
    }
   ],
   "source": [
    "model.load_state_dict(torch.load(\"best_model.pth\"))  # Load the trained model weights\n",
    "model.eval()  # Set the model to evaluation mode\n"
   ]
  },
  {
   "cell_type": "code",
   "execution_count": null,
   "metadata": {},
   "outputs": [
    {
     "name": "stdout",
     "output_type": "stream",
     "text": [
      "Test Loss: 0.001761823077686131\n"
     ]
    }
   ],
   "source": [
    "import torch\n",
    "\n",
    "# Disable gradient computation for evaluation\n",
    "with torch.no_grad():\n",
    "    total_loss = 0\n",
    "    # full_reconstruction = torch.Tensor([])\n",
    "    for x in synth_test_loader:\n",
    "        # inputs, _ = batch  # Adjust this based on your data structure\n",
    "        outputs, encoded = model(x)  # Forward pass through the model\n",
    "        \n",
    "        # Compute loss (if applicable)\n",
    "        # full_reconstruction = torch.cat((full_reconstruction, outputs), dim=0)\n",
    "        loss = custom_loss(x, outputs, encoded, sparsity_weight)  # Replace `loss_function` with your criterion\n",
    "        total_loss += loss.item()\n",
    "        \n",
    "        # You can also compute additional metrics like accuracy or reconstruction error here\n",
    "\n",
    "print(f\"Test Loss: {total_loss / len(synth_test_loader)}\")\n"
   ]
  },
  {
   "cell_type": "code",
   "execution_count": 256,
   "metadata": {},
   "outputs": [
    {
     "name": "stdout",
     "output_type": "stream",
     "text": [
      "Batch shape: torch.Size([29, 1000, 84])\n",
      "Single sample shape: torch.Size([1, 1000, 84])\n"
     ]
    },
    {
     "data": {
      "image/png": "[encoded data removed]",
      "text/plain": [
       "<Figure size 640x480 with 1 Axes>"
      ]
     },
     "metadata": {},
     "output_type": "display_data"
    }
   ],
   "source": [
    "# Access the first batch of the test dataloader\n",
    "with torch.no_grad():\n",
    "    # Get the first batch from the dataloader\n",
    "    for x in synth_test_loader:\n",
    "        # x will have the shape (batch_size, seq_len, num_features)\n",
    "        print(\"Batch shape:\", x.shape)\n",
    "        \n",
    "        # Use only the first element in the batch\n",
    "        x_sample = x[0].unsqueeze(0)  # Shape: (1, seq_len, num_features)\n",
    "        print(\"Single sample shape:\", x_sample.shape)\n",
    "        \n",
    "        # Pass it through the model\n",
    "        reconstructed, _ = model(x_sample)\n",
    "        \n",
    "        # Remove batch dimension for visualization\n",
    "        x_sample = x_sample.squeeze(0)  # Shape: (seq_len, num_features)\n",
    "        reconstructed = reconstructed.squeeze(0)  # Shape: (seq_len, num_features)\n",
    "        \n",
    "        # Plot the original and reconstructed signal for one feature\n",
    "        feature_index = 2  # Adjust to visualize a specific feature\n",
    "        plt.plot(x_sample[:, feature_index].cpu().numpy(), label=\"Original\")\n",
    "        plt.plot(reconstructed[:, feature_index].cpu().numpy(), label=\"Reconstructed\")\n",
    "        plt.legend()\n",
    "        plt.title(f\"Signal: {df.columns[feature_index]}\")\n",
    "        plt.ylim([0,1])\n",
    "        plt.show()\n",
    "        \n",
    "        # Break after first batch\n",
    "        break\n"
   ]
  }
 ],
 "metadata": {
  "kernelspec": {
   "display_name": "civil-426",
   "language": "python",
   "name": "python3"
  },
  "language_info": {
   "codemirror_mode": {
    "name": "ipython",
    "version": 3
   },
   "file_extension": ".py",
   "mimetype": "text/x-python",
   "name": "python",
   "nbconvert_exporter": "python",
   "pygments_lexer": "ipython3",
   "version": "3.12.5"
  }
 },
 "nbformat": 4,
 "nbformat_minor": 2
}
